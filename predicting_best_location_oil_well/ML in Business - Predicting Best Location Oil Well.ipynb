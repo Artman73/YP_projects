{
 "cells": [
  {
   "cell_type": "markdown",
   "metadata": {},
   "source": [
    "# Выбор локации для скважины"
   ]
  },
  {
   "cell_type": "markdown",
   "metadata": {},
   "source": [
    "Допустим, мы работаем в добывающей компании «ГлавРосГосНефть». Нужно решить, где бурить новую скважину.\n",
    "\n",
    "Нам предоставлены пробы нефти в трёх регионах: в каждом 10 000 месторождений, где измерили качество нефти и объём её запасов. Построим модель машинного обучения, которая поможет определить регион, где добыча принесёт наибольшую прибыль. Проанализируем возможную прибыль и риски техникой *Bootstrap.*\n",
    "\n",
    "Шаги для выбора локации:\n",
    "\n",
    "- В избранном регионе ищут месторождения, для каждого определяют значения признаков;\n",
    "- Строят модель и оценивают объём запасов;\n",
    "- Выбирают месторождения с самым высокими оценками значений. Количество месторождений зависит от бюджета компании и стоимости разработки одной скважины;\n",
    "- Прибыль равна суммарной прибыли отобранных месторождений."
   ]
  },
  {
   "cell_type": "markdown",
   "metadata": {},
   "source": [
    "## Загрузка и подготовка данных"
   ]
  },
  {
   "cell_type": "code",
   "execution_count": 1,
   "metadata": {},
   "outputs": [],
   "source": [
    "#Импорт библиотек\n",
    "import pandas as pd\n",
    "import numpy as np\n",
    "from scipy import stats as st\n",
    "\n",
    "#хитмэп корреляции\n",
    "import os\n",
    "import seaborn as sns\n",
    "\n",
    "#операции с выборкой\n",
    "from sklearn.model_selection import train_test_split\n",
    "\n",
    "#сохранение модели\n",
    "import joblib \n",
    "from joblib import dump\n",
    "\n",
    "#классификация\n",
    "from sklearn.tree import DecisionTreeClassifier\n",
    "from sklearn.ensemble import RandomForestClassifier\n",
    "from sklearn.linear_model import LogisticRegression \n",
    "\n",
    "#регрессия\n",
    "from sklearn.tree import DecisionTreeRegressor\n",
    "from sklearn.ensemble import RandomForestRegressor\n",
    "from sklearn.linear_model import LinearRegression\n",
    "\n",
    "#преобразователь масштаба методом стандартизации\n",
    "from sklearn.preprocessing import StandardScaler\n",
    "\n",
    "#метрики\n",
    "from sklearn.metrics import f1_score\n",
    "from sklearn.metrics import accuracy_score\n",
    "from sklearn.metrics import mean_squared_error\n",
    "\n",
    "#подбор параметров\n",
    "from sklearn.model_selection import GridSearchCV\n",
    "from sklearn.model_selection import RandomizedSearchCV\n",
    "\n",
    "#построение ROC-кривой\n",
    "import matplotlib.pyplot as plt\n",
    "from sklearn.metrics import roc_curve \n",
    "from sklearn import metrics\n",
    "from sklearn.metrics import roc_auc_score\n",
    "\n",
    "#раздел upsampling\n",
    "from sklearn.utils import shuffle"
   ]
  },
  {
   "cell_type": "code",
   "execution_count": 2,
   "metadata": {},
   "outputs": [],
   "source": [
    "#Уберем предупреждения:\n",
    "\n",
    "#D:\\installed\\anaconda3\\envs\\praktikum_env_win_new\\lib\\site-packages\\sklearn\\utils\\fixes.py:223: DeprecationWarning: distutils Version classes are deprecated. Use packaging.version instead.if _joblib.__version__ >= LooseVersion('0.12'):\n",
    "import warnings\n",
    "warnings.filterwarnings('ignore')\n",
    "\n",
    "#SettingWithCopy \n",
    "#при записи изменённых признаков в исходный датафрейм (особенности поведения sklearn и pandas)\n",
    "pd.options.mode.chained_assignment = None\n",
    "\n",
    "#отключим предупреждением библиотеки sklearn при обучении логистической регрессии, \n",
    "#укажем аргумент solver='liblinear' (англ. solver «алгоритм решения»; library linear, «библиотека линейных алгоритмов»)"
   ]
  },
  {
   "cell_type": "code",
   "execution_count": 3,
   "metadata": {},
   "outputs": [],
   "source": [
    "#загрузим датасет\n",
    "try:\n",
    "    df_0 = pd.read_csv('geo_data_0.csv')\n",
    "    df_1 = pd.read_csv('geo_data_1.csv')\n",
    "    df_2 = pd.read_csv('geo_data_2.csv')        \n",
    "except FileNotFoundError:\n",
    "    df_0 = pd.read_csv('/datasets/geo_data_0.csv')\n",
    "    df_1 = pd.read_csv('/datasets/geo_data_1.csv')\n",
    "    df_2 = pd.read_csv('/datasets/geo_data_2.csv')  "
   ]
  },
  {
   "cell_type": "code",
   "execution_count": 4,
   "metadata": {
    "scrolled": true
   },
   "outputs": [
    {
     "name": "stdout",
     "output_type": "stream",
     "text": [
      "id          object\n",
      "f0         float64\n",
      "f1         float64\n",
      "f2         float64\n",
      "product    float64\n",
      "dtype: object\n"
     ]
    },
    {
     "data": {
      "text/html": [
       "<div>\n",
       "<style scoped>\n",
       "    .dataframe tbody tr th:only-of-type {\n",
       "        vertical-align: middle;\n",
       "    }\n",
       "\n",
       "    .dataframe tbody tr th {\n",
       "        vertical-align: top;\n",
       "    }\n",
       "\n",
       "    .dataframe thead th {\n",
       "        text-align: right;\n",
       "    }\n",
       "</style>\n",
       "<table border=\"1\" class=\"dataframe\">\n",
       "  <thead>\n",
       "    <tr style=\"text-align: right;\">\n",
       "      <th></th>\n",
       "      <th>id</th>\n",
       "      <th>f0</th>\n",
       "      <th>f1</th>\n",
       "      <th>f2</th>\n",
       "      <th>product</th>\n",
       "    </tr>\n",
       "  </thead>\n",
       "  <tbody>\n",
       "    <tr>\n",
       "      <th>0</th>\n",
       "      <td>txEyH</td>\n",
       "      <td>0.705745</td>\n",
       "      <td>-0.497823</td>\n",
       "      <td>1.221170</td>\n",
       "      <td>105.280062</td>\n",
       "    </tr>\n",
       "    <tr>\n",
       "      <th>1</th>\n",
       "      <td>2acmU</td>\n",
       "      <td>1.334711</td>\n",
       "      <td>-0.340164</td>\n",
       "      <td>4.365080</td>\n",
       "      <td>73.037750</td>\n",
       "    </tr>\n",
       "    <tr>\n",
       "      <th>2</th>\n",
       "      <td>409Wp</td>\n",
       "      <td>1.022732</td>\n",
       "      <td>0.151990</td>\n",
       "      <td>1.419926</td>\n",
       "      <td>85.265647</td>\n",
       "    </tr>\n",
       "    <tr>\n",
       "      <th>3</th>\n",
       "      <td>iJLyR</td>\n",
       "      <td>-0.032172</td>\n",
       "      <td>0.139033</td>\n",
       "      <td>2.978566</td>\n",
       "      <td>168.620776</td>\n",
       "    </tr>\n",
       "    <tr>\n",
       "      <th>4</th>\n",
       "      <td>Xdl7t</td>\n",
       "      <td>1.988431</td>\n",
       "      <td>0.155413</td>\n",
       "      <td>4.751769</td>\n",
       "      <td>154.036647</td>\n",
       "    </tr>\n",
       "  </tbody>\n",
       "</table>\n",
       "</div>"
      ],
      "text/plain": [
       "      id        f0        f1        f2     product\n",
       "0  txEyH  0.705745 -0.497823  1.221170  105.280062\n",
       "1  2acmU  1.334711 -0.340164  4.365080   73.037750\n",
       "2  409Wp  1.022732  0.151990  1.419926   85.265647\n",
       "3  iJLyR -0.032172  0.139033  2.978566  168.620776\n",
       "4  Xdl7t  1.988431  0.155413  4.751769  154.036647"
      ]
     },
     "metadata": {},
     "output_type": "display_data"
    },
    {
     "name": "stdout",
     "output_type": "stream",
     "text": [
      "<class 'pandas.core.frame.DataFrame'>\n",
      "RangeIndex: 100000 entries, 0 to 99999\n",
      "Data columns (total 5 columns):\n",
      " #   Column   Non-Null Count   Dtype  \n",
      "---  ------   --------------   -----  \n",
      " 0   id       100000 non-null  object \n",
      " 1   f0       100000 non-null  float64\n",
      " 2   f1       100000 non-null  float64\n",
      " 3   f2       100000 non-null  float64\n",
      " 4   product  100000 non-null  float64\n",
      "dtypes: float64(4), object(1)\n",
      "memory usage: 3.8+ MB\n",
      "\n",
      "id          object\n",
      "f0         float64\n",
      "f1         float64\n",
      "f2         float64\n",
      "product    float64\n",
      "dtype: object\n"
     ]
    },
    {
     "data": {
      "text/html": [
       "<div>\n",
       "<style scoped>\n",
       "    .dataframe tbody tr th:only-of-type {\n",
       "        vertical-align: middle;\n",
       "    }\n",
       "\n",
       "    .dataframe tbody tr th {\n",
       "        vertical-align: top;\n",
       "    }\n",
       "\n",
       "    .dataframe thead th {\n",
       "        text-align: right;\n",
       "    }\n",
       "</style>\n",
       "<table border=\"1\" class=\"dataframe\">\n",
       "  <thead>\n",
       "    <tr style=\"text-align: right;\">\n",
       "      <th></th>\n",
       "      <th>id</th>\n",
       "      <th>f0</th>\n",
       "      <th>f1</th>\n",
       "      <th>f2</th>\n",
       "      <th>product</th>\n",
       "    </tr>\n",
       "  </thead>\n",
       "  <tbody>\n",
       "    <tr>\n",
       "      <th>0</th>\n",
       "      <td>kBEdx</td>\n",
       "      <td>-15.001348</td>\n",
       "      <td>-8.276000</td>\n",
       "      <td>-0.005876</td>\n",
       "      <td>3.179103</td>\n",
       "    </tr>\n",
       "    <tr>\n",
       "      <th>1</th>\n",
       "      <td>62mP7</td>\n",
       "      <td>14.272088</td>\n",
       "      <td>-3.475083</td>\n",
       "      <td>0.999183</td>\n",
       "      <td>26.953261</td>\n",
       "    </tr>\n",
       "    <tr>\n",
       "      <th>2</th>\n",
       "      <td>vyE1P</td>\n",
       "      <td>6.263187</td>\n",
       "      <td>-5.948386</td>\n",
       "      <td>5.001160</td>\n",
       "      <td>134.766305</td>\n",
       "    </tr>\n",
       "    <tr>\n",
       "      <th>3</th>\n",
       "      <td>KcrkZ</td>\n",
       "      <td>-13.081196</td>\n",
       "      <td>-11.506057</td>\n",
       "      <td>4.999415</td>\n",
       "      <td>137.945408</td>\n",
       "    </tr>\n",
       "    <tr>\n",
       "      <th>4</th>\n",
       "      <td>AHL4O</td>\n",
       "      <td>12.702195</td>\n",
       "      <td>-8.147433</td>\n",
       "      <td>5.004363</td>\n",
       "      <td>134.766305</td>\n",
       "    </tr>\n",
       "  </tbody>\n",
       "</table>\n",
       "</div>"
      ],
      "text/plain": [
       "      id         f0         f1        f2     product\n",
       "0  kBEdx -15.001348  -8.276000 -0.005876    3.179103\n",
       "1  62mP7  14.272088  -3.475083  0.999183   26.953261\n",
       "2  vyE1P   6.263187  -5.948386  5.001160  134.766305\n",
       "3  KcrkZ -13.081196 -11.506057  4.999415  137.945408\n",
       "4  AHL4O  12.702195  -8.147433  5.004363  134.766305"
      ]
     },
     "metadata": {},
     "output_type": "display_data"
    },
    {
     "name": "stdout",
     "output_type": "stream",
     "text": [
      "<class 'pandas.core.frame.DataFrame'>\n",
      "RangeIndex: 100000 entries, 0 to 99999\n",
      "Data columns (total 5 columns):\n",
      " #   Column   Non-Null Count   Dtype  \n",
      "---  ------   --------------   -----  \n",
      " 0   id       100000 non-null  object \n",
      " 1   f0       100000 non-null  float64\n",
      " 2   f1       100000 non-null  float64\n",
      " 3   f2       100000 non-null  float64\n",
      " 4   product  100000 non-null  float64\n",
      "dtypes: float64(4), object(1)\n",
      "memory usage: 3.8+ MB\n",
      "\n",
      "id          object\n",
      "f0         float64\n",
      "f1         float64\n",
      "f2         float64\n",
      "product    float64\n",
      "dtype: object\n"
     ]
    },
    {
     "data": {
      "text/html": [
       "<div>\n",
       "<style scoped>\n",
       "    .dataframe tbody tr th:only-of-type {\n",
       "        vertical-align: middle;\n",
       "    }\n",
       "\n",
       "    .dataframe tbody tr th {\n",
       "        vertical-align: top;\n",
       "    }\n",
       "\n",
       "    .dataframe thead th {\n",
       "        text-align: right;\n",
       "    }\n",
       "</style>\n",
       "<table border=\"1\" class=\"dataframe\">\n",
       "  <thead>\n",
       "    <tr style=\"text-align: right;\">\n",
       "      <th></th>\n",
       "      <th>id</th>\n",
       "      <th>f0</th>\n",
       "      <th>f1</th>\n",
       "      <th>f2</th>\n",
       "      <th>product</th>\n",
       "    </tr>\n",
       "  </thead>\n",
       "  <tbody>\n",
       "    <tr>\n",
       "      <th>0</th>\n",
       "      <td>fwXo0</td>\n",
       "      <td>-1.146987</td>\n",
       "      <td>0.963328</td>\n",
       "      <td>-0.828965</td>\n",
       "      <td>27.758673</td>\n",
       "    </tr>\n",
       "    <tr>\n",
       "      <th>1</th>\n",
       "      <td>WJtFt</td>\n",
       "      <td>0.262778</td>\n",
       "      <td>0.269839</td>\n",
       "      <td>-2.530187</td>\n",
       "      <td>56.069697</td>\n",
       "    </tr>\n",
       "    <tr>\n",
       "      <th>2</th>\n",
       "      <td>ovLUW</td>\n",
       "      <td>0.194587</td>\n",
       "      <td>0.289035</td>\n",
       "      <td>-5.586433</td>\n",
       "      <td>62.871910</td>\n",
       "    </tr>\n",
       "    <tr>\n",
       "      <th>3</th>\n",
       "      <td>q6cA6</td>\n",
       "      <td>2.236060</td>\n",
       "      <td>-0.553760</td>\n",
       "      <td>0.930038</td>\n",
       "      <td>114.572842</td>\n",
       "    </tr>\n",
       "    <tr>\n",
       "      <th>4</th>\n",
       "      <td>WPMUX</td>\n",
       "      <td>-0.515993</td>\n",
       "      <td>1.716266</td>\n",
       "      <td>5.899011</td>\n",
       "      <td>149.600746</td>\n",
       "    </tr>\n",
       "  </tbody>\n",
       "</table>\n",
       "</div>"
      ],
      "text/plain": [
       "      id        f0        f1        f2     product\n",
       "0  fwXo0 -1.146987  0.963328 -0.828965   27.758673\n",
       "1  WJtFt  0.262778  0.269839 -2.530187   56.069697\n",
       "2  ovLUW  0.194587  0.289035 -5.586433   62.871910\n",
       "3  q6cA6  2.236060 -0.553760  0.930038  114.572842\n",
       "4  WPMUX -0.515993  1.716266  5.899011  149.600746"
      ]
     },
     "metadata": {},
     "output_type": "display_data"
    },
    {
     "name": "stdout",
     "output_type": "stream",
     "text": [
      "<class 'pandas.core.frame.DataFrame'>\n",
      "RangeIndex: 100000 entries, 0 to 99999\n",
      "Data columns (total 5 columns):\n",
      " #   Column   Non-Null Count   Dtype  \n",
      "---  ------   --------------   -----  \n",
      " 0   id       100000 non-null  object \n",
      " 1   f0       100000 non-null  float64\n",
      " 2   f1       100000 non-null  float64\n",
      " 3   f2       100000 non-null  float64\n",
      " 4   product  100000 non-null  float64\n",
      "dtypes: float64(4), object(1)\n",
      "memory usage: 3.8+ MB\n",
      "\n"
     ]
    }
   ],
   "source": [
    "#выведем типы признаков данных в таблице\n",
    "for df in [df_0, df_1, df_2]:\n",
    "    print(df.dtypes)\n",
    "    display(df.head())\n",
    "    df.info()\n",
    "    df.describe()\n",
    "    print()"
   ]
  },
  {
   "cell_type": "code",
   "execution_count": 5,
   "metadata": {
    "scrolled": true
   },
   "outputs": [
    {
     "name": "stdout",
     "output_type": "stream",
     "text": [
      "<class 'pandas.core.frame.DataFrame'>\n",
      "RangeIndex: 100000 entries, 0 to 99999\n",
      "Data columns (total 4 columns):\n",
      " #   Column   Non-Null Count   Dtype  \n",
      "---  ------   --------------   -----  \n",
      " 0   f0       100000 non-null  float64\n",
      " 1   f1       100000 non-null  float64\n",
      " 2   f2       100000 non-null  float64\n",
      " 3   product  100000 non-null  float64\n",
      "dtypes: float64(4)\n",
      "memory usage: 3.1 MB\n",
      "<class 'pandas.core.frame.DataFrame'>\n",
      "RangeIndex: 100000 entries, 0 to 99999\n",
      "Data columns (total 4 columns):\n",
      " #   Column   Non-Null Count   Dtype  \n",
      "---  ------   --------------   -----  \n",
      " 0   f0       100000 non-null  float64\n",
      " 1   f1       100000 non-null  float64\n",
      " 2   f2       100000 non-null  float64\n",
      " 3   product  100000 non-null  float64\n",
      "dtypes: float64(4)\n",
      "memory usage: 3.1 MB\n",
      "<class 'pandas.core.frame.DataFrame'>\n",
      "RangeIndex: 100000 entries, 0 to 99999\n",
      "Data columns (total 4 columns):\n",
      " #   Column   Non-Null Count   Dtype  \n",
      "---  ------   --------------   -----  \n",
      " 0   f0       100000 non-null  float64\n",
      " 1   f1       100000 non-null  float64\n",
      " 2   f2       100000 non-null  float64\n",
      " 3   product  100000 non-null  float64\n",
      "dtypes: float64(4)\n",
      "memory usage: 3.1 MB\n"
     ]
    }
   ],
   "source": [
    "# \n",
    "#for df in [df_0, df_1, df_2]:\n",
    "#    df.info()\n",
    "#    df = df.drop(columns=['id'], axis=1)\n",
    "#    df.info()\n",
    "#   print()\n",
    "\n",
    "df_0 = df_0.drop(columns=['id'], axis=1)\n",
    "df_1 = df_1.drop(columns=['id'], axis=1)\n",
    "df_2 = df_2.drop(columns=['id'], axis=1)\n",
    "\n",
    "df_0.info()\n",
    "df_1.info()\n",
    "df_2.info()"
   ]
  },
  {
   "cell_type": "code",
   "execution_count": 6,
   "metadata": {},
   "outputs": [
    {
     "data": {
      "image/png": "[encoded data removed]",
      "text/plain": [
       "<Figure size 432x288 with 2 Axes>"
      ]
     },
     "metadata": {
      "needs_background": "light"
     },
     "output_type": "display_data"
    },
    {
     "data": {
      "image/png": "[encoded data removed]",
      "text/plain": [
       "<Figure size 432x288 with 2 Axes>"
      ]
     },
     "metadata": {
      "needs_background": "light"
     },
     "output_type": "display_data"
    },
    {
     "data": {
      "image/png": "[encoded data removed]",
      "text/plain": [
       "<Figure size 432x288 with 2 Axes>"
      ]
     },
     "metadata": {
      "needs_background": "light"
     },
     "output_type": "display_data"
    }
   ],
   "source": [
    "#проверим корреляцию признаков\n",
    "i=0\n",
    "for df in [df_0, df_1, df_2]:\n",
    "    #Numeric columns of the dataset\n",
    "    numeric_col = ['f0','f1','f2', 'product']\n",
    "    #Correlation Matrix formation\n",
    "    corr_matrix = df.loc[:,numeric_col].corr()\n",
    "    #Using heatmap to visualize the correlation matrix\n",
    "    plt.show()\n",
    "    sns.heatmap(df.corr(), annot=True, fmt='.2g', square=True, center= 0)\n",
    "    plt.xlabel('df_' + str(i))\n",
    "    i +=1"
   ]
  },
  {
   "cell_type": "code",
   "execution_count": 7,
   "metadata": {
    "scrolled": true
   },
   "outputs": [
    {
     "data": {
      "image/png": "[encoded data removed]",
      "text/plain": [
       "<Figure size 432x288 with 2 Axes>"
      ]
     },
     "metadata": {
      "needs_background": "light"
     },
     "output_type": "display_data"
    },
    {
     "data": {
      "image/png": "[encoded data removed]",
      "text/plain": [
       "<Figure size 432x288 with 2 Axes>"
      ]
     },
     "metadata": {
      "needs_background": "light"
     },
     "output_type": "display_data"
    },
    {
     "data": {
      "image/png": "[encoded data removed]",
      "text/plain": [
       "<Figure size 432x288 with 2 Axes>"
      ]
     },
     "metadata": {
      "needs_background": "light"
     },
     "output_type": "display_data"
    }
   ],
   "source": [
    "#проверим корреляцию признаков\n",
    "i=0\n",
    "for df in [df_0, df_1, df_2]:\n",
    "    #Numeric columns of the dataset\n",
    "    numeric_col = ['f0','f1','f2', 'product']\n",
    "    #Correlation Matrix formation\n",
    "    corr_matrix = df.loc[:,numeric_col].corr()\n",
    "    #Using heatmap to visualize the correlation matrix\n",
    "    plt.show()\n",
    "    sns.heatmap(df.corr(), annot=True, fmt='.2g', square=True, center= 0)\n",
    "    plt.xlabel('df_' + str(i))\n",
    "    i+=1"
   ]
  },
  {
   "cell_type": "markdown",
   "metadata": {},
   "source": [
    "### Вывод\n",
    "    -мы удалили столбец id тк не несет важной информации для обучеия модели\n",
    "    -согласно шкале Чеддока - между продуктом и признаками, наблюдаем    \n",
    "    --в регионе 0: очень слабую и слабую связь         \n",
    "    --в регионе 1: очень слабую и очень высокую\n",
    "    --в регионе 2: очень слабую и слабую связь            "
   ]
  },
  {
   "cell_type": "markdown",
   "metadata": {},
   "source": [
    "## Обучение и проверка модели"
   ]
  },
  {
   "cell_type": "markdown",
   "metadata": {},
   "source": [
    "### Разделим данные на обучающую и валидационную выборки в соотношении 75:25."
   ]
  },
  {
   "cell_type": "code",
   "execution_count": 31,
   "metadata": {},
   "outputs": [
    {
     "name": "stdout",
     "output_type": "stream",
     "text": [
      "features_0 (100000, 3)\n",
      "target_0 (100000,)\n",
      "features_train_0 (75000, 3)\n",
      "target_train_0 (75000,)\n",
      "features_valid_0 (25000, 3)\n",
      "target_valid_0 (25000,)\n"
     ]
    }
   ],
   "source": [
    "features_0 = df_0.drop(['product'] , axis=1)\n",
    "target_0 = df_0['product']\n",
    "\n",
    "features_train_0, features_valid_0, target_train_0, target_valid_0 = train_test_split(\n",
    "    features_0, target_0, test_size=0.25, random_state=12345)\n",
    "\n",
    "print('features_0', features_0.shape)\n",
    "print('target_0', target_0.shape)\n",
    "\n",
    "print('features_train_0', features_train_0.shape)\n",
    "print('target_train_0', target_train_0.shape)\n",
    "\n",
    "print('features_valid_0', features_valid_0.shape)\n",
    "print('target_valid_0', target_valid_0.shape)"
   ]
  },
  {
   "cell_type": "code",
   "execution_count": 32,
   "metadata": {},
   "outputs": [
    {
     "name": "stdout",
     "output_type": "stream",
     "text": [
      "features_1 (100000, 3)\n",
      "target_1 (100000, 3)\n",
      "features_train_1 (75000, 3)\n",
      "target_train_1 (25000, 3)\n",
      "features_valid_1 (75000, 3)\n",
      "target_valid_1 (25000, 3)\n"
     ]
    }
   ],
   "source": [
    "features_1 = df_1.drop(['product'] , axis=1)\n",
    "target_1 = df_1['product']\n",
    "\n",
    "features_train_1, features_valid_1, target_train_1, target_valid_1 = train_test_split(\n",
    "    features_1, target_1, test_size=0.25, random_state=12345)\n",
    "\n",
    "print('features_1', features_1.shape)\n",
    "print('target_1', features_1.shape)\n",
    "\n",
    "print('features_train_1', features_train_1.shape)\n",
    "print('target_train_1', features_valid_1.shape)\n",
    "\n",
    "print('features_valid_1', features_train_1.shape)\n",
    "print('target_valid_1', features_valid_1.shape)"
   ]
  },
  {
   "cell_type": "code",
   "execution_count": 33,
   "metadata": {},
   "outputs": [
    {
     "name": "stdout",
     "output_type": "stream",
     "text": [
      "features_2 (100000, 3)\n",
      "target_2 (100000, 3)\n",
      "features_train_2 (75000, 3)\n",
      "target_train_2 (25000, 3)\n",
      "features_valid_2 (75000, 3)\n",
      "target_valid_2 (25000, 3)\n"
     ]
    }
   ],
   "source": [
    "features_2 = df_2.drop(['product'] , axis=1)\n",
    "target_2 = df_2['product']\n",
    "\n",
    "features_train_2, features_valid_2, target_train_2, target_valid_2 = train_test_split(\n",
    "    features_2, target_2, test_size=0.25, random_state=12345)\n",
    "\n",
    "print('features_2', features_2.shape)\n",
    "print('target_2', features_2.shape)\n",
    "\n",
    "print('features_train_2', features_train_2.shape)\n",
    "print('target_train_2', features_valid_2.shape)\n",
    "\n",
    "print('features_valid_2', features_train_2.shape)\n",
    "print('target_valid_2', features_valid_2.shape)"
   ]
  },
  {
   "cell_type": "markdown",
   "metadata": {},
   "source": [
    "### Обучите модель и сделаем предсказания на валидационной выборке.\n",
    "    -Сохраним предсказания и правильные ответы на валидационной выборке.\n",
    "    -Напечатаем на экране средний запас предсказанного сырья и RMSE модели."
   ]
  },
  {
   "cell_type": "code",
   "execution_count": 34,
   "metadata": {},
   "outputs": [
    {
     "name": "stdout",
     "output_type": "stream",
     "text": [
      "avg_predicted_raw_0 = 92.59256778438035\n",
      "RMSE = 37.5794217150813\n"
     ]
    }
   ],
   "source": [
    "model = LinearRegression()\n",
    "\n",
    "model.fit(features_train_0, target_train_0)\n",
    "predictions_valid_0 = model.predict(features_valid_0)\n",
    "\n",
    "\n",
    "avg_predicted_raw_0 = predictions_valid_0.mean()\n",
    "print(\"avg_predicted_raw_0 =\", avg_predicted_raw_0)\n",
    "\n",
    "mse = mean_squared_error(target_valid_0, predictions_valid_0)\n",
    "print(\"RMSE =\", mse ** 0.5)"
   ]
  },
  {
   "cell_type": "code",
   "execution_count": 35,
   "metadata": {},
   "outputs": [
    {
     "name": "stdout",
     "output_type": "stream",
     "text": [
      "avg_predicted_raw_1 = 68.728546895446\n",
      "RMSE = 0.893099286775617\n"
     ]
    }
   ],
   "source": [
    "model = LinearRegression()\n",
    "\n",
    "model.fit(features_train_1, target_train_1)\n",
    "predictions_valid_1 = model.predict(features_valid_1)\n",
    "\n",
    "\n",
    "avg_predicted_raw_1 = predictions_valid_1.mean()\n",
    "print(\"avg_predicted_raw_1 =\", avg_predicted_raw_1)\n",
    "\n",
    "mse = mean_squared_error(target_valid_1, predictions_valid_1)\n",
    "print(\"RMSE =\", mse ** 0.5)"
   ]
  },
  {
   "cell_type": "code",
   "execution_count": 36,
   "metadata": {},
   "outputs": [
    {
     "name": "stdout",
     "output_type": "stream",
     "text": [
      "avg_predicted_raw_2 = 94.96504596800489\n",
      "RMSE = 40.02970873393434\n"
     ]
    }
   ],
   "source": [
    "model = LinearRegression()\n",
    "\n",
    "model.fit(features_train_2, target_train_2)\n",
    "predictions_valid_2 = model.predict(features_valid_2)\n",
    "\n",
    "\n",
    "avg_predicted_raw_2 = predictions_valid_2.mean()\n",
    "print(\"avg_predicted_raw_2 =\", avg_predicted_raw_2)\n",
    "\n",
    "mse = mean_squared_error(target_valid_2, predictions_valid_2)\n",
    "print(\"RMSE =\", mse ** 0.5)"
   ]
  },
  {
   "cell_type": "markdown",
   "metadata": {},
   "source": [
    "### Вывод\n",
    "    -мы разбили данные на выборки и обучили модель\n",
    "    -средний запас от 68.72854689544599 до 94.96504596800489 единиц предсказанного сырья, т.е тысяч баррелей\n",
    "    -RMSE модели от 37.5794217150813 до 0.8930992867756169    "
   ]
  },
  {
   "cell_type": "markdown",
   "metadata": {},
   "source": [
    "## Подготовка к расчёту прибыли"
   ]
  },
  {
   "cell_type": "markdown",
   "metadata": {},
   "source": [
    "### Все ключевые значения для расчётов сохраним в отдельных переменных (сохранили выше)"
   ]
  },
  {
   "cell_type": "markdown",
   "metadata": {},
   "source": [
    "### Рассчитаем достаточный объём сырья для безубыточной разработки новой скважины. Сравним полученный объём сырья со средним запасом в каждом регионе.\n"
   ]
  },
  {
   "cell_type": "markdown",
   "metadata": {},
   "source": [
    "    Условия задачи:\n",
    "    \n",
    "    Для обучения модели подходит только линейная регрессия (остальные — недостаточно предсказуемые).    \n",
    "    При разведке региона исследуют 500 точек, из которых с помощью машинного обучения выбирают 200 лучших для разработки.    \n",
    "    Бюджет на разработку скважин в регионе — 10 млрд рублей.    \n",
    "    При нынешних ценах один баррель сырья приносит 450 рублей дохода. Доход с каждой единицы продукта составляет 450 тыс. рублей, поскольку объём указан в тысячах баррелей.    \n",
    "    После оценки рисков нужно оставить лишь те регионы, в которых вероятность убытков меньше 2.5%. Среди них выбирают регион с наибольшей средней прибылью.\n",
    "      \n",
    "    Резюмируем: 500точек, 10 000 000 000р на все скважины, 1 баррель 450р, доход с 1 единицы 450 000р, тк 1 единица это 1000 баррелей"
   ]
  },
  {
   "cell_type": "code",
   "execution_count": 37,
   "metadata": {},
   "outputs": [
    {
     "name": "stdout",
     "output_type": "stream",
     "text": [
      "avg_break_even_1_ow_rub 50000000.0\n",
      "avg_break_even_1_ow_unit 111.11111111111111\n"
     ]
    }
   ],
   "source": [
    "points = 500\n",
    "\n",
    "oilwells = 200 #далее 'ow'\n",
    "price_1_bar_rub = 450\n",
    "budget_rub = 10000000000\n",
    "\n",
    "#стоимость 1 единицы продукта в рублях (1000 баррелей)\n",
    "price_1_kbar_rub = price_1_bar_rub * 1000\n",
    "\n",
    "#рассчитаем сколько рублей мы должны получить с одной точки(скважины) в среднем -без убытка\n",
    "avg_break_even_1_ow_rub = budget_rub/oilwells\n",
    "print('avg_break_even_1_ow_rub', avg_break_even_1_ow_rub)\n",
    "\n",
    "#рассчитаем сколько единиц продукта мы должны получить с одной точки(скважины) в среднем -без убытка\n",
    "avg_break_even_1_ow_unit = avg_break_even_1_ow_rub/ price_1_kbar_rub\n",
    "print('avg_break_even_1_ow_unit', avg_break_even_1_ow_unit)"
   ]
  },
  {
   "cell_type": "code",
   "execution_count": 38,
   "metadata": {},
   "outputs": [
    {
     "name": "stdout",
     "output_type": "stream",
     "text": [
      "регион: 0\n",
      "среднее 92.50000000000001\n",
      "медиана 91.84997204396296\n",
      "\n",
      "регион: 1\n",
      "среднее 68.82500000000002\n",
      "медиана 57.08562464628662\n",
      "\n",
      "регион: 2\n",
      "среднее 95.00000000000004\n",
      "медиана 94.92561258990247\n",
      "\n"
     ]
    }
   ],
   "source": [
    "#рассчитаем сколько в среднем единиц продукта а каждом из регионов\n",
    "cnt = 0\n",
    "for df in [df_0, df_1, df_2]:   \n",
    "    print('регион:', cnt) \n",
    "    print('среднее', df['product'].mean())\n",
    "    print('медиана', df['product'].median())\n",
    "    print()\n",
    "    cnt += 1"
   ]
  },
  {
   "cell_type": "markdown",
   "metadata": {},
   "source": [
    "### Напишем выводы по этапу подготовки расчёта прибыли.\n",
    "    -мы рассчитали сколько рублей мы должны получить с одной точки(скважины) в среднем -без убытка - 50000000.0 руб\n",
    "    -111.11111111111111единиц продукта мы должны получить с одной точки(скважины) в среднем -без убытка"
   ]
  },
  {
   "cell_type": "markdown",
   "metadata": {},
   "source": [
    "## Напишем функцию для расчёта прибыли по выбранным скважинам и предсказаниям модели:\n",
    "    -Выберем скважины с максимальными значениями предсказаний.\n",
    "    -Просуммируем целевое значение объёма сырья, соответствующее этим предсказаниям.\n",
    "    -Рассчитаем прибыль для полученного объёма сырья."
   ]
  },
  {
   "cell_type": "code",
   "execution_count": 75,
   "metadata": {},
   "outputs": [
    {
     "data": {
      "text/plain": [
       "-1259258892.6866302"
      ]
     },
     "execution_count": 75,
     "metadata": {},
     "output_type": "execute_result"
    }
   ],
   "source": [
    "def profit(target, predict, price_1_kbar_rub, budget_rub):\n",
    "    predict = pd.Series(predict)\n",
    "    \n",
    "    predict_sorted = predict.sort_values(ascending=False)\n",
    "    selected_points = target[predict_sorted.index][:200] #выберем факт. объемы нефти с индексами двухсот макс. предсказаний\n",
    "    product = selected_points.sum()\n",
    "    #print(selected_points)\n",
    "    revenue = product * price_1_kbar_rub\n",
    "    return revenue - budget_rub\n",
    "\n",
    "profit(target_0, predictions_valid_0, price_1_kbar_rub, budget_rub)\n",
    "profit(target_1, predictions_valid_1, price_1_kbar_rub, budget_rub)\n",
    "profit(target_2, predictions_valid_2, price_1_kbar_rub, budget_rub)"
   ]
  },
  {
   "cell_type": "markdown",
   "metadata": {},
   "source": [
    "### Вывод\n",
    "    -мы написали функцую:\n",
    "    --выбраkb скважины с максимальными значениями предсказаний.\n",
    "    --просуммировали целевое значение объёма сырья, соответствующее этим предсказаниям.\n",
    "    --рассчитали прибыль для полученного объёма сырья.\n",
    "    \n",
    "    Предсказания неутешительные, сумма прибыли по всем регионам отрицательная: \n",
    "    -1922149005.722169, -4015754052.6666927, -1259258892.6866302"
   ]
  },
  {
   "cell_type": "markdown",
   "metadata": {},
   "source": [
    "## Посчитаем риски и прибыль для каждого региона\n"
   ]
  },
  {
   "cell_type": "markdown",
   "metadata": {},
   "source": [
    "### Применим технику Bootstrap с 1000 выборок, чтобы найти распределение прибыли."
   ]
  },
  {
   "cell_type": "markdown",
   "metadata": {},
   "source": [
    "### Найдем среднюю прибыль, 95%-й доверительный интервал и риск убытков. Убыток — это отрицательная прибыль."
   ]
  },
  {
   "cell_type": "code",
   "execution_count": 77,
   "metadata": {},
   "outputs": [
    {
     "name": "stdout",
     "output_type": "stream",
     "text": [
      "Средняя прибыль = 426272370.7738766\n",
      "95%-ый доверительный интервал: (-126790034.58664788, 983427683.7188535)\n",
      "Риск убытков = (6.800000000000001, '%')\n",
      "\n",
      "Средняя прибыль = 509144419.148401\n",
      "95%-ый доверительный интервал: (103030263.74466248, 948591900.5358982)\n",
      "Риск убытков = (1.2, '%')\n",
      "\n",
      "Средняя прибыль = 345891112.8435471\n",
      "95%-ый доверительный интервал: (-188658819.97242478, 875761830.8790764)\n",
      "Риск убытков = (9.8, '%')\n",
      "\n"
     ]
    }
   ],
   "source": [
    "state = np.random.RandomState(12345)\n",
    "\n",
    "for df in [df_0, df_1, df_2]:\n",
    "\n",
    "    features = df.drop(['product'], axis=1)\n",
    "    target = df['product']\n",
    "    \n",
    "    features_train, features_valid, target_train, target_valid = train_test_split(\n",
    "         features, target, test_size=0.25, random_state=state)\n",
    "\n",
    "    model = LinearRegression()\n",
    "    model.fit(features_train, target_train)\n",
    "    predictions_1 = model.predict(features_valid)\n",
    "\n",
    "\n",
    "    \n",
    "    \n",
    "    target = target_valid.reset_index(drop=True)\n",
    "    predictions = pd.Series(predictions_1)\n",
    "\n",
    "    profit_v=[]\n",
    "    for i in range(1000):\n",
    "        target_sample = target.sample(500, replace=True, random_state=state)\n",
    "        predictions_sample = predictions[target_sample.index]\n",
    "        profit_v.append(profit(target_sample, predictions_sample, price_1_kbar_rub, budget_rub))\n",
    "    profit_v = pd.Series(profit_v)\n",
    "\n",
    "    mean_profit = profit_v.mean()\n",
    "    confidence_interval = (profit_v.quantile(0.025), profit_v.quantile(0.975))\n",
    "    risk = ((profit_v < 0).mean()* 100, \"%\")\n",
    "    print(\"Средняя прибыль =\", mean_profit)\n",
    "    print(\"95%-ый доверительный интервал:\", confidence_interval)\n",
    "    print(\"Риск убытков =\", risk)\n",
    "    print()"
   ]
  },
  {
   "cell_type": "markdown",
   "metadata": {},
   "source": [
    "### Напишем выводы: предложим регион для разработки скважин и обоснуем выбор.\n",
    "    Лучший регион по всем параметрам - регион_1 \n",
    "    Средняя прибыль = 509144419.148401\n",
    "    95%-ый доверительный интервал: (103030263.74466248, 948591900.5358982)\n",
    "    Риск убытков = (1.2, '%')"
   ]
  },
  {
   "cell_type": "markdown",
   "metadata": {},
   "source": [
    "## Общий вывод\n",
    "    В полученных датасетах выявили связь объема продукта с признаками, сила связи доходит до очень высокой\n",
    "    На основе расчетов и выбора лучших показателей можем выделить регион_1\n",
    " "
   ]
  },
  {
   "cell_type": "markdown",
   "metadata": {},
   "source": [
    "## Чек-лист готовности проекта"
   ]
  },
  {
   "cell_type": "markdown",
   "metadata": {},
   "source": [
    "- [x]  Jupyter Notebook открыт\n",
    "- [ ]  Весь код выполняется без ошибок\n",
    "- [ ]  Ячейки с кодом расположены в порядке исполнения\n",
    "- [ ]  Выполнен шаг 1: данные подготовлены\n",
    "- [ ]  Выполнен шаг 2: модели обучены и проверены\n",
    "    - [ ]  Данные корректно разбиты на обучающую и валидационную выборки\n",
    "    - [ ]  Модели обучены, предсказания сделаны\n",
    "    - [ ]  Предсказания и правильные ответы на валидационной выборке сохранены\n",
    "    - [ ]  На экране напечатаны результаты\n",
    "    - [ ]  Сделаны выводы\n",
    "- [ ]  Выполнен шаг 3: проведена подготовка к расчёту прибыли\n",
    "    - [ ]  Для всех ключевых значений созданы константы Python\n",
    "    - [ ]  Посчитано минимальное среднее количество продукта в месторождениях региона, достаточное для разработки\n",
    "    - [ ]  По предыдущему пункту сделаны выводы\n",
    "    - [ ]  Написана функция расчёта прибыли\n",
    "- [ ]  Выполнен шаг 4: посчитаны риски и прибыль\n",
    "    - [ ]  Проведена процедура *Bootstrap*\n",
    "    - [ ]  Все параметры бутстрепа соответствуют условию\n",
    "    - [ ]  Найдены все нужные величины\n",
    "    - [ ]  Предложен регион для разработки месторождения\n",
    "    - [ ]  Выбор региона обоснован"
   ]
  }
 ],
 "metadata": {
  "ExecuteTimeLog": [
   {
    "duration": 1616,
    "start_time": "2022-04-17T14:44:19.251Z"
   },
   {
    "duration": 6,
    "start_time": "2022-04-17T14:44:21.673Z"
   },
   {
    "duration": 3,
    "start_time": "2022-04-17T14:44:37.257Z"
   },
   {
    "duration": 67,
    "start_time": "2022-04-17T14:50:46.861Z"
   },
   {
    "duration": 63,
    "start_time": "2022-04-17T14:50:58.772Z"
   },
   {
    "duration": 187,
    "start_time": "2022-04-17T14:51:17.501Z"
   },
   {
    "duration": 77,
    "start_time": "2022-04-17T14:55:42.011Z"
   },
   {
    "duration": 67,
    "start_time": "2022-04-17T14:55:54.331Z"
   },
   {
    "duration": 72,
    "start_time": "2022-04-17T14:56:15.587Z"
   },
   {
    "duration": 65,
    "start_time": "2022-04-17T14:56:23.931Z"
   },
   {
    "duration": 112,
    "start_time": "2022-04-17T14:56:33.563Z"
   },
   {
    "duration": 360,
    "start_time": "2022-04-17T14:56:38.723Z"
   },
   {
    "duration": 155,
    "start_time": "2022-04-17T14:56:39.884Z"
   },
   {
    "duration": 125,
    "start_time": "2022-04-17T14:56:58.751Z"
   },
   {
    "duration": 126,
    "start_time": "2022-04-17T14:57:48.031Z"
   },
   {
    "duration": 129,
    "start_time": "2022-04-17T14:58:21.344Z"
   },
   {
    "duration": 138,
    "start_time": "2022-04-17T14:58:54.911Z"
   },
   {
    "duration": 141,
    "start_time": "2022-04-17T14:59:20.720Z"
   },
   {
    "duration": 133,
    "start_time": "2022-04-17T14:59:41.280Z"
   },
   {
    "duration": 149,
    "start_time": "2022-04-17T15:00:01.362Z"
   },
   {
    "duration": 11,
    "start_time": "2022-04-17T15:00:08.346Z"
   },
   {
    "duration": 152,
    "start_time": "2022-04-17T15:00:15.385Z"
   },
   {
    "duration": 169,
    "start_time": "2022-04-17T15:00:23.209Z"
   },
   {
    "duration": 144,
    "start_time": "2022-04-17T15:00:35.817Z"
   },
   {
    "duration": 28,
    "start_time": "2022-04-17T15:14:05.329Z"
   },
   {
    "duration": 60,
    "start_time": "2022-04-17T15:14:20.048Z"
   },
   {
    "duration": 52,
    "start_time": "2022-04-17T15:14:47.160Z"
   },
   {
    "duration": 574,
    "start_time": "2022-04-17T15:16:41.339Z"
   },
   {
    "duration": 285,
    "start_time": "2022-04-17T15:18:38.655Z"
   },
   {
    "duration": 606,
    "start_time": "2022-04-17T15:18:44.758Z"
   },
   {
    "duration": 515,
    "start_time": "2022-04-17T15:19:22.031Z"
   },
   {
    "duration": 135,
    "start_time": "2022-04-17T15:21:03.859Z"
   },
   {
    "duration": 61,
    "start_time": "2022-04-17T15:24:37.512Z"
   },
   {
    "duration": 498,
    "start_time": "2022-04-17T15:24:43.822Z"
   },
   {
    "duration": 512,
    "start_time": "2022-04-17T15:24:56.018Z"
   },
   {
    "duration": 120,
    "start_time": "2022-04-17T15:25:02.967Z"
   },
   {
    "duration": 5,
    "start_time": "2022-04-17T15:25:35.188Z"
   },
   {
    "duration": 7,
    "start_time": "2022-04-17T15:25:35.195Z"
   },
   {
    "duration": 368,
    "start_time": "2022-04-17T15:25:35.203Z"
   },
   {
    "duration": 144,
    "start_time": "2022-04-17T15:25:35.573Z"
   },
   {
    "duration": 52,
    "start_time": "2022-04-17T15:25:35.720Z"
   },
   {
    "duration": 523,
    "start_time": "2022-04-17T15:25:40.994Z"
   },
   {
    "duration": 613,
    "start_time": "2022-04-17T15:26:35.226Z"
   },
   {
    "duration": 4,
    "start_time": "2022-04-17T15:26:40.013Z"
   },
   {
    "duration": 7,
    "start_time": "2022-04-17T15:26:40.019Z"
   },
   {
    "duration": 373,
    "start_time": "2022-04-17T15:26:40.028Z"
   },
   {
    "duration": 144,
    "start_time": "2022-04-17T15:26:40.402Z"
   },
   {
    "duration": 70,
    "start_time": "2022-04-17T15:26:40.548Z"
   },
   {
    "duration": 524,
    "start_time": "2022-04-17T15:26:43.795Z"
   },
   {
    "duration": 1384,
    "start_time": "2022-04-17T15:26:55.392Z"
   },
   {
    "duration": 4,
    "start_time": "2022-04-17T15:26:56.778Z"
   },
   {
    "duration": 387,
    "start_time": "2022-04-17T15:26:56.783Z"
   },
   {
    "duration": 167,
    "start_time": "2022-04-17T15:26:57.172Z"
   },
   {
    "duration": 71,
    "start_time": "2022-04-17T15:26:57.341Z"
   },
   {
    "duration": 525,
    "start_time": "2022-04-17T15:26:57.414Z"
   },
   {
    "duration": 513,
    "start_time": "2022-04-17T15:27:59.632Z"
   },
   {
    "duration": 604,
    "start_time": "2022-04-17T15:28:30.127Z"
   },
   {
    "duration": 502,
    "start_time": "2022-04-17T15:28:37.248Z"
   },
   {
    "duration": 519,
    "start_time": "2022-04-17T15:29:07.407Z"
   },
   {
    "duration": 544,
    "start_time": "2022-04-17T15:29:30.049Z"
   },
   {
    "duration": 556,
    "start_time": "2022-04-17T15:31:20.068Z"
   },
   {
    "duration": 538,
    "start_time": "2022-04-17T15:31:40.684Z"
   },
   {
    "duration": 612,
    "start_time": "2022-04-17T15:31:45.339Z"
   },
   {
    "duration": 545,
    "start_time": "2022-04-17T15:31:49.979Z"
   },
   {
    "duration": 525,
    "start_time": "2022-04-17T15:32:15.643Z"
   },
   {
    "duration": 517,
    "start_time": "2022-04-17T15:32:25.628Z"
   },
   {
    "duration": 727,
    "start_time": "2022-04-17T15:33:44.552Z"
   },
   {
    "duration": 855,
    "start_time": "2022-04-17T15:34:20.552Z"
   },
   {
    "duration": 775,
    "start_time": "2022-04-17T15:35:19.273Z"
   },
   {
    "duration": 742,
    "start_time": "2022-04-17T15:35:52.859Z"
   },
   {
    "duration": 670,
    "start_time": "2022-04-17T15:36:11.642Z"
   },
   {
    "duration": 689,
    "start_time": "2022-04-17T15:36:21.418Z"
   },
   {
    "duration": 63,
    "start_time": "2022-04-17T15:36:48.379Z"
   },
   {
    "duration": 753,
    "start_time": "2022-04-17T15:36:53.338Z"
   },
   {
    "duration": 1305,
    "start_time": "2022-04-17T15:37:35.552Z"
   },
   {
    "duration": 4,
    "start_time": "2022-04-17T15:37:36.859Z"
   },
   {
    "duration": 379,
    "start_time": "2022-04-17T15:37:36.865Z"
   },
   {
    "duration": 166,
    "start_time": "2022-04-17T15:37:37.246Z"
   },
   {
    "duration": 50,
    "start_time": "2022-04-17T15:37:37.414Z"
   },
   {
    "duration": 748,
    "start_time": "2022-04-17T15:37:37.466Z"
   },
   {
    "duration": 70,
    "start_time": "2022-04-17T15:39:04.861Z"
   },
   {
    "duration": 336,
    "start_time": "2022-04-17T17:08:10.394Z"
   },
   {
    "duration": 778,
    "start_time": "2022-04-17T17:08:40.867Z"
   },
   {
    "duration": 899,
    "start_time": "2022-04-17T17:10:45.830Z"
   },
   {
    "duration": 95,
    "start_time": "2022-04-17T17:12:13.527Z"
   },
   {
    "duration": 115,
    "start_time": "2022-04-17T17:12:35.058Z"
   },
   {
    "duration": 976,
    "start_time": "2022-04-17T17:12:43.256Z"
   },
   {
    "duration": 229,
    "start_time": "2022-04-17T17:14:25.444Z"
   },
   {
    "duration": 1065,
    "start_time": "2022-04-17T17:14:29.965Z"
   },
   {
    "duration": 1082,
    "start_time": "2022-04-17T17:14:48.147Z"
   },
   {
    "duration": 954,
    "start_time": "2022-04-17T17:14:57.764Z"
   },
   {
    "duration": 150,
    "start_time": "2022-04-17T17:16:38.431Z"
   },
   {
    "duration": 1011,
    "start_time": "2022-04-17T17:16:46.087Z"
   },
   {
    "duration": 6,
    "start_time": "2022-04-17T17:22:55.298Z"
   },
   {
    "duration": 7,
    "start_time": "2022-04-17T17:22:55.305Z"
   },
   {
    "duration": 387,
    "start_time": "2022-04-17T17:22:55.314Z"
   },
   {
    "duration": 139,
    "start_time": "2022-04-17T17:22:55.703Z"
   },
   {
    "duration": 71,
    "start_time": "2022-04-17T17:22:55.844Z"
   },
   {
    "duration": 1099,
    "start_time": "2022-04-17T17:22:55.917Z"
   },
   {
    "duration": 65,
    "start_time": "2022-04-17T17:27:40.265Z"
   },
   {
    "duration": 885,
    "start_time": "2022-04-17T17:27:44.609Z"
   },
   {
    "duration": 879,
    "start_time": "2022-04-17T17:27:54.217Z"
   },
   {
    "duration": 12,
    "start_time": "2022-04-17T17:34:49.203Z"
   },
   {
    "duration": 11,
    "start_time": "2022-04-17T17:35:57.854Z"
   },
   {
    "duration": 62,
    "start_time": "2022-04-17T17:36:17.030Z"
   },
   {
    "duration": 10,
    "start_time": "2022-04-17T17:36:27.210Z"
   },
   {
    "duration": 10,
    "start_time": "2022-04-17T17:36:36.017Z"
   },
   {
    "duration": 53,
    "start_time": "2022-04-17T17:36:43.391Z"
   },
   {
    "duration": 26569,
    "start_time": "2022-04-17T17:40:16.931Z"
   },
   {
    "duration": 6639,
    "start_time": "2022-04-17T17:41:15.614Z"
   },
   {
    "duration": 4,
    "start_time": "2022-04-17T17:45:01.746Z"
   },
   {
    "duration": 4,
    "start_time": "2022-04-17T17:45:06.556Z"
   },
   {
    "duration": 22,
    "start_time": "2022-04-17T17:49:24.354Z"
   },
   {
    "duration": 27,
    "start_time": "2022-04-17T17:52:24.304Z"
   },
   {
    "duration": 63,
    "start_time": "2022-04-17T17:53:13.602Z"
   },
   {
    "duration": 25,
    "start_time": "2022-04-17T17:56:15.983Z"
   },
   {
    "duration": 26,
    "start_time": "2022-04-17T17:56:18.206Z"
   },
   {
    "duration": 11,
    "start_time": "2022-04-17T18:45:18.545Z"
   },
   {
    "duration": 11,
    "start_time": "2022-04-17T18:45:51.713Z"
   },
   {
    "duration": 11,
    "start_time": "2022-04-17T18:45:58.745Z"
   },
   {
    "duration": 11,
    "start_time": "2022-04-17T18:46:03.176Z"
   },
   {
    "duration": 36,
    "start_time": "2022-04-17T18:46:07.354Z"
   },
   {
    "duration": 30,
    "start_time": "2022-04-17T18:49:00.886Z"
   },
   {
    "duration": 5,
    "start_time": "2022-04-17T18:49:12.399Z"
   },
   {
    "duration": 7,
    "start_time": "2022-04-17T18:49:12.406Z"
   },
   {
    "duration": 373,
    "start_time": "2022-04-17T18:49:12.415Z"
   },
   {
    "duration": 153,
    "start_time": "2022-04-17T18:49:12.789Z"
   },
   {
    "duration": 67,
    "start_time": "2022-04-17T18:49:12.945Z"
   },
   {
    "duration": 905,
    "start_time": "2022-04-17T18:49:13.013Z"
   },
   {
    "duration": 24,
    "start_time": "2022-04-17T18:49:13.920Z"
   },
   {
    "duration": 27,
    "start_time": "2022-04-17T18:49:13.946Z"
   },
   {
    "duration": 50,
    "start_time": "2022-04-17T18:49:13.975Z"
   },
   {
    "duration": 33,
    "start_time": "2022-04-17T18:49:17.183Z"
   },
   {
    "duration": 19,
    "start_time": "2022-04-17T18:52:26.332Z"
   },
   {
    "duration": 53,
    "start_time": "2022-04-17T18:53:51.757Z"
   },
   {
    "duration": 32,
    "start_time": "2022-04-17T18:53:59.342Z"
   },
   {
    "duration": 1395,
    "start_time": "2022-04-17T18:54:08.112Z"
   },
   {
    "duration": 3,
    "start_time": "2022-04-17T18:54:09.509Z"
   },
   {
    "duration": 388,
    "start_time": "2022-04-17T18:54:09.514Z"
   },
   {
    "duration": 151,
    "start_time": "2022-04-17T18:54:09.904Z"
   },
   {
    "duration": 73,
    "start_time": "2022-04-17T18:54:10.056Z"
   },
   {
    "duration": 966,
    "start_time": "2022-04-17T18:54:10.131Z"
   },
   {
    "duration": 145,
    "start_time": "2022-04-17T18:54:11.106Z"
   },
   {
    "duration": 0,
    "start_time": "2022-04-17T18:54:11.253Z"
   },
   {
    "duration": 0,
    "start_time": "2022-04-17T18:54:11.254Z"
   },
   {
    "duration": 0,
    "start_time": "2022-04-17T18:54:11.255Z"
   },
   {
    "duration": 0,
    "start_time": "2022-04-17T18:54:11.256Z"
   },
   {
    "duration": 41,
    "start_time": "2022-04-17T18:57:27.121Z"
   },
   {
    "duration": 1296,
    "start_time": "2022-04-17T18:57:40.064Z"
   },
   {
    "duration": 3,
    "start_time": "2022-04-17T18:57:41.362Z"
   },
   {
    "duration": 369,
    "start_time": "2022-04-17T18:57:41.366Z"
   },
   {
    "duration": 146,
    "start_time": "2022-04-17T18:57:41.736Z"
   },
   {
    "duration": 66,
    "start_time": "2022-04-17T18:57:41.884Z"
   },
   {
    "duration": 1560,
    "start_time": "2022-04-17T18:57:41.952Z"
   },
   {
    "duration": 167,
    "start_time": "2022-04-17T18:57:43.514Z"
   },
   {
    "duration": 0,
    "start_time": "2022-04-17T18:57:43.682Z"
   },
   {
    "duration": 0,
    "start_time": "2022-04-17T18:57:43.684Z"
   },
   {
    "duration": 0,
    "start_time": "2022-04-17T18:57:43.685Z"
   },
   {
    "duration": 40,
    "start_time": "2022-04-17T18:57:50.119Z"
   },
   {
    "duration": 5,
    "start_time": "2022-04-17T18:57:56.039Z"
   },
   {
    "duration": 14,
    "start_time": "2022-04-17T18:57:56.046Z"
   },
   {
    "duration": 364,
    "start_time": "2022-04-17T18:57:56.062Z"
   },
   {
    "duration": 137,
    "start_time": "2022-04-17T18:57:56.428Z"
   },
   {
    "duration": 67,
    "start_time": "2022-04-17T18:57:56.567Z"
   },
   {
    "duration": 958,
    "start_time": "2022-04-17T18:57:56.635Z"
   },
   {
    "duration": 30,
    "start_time": "2022-04-17T18:57:57.607Z"
   },
   {
    "duration": 0,
    "start_time": "2022-04-17T18:57:57.639Z"
   },
   {
    "duration": 0,
    "start_time": "2022-04-17T18:57:57.640Z"
   },
   {
    "duration": 33,
    "start_time": "2022-04-17T18:57:59.505Z"
   },
   {
    "duration": 33,
    "start_time": "2022-04-17T18:58:11.368Z"
   },
   {
    "duration": 7,
    "start_time": "2022-04-17T18:58:17.432Z"
   },
   {
    "duration": 6,
    "start_time": "2022-04-17T18:58:17.442Z"
   },
   {
    "duration": 379,
    "start_time": "2022-04-17T18:58:17.450Z"
   },
   {
    "duration": 155,
    "start_time": "2022-04-17T18:58:17.831Z"
   },
   {
    "duration": 72,
    "start_time": "2022-04-17T18:58:17.989Z"
   },
   {
    "duration": 937,
    "start_time": "2022-04-17T18:58:18.063Z"
   },
   {
    "duration": 33,
    "start_time": "2022-04-17T18:58:19.007Z"
   },
   {
    "duration": 0,
    "start_time": "2022-04-17T18:58:19.042Z"
   },
   {
    "duration": 0,
    "start_time": "2022-04-17T18:58:19.043Z"
   },
   {
    "duration": 0,
    "start_time": "2022-04-17T18:58:19.045Z"
   },
   {
    "duration": 33,
    "start_time": "2022-04-17T18:58:24.162Z"
   },
   {
    "duration": 25,
    "start_time": "2022-04-17T18:58:41.547Z"
   },
   {
    "duration": 23,
    "start_time": "2022-04-17T18:59:27.450Z"
   },
   {
    "duration": 5,
    "start_time": "2022-04-17T19:00:01.689Z"
   },
   {
    "duration": 16,
    "start_time": "2022-04-17T19:00:01.696Z"
   },
   {
    "duration": 406,
    "start_time": "2022-04-17T19:00:01.714Z"
   },
   {
    "duration": 156,
    "start_time": "2022-04-17T19:00:02.122Z"
   },
   {
    "duration": 73,
    "start_time": "2022-04-17T19:00:02.280Z"
   },
   {
    "duration": 947,
    "start_time": "2022-04-17T19:00:02.355Z"
   },
   {
    "duration": 28,
    "start_time": "2022-04-17T19:00:03.308Z"
   },
   {
    "duration": 24,
    "start_time": "2022-04-17T19:00:03.338Z"
   },
   {
    "duration": 56,
    "start_time": "2022-04-17T19:00:03.364Z"
   },
   {
    "duration": 35,
    "start_time": "2022-04-17T19:00:03.423Z"
   },
   {
    "duration": 33,
    "start_time": "2022-04-17T19:01:44.853Z"
   },
   {
    "duration": 3,
    "start_time": "2022-04-17T19:02:01.252Z"
   },
   {
    "duration": 32,
    "start_time": "2022-04-17T19:02:04.499Z"
   },
   {
    "duration": 8,
    "start_time": "2022-04-17T19:02:26.805Z"
   },
   {
    "duration": 140,
    "start_time": "2022-04-17T19:03:22.518Z"
   },
   {
    "duration": 60,
    "start_time": "2022-04-17T19:03:30.038Z"
   },
   {
    "duration": 56,
    "start_time": "2022-04-17T19:04:03.392Z"
   },
   {
    "duration": 16,
    "start_time": "2022-04-17T19:04:32.310Z"
   },
   {
    "duration": 15,
    "start_time": "2022-04-17T19:05:44.153Z"
   },
   {
    "duration": 11,
    "start_time": "2022-04-17T19:05:50.408Z"
   },
   {
    "duration": 16,
    "start_time": "2022-04-17T19:06:29.376Z"
   },
   {
    "duration": 1385,
    "start_time": "2022-04-17T19:06:49.277Z"
   },
   {
    "duration": 3,
    "start_time": "2022-04-17T19:06:50.664Z"
   },
   {
    "duration": 383,
    "start_time": "2022-04-17T19:06:50.669Z"
   },
   {
    "duration": 170,
    "start_time": "2022-04-17T19:06:51.054Z"
   },
   {
    "duration": 34,
    "start_time": "2022-04-17T19:06:51.226Z"
   },
   {
    "duration": 1016,
    "start_time": "2022-04-17T19:06:51.262Z"
   },
   {
    "duration": 30,
    "start_time": "2022-04-17T19:06:52.280Z"
   },
   {
    "duration": 28,
    "start_time": "2022-04-17T19:06:52.313Z"
   },
   {
    "duration": 28,
    "start_time": "2022-04-17T19:06:52.344Z"
   },
   {
    "duration": 39,
    "start_time": "2022-04-17T19:06:52.374Z"
   },
   {
    "duration": 3,
    "start_time": "2022-04-17T19:06:52.415Z"
   },
   {
    "duration": 301,
    "start_time": "2022-04-17T19:07:09.611Z"
   },
   {
    "duration": 177,
    "start_time": "2022-04-17T19:07:21.932Z"
   },
   {
    "duration": 57,
    "start_time": "2022-04-17T19:07:33.650Z"
   },
   {
    "duration": 13,
    "start_time": "2022-04-17T19:07:48.228Z"
   },
   {
    "duration": 14,
    "start_time": "2022-04-17T19:08:29.340Z"
   },
   {
    "duration": 14,
    "start_time": "2022-04-17T19:08:31.076Z"
   },
   {
    "duration": 14,
    "start_time": "2022-04-17T19:14:11.099Z"
   },
   {
    "duration": 14,
    "start_time": "2022-04-17T19:14:12.643Z"
   },
   {
    "duration": 15,
    "start_time": "2022-04-17T19:14:13.987Z"
   },
   {
    "duration": 86,
    "start_time": "2022-04-17T19:19:47.923Z"
   },
   {
    "duration": 15,
    "start_time": "2022-04-17T19:20:36.140Z"
   },
   {
    "duration": 15,
    "start_time": "2022-04-17T19:20:57.366Z"
   },
   {
    "duration": 15,
    "start_time": "2022-04-17T19:21:31.661Z"
   },
   {
    "duration": 17,
    "start_time": "2022-04-19T07:26:55.165Z"
   },
   {
    "duration": 5,
    "start_time": "2022-04-19T07:27:16.866Z"
   },
   {
    "duration": 7,
    "start_time": "2022-04-19T07:32:45.769Z"
   },
   {
    "duration": 6,
    "start_time": "2022-04-19T07:33:07.667Z"
   },
   {
    "duration": 66,
    "start_time": "2022-04-19T09:25:29.395Z"
   },
   {
    "duration": 2821,
    "start_time": "2022-04-19T09:25:34.359Z"
   },
   {
    "duration": 5,
    "start_time": "2022-04-19T09:25:37.188Z"
   },
   {
    "duration": 1523,
    "start_time": "2022-04-19T09:25:37.196Z"
   },
   {
    "duration": 278,
    "start_time": "2022-04-19T09:25:38.721Z"
   },
   {
    "duration": 84,
    "start_time": "2022-04-19T09:25:39.002Z"
   },
   {
    "duration": 1545,
    "start_time": "2022-04-19T09:25:39.089Z"
   },
   {
    "duration": 37,
    "start_time": "2022-04-19T09:25:40.637Z"
   },
   {
    "duration": 33,
    "start_time": "2022-04-19T09:25:40.677Z"
   },
   {
    "duration": 34,
    "start_time": "2022-04-19T09:25:40.760Z"
   },
   {
    "duration": 184,
    "start_time": "2022-04-19T09:25:40.796Z"
   },
   {
    "duration": 103,
    "start_time": "2022-04-19T09:25:41.053Z"
   },
   {
    "duration": 117,
    "start_time": "2022-04-19T09:25:41.169Z"
   },
   {
    "duration": 89,
    "start_time": "2022-04-19T09:25:41.290Z"
   },
   {
    "duration": 7,
    "start_time": "2022-04-19T09:25:43.570Z"
   },
   {
    "duration": 22,
    "start_time": "2022-04-19T09:26:48.691Z"
   },
   {
    "duration": 17,
    "start_time": "2022-04-19T09:27:52.491Z"
   },
   {
    "duration": 21,
    "start_time": "2022-04-19T09:28:04.822Z"
   },
   {
    "duration": 20,
    "start_time": "2022-04-19T09:30:40.191Z"
   },
   {
    "duration": 20,
    "start_time": "2022-04-19T09:30:56.649Z"
   },
   {
    "duration": 6,
    "start_time": "2022-04-19T19:41:44.453Z"
   },
   {
    "duration": 6,
    "start_time": "2022-04-19T20:31:14.841Z"
   },
   {
    "duration": 122,
    "start_time": "2022-04-19T20:34:12.759Z"
   },
   {
    "duration": 40,
    "start_time": "2022-04-19T20:34:22.500Z"
   },
   {
    "duration": 11,
    "start_time": "2022-04-19T20:35:26.944Z"
   },
   {
    "duration": 12,
    "start_time": "2022-04-19T20:35:43.327Z"
   },
   {
    "duration": 12,
    "start_time": "2022-04-19T20:36:29.265Z"
   },
   {
    "duration": 12,
    "start_time": "2022-04-19T20:37:13.225Z"
   },
   {
    "duration": 12,
    "start_time": "2022-04-19T20:37:40.313Z"
   },
   {
    "duration": 21,
    "start_time": "2022-04-19T20:39:57.325Z"
   },
   {
    "duration": 30,
    "start_time": "2022-04-19T20:40:32.550Z"
   },
   {
    "duration": 31,
    "start_time": "2022-04-19T20:41:30.872Z"
   },
   {
    "duration": 9,
    "start_time": "2022-04-19T20:42:28.435Z"
   },
   {
    "duration": 7,
    "start_time": "2022-04-19T20:42:54.834Z"
   },
   {
    "duration": 6,
    "start_time": "2022-04-19T20:44:06.925Z"
   },
   {
    "duration": 14,
    "start_time": "2022-04-19T20:46:00.391Z"
   },
   {
    "duration": 23,
    "start_time": "2022-04-19T20:46:37.607Z"
   },
   {
    "duration": 20,
    "start_time": "2022-04-19T20:47:00.753Z"
   },
   {
    "duration": 24,
    "start_time": "2022-04-19T20:47:34.914Z"
   },
   {
    "duration": 24,
    "start_time": "2022-04-19T20:47:47.193Z"
   },
   {
    "duration": 27,
    "start_time": "2022-04-19T20:48:49.642Z"
   },
   {
    "duration": 37,
    "start_time": "2022-04-19T20:50:10.437Z"
   },
   {
    "duration": 37,
    "start_time": "2022-04-19T20:51:29.910Z"
   },
   {
    "duration": 33,
    "start_time": "2022-04-19T20:52:30.306Z"
   },
   {
    "duration": 35,
    "start_time": "2022-04-19T20:55:47.981Z"
   },
   {
    "duration": 51,
    "start_time": "2022-04-19T20:56:07.654Z"
   },
   {
    "duration": 28,
    "start_time": "2022-04-19T20:59:30.685Z"
   },
   {
    "duration": 21,
    "start_time": "2022-04-19T20:59:36.602Z"
   },
   {
    "duration": 2096,
    "start_time": "2022-04-19T20:59:50.646Z"
   },
   {
    "duration": 11,
    "start_time": "2022-04-19T20:59:52.744Z"
   },
   {
    "duration": 1373,
    "start_time": "2022-04-19T20:59:52.758Z"
   },
   {
    "duration": 247,
    "start_time": "2022-04-19T20:59:54.133Z"
   },
   {
    "duration": 78,
    "start_time": "2022-04-19T20:59:54.384Z"
   },
   {
    "duration": 1363,
    "start_time": "2022-04-19T20:59:54.465Z"
   },
   {
    "duration": 41,
    "start_time": "2022-04-19T20:59:55.831Z"
   },
   {
    "duration": 24,
    "start_time": "2022-04-19T20:59:55.876Z"
   },
   {
    "duration": 59,
    "start_time": "2022-04-19T20:59:55.902Z"
   },
   {
    "duration": 91,
    "start_time": "2022-04-19T20:59:55.967Z"
   },
   {
    "duration": 114,
    "start_time": "2022-04-19T20:59:56.065Z"
   },
   {
    "duration": 100,
    "start_time": "2022-04-19T20:59:56.262Z"
   },
   {
    "duration": 205,
    "start_time": "2022-04-19T20:59:56.365Z"
   },
   {
    "duration": 27,
    "start_time": "2022-04-19T20:59:56.573Z"
   },
   {
    "duration": 33,
    "start_time": "2022-04-19T20:59:56.603Z"
   },
   {
    "duration": 41,
    "start_time": "2022-04-19T20:59:56.652Z"
   },
   {
    "duration": 68,
    "start_time": "2022-04-19T20:59:56.695Z"
   },
   {
    "duration": 53,
    "start_time": "2022-04-19T21:04:36.031Z"
   },
   {
    "duration": 46,
    "start_time": "2022-04-19T21:06:02.530Z"
   },
   {
    "duration": 29,
    "start_time": "2022-04-19T21:06:52.593Z"
   },
   {
    "duration": 172348,
    "start_time": "2022-04-27T20:21:24.125Z"
   },
   {
    "duration": 5,
    "start_time": "2022-04-27T20:24:16.476Z"
   },
   {
    "duration": 662,
    "start_time": "2022-04-27T20:24:16.483Z"
   },
   {
    "duration": 211,
    "start_time": "2022-04-27T20:24:49.230Z"
   },
   {
    "duration": 49,
    "start_time": "2022-04-27T20:24:53.517Z"
   },
   {
    "duration": 1406,
    "start_time": "2022-04-27T20:24:54.514Z"
   },
   {
    "duration": 1932,
    "start_time": "2022-04-27T20:35:30.396Z"
   },
   {
    "duration": 923,
    "start_time": "2022-04-27T20:35:56.831Z"
   },
   {
    "duration": 1253,
    "start_time": "2022-04-27T20:36:50.145Z"
   },
   {
    "duration": 15,
    "start_time": "2022-04-27T20:41:27.203Z"
   },
   {
    "duration": 14,
    "start_time": "2022-04-27T20:43:09.722Z"
   },
   {
    "duration": 5,
    "start_time": "2022-04-27T20:43:40.530Z"
   },
   {
    "duration": 521,
    "start_time": "2022-04-27T20:43:46.812Z"
   },
   {
    "duration": 3,
    "start_time": "2022-04-27T20:44:18.999Z"
   },
   {
    "duration": 632,
    "start_time": "2022-04-27T20:44:19.712Z"
   },
   {
    "duration": 4,
    "start_time": "2022-04-27T20:44:44.851Z"
   },
   {
    "duration": 467,
    "start_time": "2022-04-27T20:44:48.450Z"
   },
   {
    "duration": 4,
    "start_time": "2022-04-27T20:45:00.444Z"
   },
   {
    "duration": 617,
    "start_time": "2022-04-27T20:45:01.459Z"
   },
   {
    "duration": 17,
    "start_time": "2022-04-27T20:46:56.861Z"
   },
   {
    "duration": 484,
    "start_time": "2022-04-27T20:47:14.867Z"
   },
   {
    "duration": 566,
    "start_time": "2022-04-27T20:47:43.895Z"
   },
   {
    "duration": 1297,
    "start_time": "2022-04-27T20:47:47.223Z"
   },
   {
    "duration": 1287,
    "start_time": "2022-04-27T20:48:34.615Z"
   },
   {
    "duration": 471,
    "start_time": "2022-04-27T20:48:43.145Z"
   },
   {
    "duration": 451,
    "start_time": "2022-04-27T20:49:01.828Z"
   },
   {
    "duration": 428,
    "start_time": "2022-04-27T20:50:09.403Z"
   },
   {
    "duration": 441,
    "start_time": "2022-04-27T20:51:05.219Z"
   },
   {
    "duration": 558,
    "start_time": "2022-04-27T20:51:35.481Z"
   },
   {
    "duration": 466,
    "start_time": "2022-04-27T20:52:29.956Z"
   },
   {
    "duration": 470,
    "start_time": "2022-04-27T20:52:48.545Z"
   },
   {
    "duration": 1259,
    "start_time": "2022-04-27T20:53:00.820Z"
   },
   {
    "duration": 460,
    "start_time": "2022-04-27T20:53:11.250Z"
   },
   {
    "duration": 1271,
    "start_time": "2022-04-27T20:53:28.720Z"
   },
   {
    "duration": 452,
    "start_time": "2022-04-27T20:54:06.629Z"
   },
   {
    "duration": 565,
    "start_time": "2022-04-27T20:54:35.278Z"
   },
   {
    "duration": 1216,
    "start_time": "2022-04-27T20:58:52.596Z"
   },
   {
    "duration": 1240,
    "start_time": "2022-04-27T20:59:01.765Z"
   },
   {
    "duration": 24,
    "start_time": "2022-04-27T20:59:25.692Z"
   },
   {
    "duration": 26,
    "start_time": "2022-04-27T20:59:26.231Z"
   },
   {
    "duration": 24,
    "start_time": "2022-04-27T20:59:26.900Z"
   },
   {
    "duration": 92,
    "start_time": "2022-04-27T20:59:29.442Z"
   },
   {
    "duration": 21,
    "start_time": "2022-04-27T20:59:30.645Z"
   },
   {
    "duration": 20,
    "start_time": "2022-04-27T20:59:31.601Z"
   },
   {
    "duration": 7,
    "start_time": "2022-04-27T21:01:14.019Z"
   },
   {
    "duration": 23,
    "start_time": "2022-04-27T21:01:17.290Z"
   },
   {
    "duration": 46,
    "start_time": "2022-04-27T21:01:47.541Z"
   },
   {
    "duration": 61,
    "start_time": "2022-04-28T05:00:55.554Z"
   },
   {
    "duration": 108,
    "start_time": "2022-04-28T17:06:20.418Z"
   },
   {
    "duration": 8,
    "start_time": "2022-04-28T17:08:31.629Z"
   },
   {
    "duration": 1739,
    "start_time": "2022-04-28T17:08:36.764Z"
   },
   {
    "duration": 4,
    "start_time": "2022-04-28T17:08:38.506Z"
   },
   {
    "duration": 437,
    "start_time": "2022-04-28T17:08:38.511Z"
   },
   {
    "duration": 160,
    "start_time": "2022-04-28T17:08:38.950Z"
   },
   {
    "duration": 35,
    "start_time": "2022-04-28T17:08:39.113Z"
   },
   {
    "duration": 1065,
    "start_time": "2022-04-28T17:08:42.710Z"
   },
   {
    "duration": 999,
    "start_time": "2022-04-28T17:08:56.982Z"
   },
   {
    "duration": 5,
    "start_time": "2022-04-28T17:10:09.200Z"
   },
   {
    "duration": 30,
    "start_time": "2022-04-28T17:10:09.207Z"
   },
   {
    "duration": 434,
    "start_time": "2022-04-28T17:10:09.239Z"
   },
   {
    "duration": 161,
    "start_time": "2022-04-28T17:10:09.675Z"
   },
   {
    "duration": 52,
    "start_time": "2022-04-28T17:10:09.838Z"
   },
   {
    "duration": 1015,
    "start_time": "2022-04-28T17:10:09.891Z"
   },
   {
    "duration": 101,
    "start_time": "2022-04-28T17:10:10.908Z"
   },
   {
    "duration": 0,
    "start_time": "2022-04-28T17:10:11.011Z"
   },
   {
    "duration": 0,
    "start_time": "2022-04-28T17:10:11.012Z"
   },
   {
    "duration": 0,
    "start_time": "2022-04-28T17:10:11.013Z"
   },
   {
    "duration": 0,
    "start_time": "2022-04-28T17:10:11.014Z"
   },
   {
    "duration": 0,
    "start_time": "2022-04-28T17:10:11.015Z"
   },
   {
    "duration": 0,
    "start_time": "2022-04-28T17:10:11.016Z"
   },
   {
    "duration": 13,
    "start_time": "2022-04-28T17:19:52.854Z"
   },
   {
    "duration": 18,
    "start_time": "2022-04-28T17:19:59.102Z"
   },
   {
    "duration": 12,
    "start_time": "2022-04-28T18:19:23.187Z"
   },
   {
    "duration": 939,
    "start_time": "2022-04-28T18:19:36.556Z"
   },
   {
    "duration": 20,
    "start_time": "2022-04-28T18:20:18.990Z"
   },
   {
    "duration": 11,
    "start_time": "2022-04-28T18:21:26.430Z"
   },
   {
    "duration": 8,
    "start_time": "2022-04-28T18:21:34.039Z"
   },
   {
    "duration": 8,
    "start_time": "2022-04-28T18:21:34.050Z"
   },
   {
    "duration": 469,
    "start_time": "2022-04-28T18:21:34.060Z"
   },
   {
    "duration": 159,
    "start_time": "2022-04-28T18:21:34.530Z"
   },
   {
    "duration": 31,
    "start_time": "2022-04-28T18:21:34.692Z"
   },
   {
    "duration": 1051,
    "start_time": "2022-04-28T18:21:34.725Z"
   },
   {
    "duration": 1099,
    "start_time": "2022-04-28T18:21:35.778Z"
   },
   {
    "duration": 16,
    "start_time": "2022-04-28T18:21:36.879Z"
   },
   {
    "duration": 15,
    "start_time": "2022-04-28T18:21:36.897Z"
   },
   {
    "duration": 15,
    "start_time": "2022-04-28T18:21:36.914Z"
   },
   {
    "duration": 244,
    "start_time": "2022-04-28T18:21:36.930Z"
   },
   {
    "duration": 120,
    "start_time": "2022-04-28T18:21:37.176Z"
   },
   {
    "duration": 115,
    "start_time": "2022-04-28T18:21:37.298Z"
   },
   {
    "duration": 6,
    "start_time": "2022-04-28T18:21:37.484Z"
   },
   {
    "duration": 112,
    "start_time": "2022-04-28T18:21:37.491Z"
   },
   {
    "duration": 14,
    "start_time": "2022-04-28T18:21:38.890Z"
   },
   {
    "duration": 26,
    "start_time": "2022-04-28T18:23:11.043Z"
   },
   {
    "duration": 23,
    "start_time": "2022-04-28T18:23:39.420Z"
   },
   {
    "duration": 6,
    "start_time": "2022-04-28T18:24:31.612Z"
   },
   {
    "duration": 9,
    "start_time": "2022-04-28T18:24:45.036Z"
   },
   {
    "duration": 9,
    "start_time": "2022-04-28T18:26:43.439Z"
   },
   {
    "duration": 11,
    "start_time": "2022-04-28T18:26:49.047Z"
   },
   {
    "duration": 11,
    "start_time": "2022-04-28T18:27:00.808Z"
   },
   {
    "duration": 22,
    "start_time": "2022-04-28T18:27:05.919Z"
   },
   {
    "duration": 10,
    "start_time": "2022-04-28T18:28:22.107Z"
   },
   {
    "duration": 21,
    "start_time": "2022-04-28T18:28:45.410Z"
   },
   {
    "duration": 13,
    "start_time": "2022-04-28T18:29:29.267Z"
   },
   {
    "duration": 20,
    "start_time": "2022-04-28T18:30:11.189Z"
   },
   {
    "duration": 19,
    "start_time": "2022-04-28T18:30:47.982Z"
   },
   {
    "duration": 10,
    "start_time": "2022-04-28T18:30:56.209Z"
   },
   {
    "duration": 12,
    "start_time": "2022-04-28T18:31:01.810Z"
   },
   {
    "duration": 17,
    "start_time": "2022-04-28T18:31:08.613Z"
   },
   {
    "duration": 10,
    "start_time": "2022-04-28T18:31:12.969Z"
   },
   {
    "duration": 11,
    "start_time": "2022-04-28T18:32:30.739Z"
   },
   {
    "duration": 12,
    "start_time": "2022-04-28T18:32:41.096Z"
   },
   {
    "duration": 12,
    "start_time": "2022-04-28T18:33:01.258Z"
   },
   {
    "duration": 13,
    "start_time": "2022-04-28T18:33:14.377Z"
   },
   {
    "duration": 11,
    "start_time": "2022-04-28T18:33:22.178Z"
   },
   {
    "duration": 4,
    "start_time": "2022-04-28T18:37:56.177Z"
   },
   {
    "duration": 4,
    "start_time": "2022-04-28T18:38:18.627Z"
   },
   {
    "duration": 5,
    "start_time": "2022-04-28T18:38:27.602Z"
   },
   {
    "duration": 23,
    "start_time": "2022-04-28T18:40:22.317Z"
   },
   {
    "duration": 19,
    "start_time": "2022-04-28T18:40:35.317Z"
   },
   {
    "duration": 18,
    "start_time": "2022-04-28T18:40:55.887Z"
   },
   {
    "duration": 116,
    "start_time": "2022-04-28T19:47:51.740Z"
   },
   {
    "duration": 122,
    "start_time": "2022-04-28T19:47:59.053Z"
   },
   {
    "duration": 115,
    "start_time": "2022-04-28T19:49:13.754Z"
   },
   {
    "duration": 5872,
    "start_time": "2022-04-28T19:49:27.513Z"
   },
   {
    "duration": 5865,
    "start_time": "2022-04-28T19:50:22.362Z"
   },
   {
    "duration": 6020,
    "start_time": "2022-04-28T19:50:39.057Z"
   },
   {
    "duration": 19,
    "start_time": "2022-04-28T19:50:56.234Z"
   },
   {
    "duration": 4223,
    "start_time": "2022-04-28T19:51:01.892Z"
   },
   {
    "duration": 4201,
    "start_time": "2022-04-28T19:51:08.809Z"
   },
   {
    "duration": 4,
    "start_time": "2022-04-28T19:53:51.911Z"
   },
   {
    "duration": 69088,
    "start_time": "2022-04-29T06:11:44.258Z"
   },
   {
    "duration": 5,
    "start_time": "2022-04-29T06:12:53.349Z"
   },
   {
    "duration": 2637,
    "start_time": "2022-04-29T06:16:01.262Z"
   },
   {
    "duration": 212,
    "start_time": "2022-04-29T06:16:03.902Z"
   },
   {
    "duration": 54,
    "start_time": "2022-04-29T06:16:04.116Z"
   },
   {
    "duration": 1353,
    "start_time": "2022-04-29T06:16:04.173Z"
   },
   {
    "duration": 1456,
    "start_time": "2022-04-29T06:16:14.964Z"
   }
  ],
  "kernelspec": {
   "display_name": "Python 3 (ipykernel)",
   "language": "python",
   "name": "python3"
  },
  "language_info": {
   "codemirror_mode": {
    "name": "ipython",
    "version": 3
   },
   "file_extension": ".py",
   "mimetype": "text/x-python",
   "name": "python",
   "nbconvert_exporter": "python",
   "pygments_lexer": "ipython3",
   "version": "3.9.7"
  },
  "toc": {
   "base_numbering": 1,
   "nav_menu": {},
   "number_sections": true,
   "sideBar": true,
   "skip_h1_title": true,
   "title_cell": "Table of Contents",
   "title_sidebar": "Contents",
   "toc_cell": false,
   "toc_position": {
    "height": "calc(100% - 180px)",
    "left": "10px",
    "top": "150px",
    "width": "210.972px"
   },
   "toc_section_display": true,
   "toc_window_display": true
  }
 },
 "nbformat": 4,
 "nbformat_minor": 2
}
