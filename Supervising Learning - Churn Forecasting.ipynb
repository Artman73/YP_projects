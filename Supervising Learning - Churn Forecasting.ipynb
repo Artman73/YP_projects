{
 "cells": [
  {
   "cell_type": "markdown",
   "id": "b120e7ac",
   "metadata": {},
   "source": [
    "# Проектная работа\n",
    "    Курс: Обучение с учителем\n",
    "    Тема: Прогнозирование ухода клиента в ближайшее время"
   ]
  },
  {
   "cell_type": "markdown",
   "id": "5bafad30",
   "metadata": {},
   "source": [
    "# Описание проекта\n",
    "Из «Бета-Банка» стали уходить клиенты. Каждый месяц. Немного, но заметно. Банковские маркетологи посчитали: сохранять текущих клиентов дешевле, чем привлекать новых.\n",
    "Спрогнозируем, уйдёт клиент из банка в ближайшее время или нет. Нам предоставлены исторические данные о поведении клиентов и расторжении договоров с банком.\n",
    "Построим модель с предельно большим значением F1-меры. Чтобы сдать проект успешно, доведем метрику до 0.59. Проверим F1-меру на тестовой выборке самостоятельно.\n",
    "Дополнительно измерим AUC-ROC, сравним её значение с F1-мерой."
   ]
  },
  {
   "cell_type": "markdown",
   "id": "54168b6c",
   "metadata": {},
   "source": [
    "# Цели проекта\n",
    "    -обучим модель прогнозирующую уход клиентов\n",
    "    -построим модель с предельно большим значением F1-меры\n",
    "    -доведем метрику модели F1-меру до 0.59 или более\n",
    "    -измерим AUC-ROC, сравним её значение с F1-мерой"
   ]
  },
  {
   "cell_type": "markdown",
   "id": "3ad95992",
   "metadata": {},
   "source": [
    "## Загрузим и подготовим данные. Поясним порядок действий."
   ]
  },
  {
   "cell_type": "markdown",
   "id": "709f9773",
   "metadata": {},
   "source": [
    "### Загрузим и подготовим данные"
   ]
  },
  {
   "cell_type": "code",
   "execution_count": 1,
   "id": "41d9a29b",
   "metadata": {},
   "outputs": [],
   "source": [
    "#Импорт библиотек\n",
    "import pandas as pd\n",
    "import numpy as np\n",
    "import seaborn as sns\n",
    "from scipy import stats as st\n",
    "\n",
    "#хитмэп корреляции\n",
    "import os\n",
    "import seaborn as sn\n",
    "\n",
    "#операции с выборкой\n",
    "from sklearn.model_selection import train_test_split\n",
    "\n",
    "#сохранение модели\n",
    "import joblib \n",
    "from joblib import dump\n",
    "\n",
    "#классификация\n",
    "from sklearn.tree import DecisionTreeClassifier\n",
    "from sklearn.ensemble import RandomForestClassifier\n",
    "from sklearn.linear_model import LogisticRegression \n",
    "\n",
    "#регрессия\n",
    "from sklearn.tree import DecisionTreeRegressor\n",
    "from sklearn.ensemble import RandomForestRegressor\n",
    "from sklearn.linear_model import LinearRegression\n",
    "\n",
    "#преобразователь масштаба методом стандартизации\n",
    "from sklearn.preprocessing import StandardScaler\n",
    "\n",
    "#метрики\n",
    "from sklearn.metrics import f1_score\n",
    "from sklearn.metrics import accuracy_score\n",
    "from sklearn.metrics import mean_squared_error\n",
    "\n",
    "#подбор параметров\n",
    "from sklearn.model_selection import GridSearchCV\n",
    "from sklearn.model_selection import RandomizedSearchCV\n",
    "\n",
    "#построение ROC-кривой\n",
    "import matplotlib.pyplot as plt\n",
    "from sklearn.metrics import roc_curve \n",
    "from sklearn import metrics\n",
    "from sklearn.metrics import roc_auc_score\n",
    "\n",
    "#раздел upsampling\n",
    "from sklearn.utils import shuffle"
   ]
  },
  {
   "cell_type": "code",
   "execution_count": 2,
   "id": "50d00d79",
   "metadata": {},
   "outputs": [],
   "source": [
    "#Уберем предупреждения:\n",
    "\n",
    "#D:\\installed\\anaconda3\\envs\\praktikum_env_win_new\\lib\\site-packages\\sklearn\\utils\\fixes.py:223: DeprecationWarning: distutils Version classes are deprecated. Use packaging.version instead.if _joblib.__version__ >= LooseVersion('0.12'):\n",
    "import warnings\n",
    "warnings.filterwarnings('ignore')\n",
    "\n",
    "#SettingWithCopy \n",
    "#при записи изменённых признаков в исходный датафрейм (особенности поведения sklearn и pandas)\n",
    "pd.options.mode.chained_assignment = None\n",
    "\n",
    "#отключим предупреждением библиотеки sklearn при обучении логистической регрессии, \n",
    "#укажем аргумент solver='liblinear' (англ. solver «алгоритм решения»; library linear, «библиотека линейных алгоритмов»)"
   ]
  },
  {
   "cell_type": "code",
   "execution_count": 3,
   "id": "a6e3e570",
   "metadata": {},
   "outputs": [],
   "source": [
    "#загрузим датасет с локального компьютера\n",
    "try:\n",
    "    df = pd.read_csv('Churn.csv')\n",
    "except FileNotFoundError:\n",
    "    df = pd.read_csv('/datasets/Churn.csv')"
   ]
  },
  {
   "cell_type": "code",
   "execution_count": 4,
   "id": "e644ff62",
   "metadata": {
    "scrolled": false
   },
   "outputs": [
    {
     "name": "stdout",
     "output_type": "stream",
     "text": [
      "RowNumber            int64\n",
      "CustomerId           int64\n",
      "Surname             object\n",
      "CreditScore          int64\n",
      "Geography           object\n",
      "Gender              object\n",
      "Age                  int64\n",
      "Tenure             float64\n",
      "Balance            float64\n",
      "NumOfProducts        int64\n",
      "HasCrCard            int64\n",
      "IsActiveMember       int64\n",
      "EstimatedSalary    float64\n",
      "Exited               int64\n",
      "dtype: object\n"
     ]
    },
    {
     "data": {
      "text/html": [
       "<div>\n",
       "<style scoped>\n",
       "    .dataframe tbody tr th:only-of-type {\n",
       "        vertical-align: middle;\n",
       "    }\n",
       "\n",
       "    .dataframe tbody tr th {\n",
       "        vertical-align: top;\n",
       "    }\n",
       "\n",
       "    .dataframe thead th {\n",
       "        text-align: right;\n",
       "    }\n",
       "</style>\n",
       "<table border=\"1\" class=\"dataframe\">\n",
       "  <thead>\n",
       "    <tr style=\"text-align: right;\">\n",
       "      <th></th>\n",
       "      <th>RowNumber</th>\n",
       "      <th>CustomerId</th>\n",
       "      <th>Surname</th>\n",
       "      <th>CreditScore</th>\n",
       "      <th>Geography</th>\n",
       "      <th>Gender</th>\n",
       "      <th>Age</th>\n",
       "      <th>Tenure</th>\n",
       "      <th>Balance</th>\n",
       "      <th>NumOfProducts</th>\n",
       "      <th>HasCrCard</th>\n",
       "      <th>IsActiveMember</th>\n",
       "      <th>EstimatedSalary</th>\n",
       "      <th>Exited</th>\n",
       "    </tr>\n",
       "  </thead>\n",
       "  <tbody>\n",
       "    <tr>\n",
       "      <th>0</th>\n",
       "      <td>1</td>\n",
       "      <td>15634602</td>\n",
       "      <td>Hargrave</td>\n",
       "      <td>619</td>\n",
       "      <td>France</td>\n",
       "      <td>Female</td>\n",
       "      <td>42</td>\n",
       "      <td>2.0</td>\n",
       "      <td>0.00</td>\n",
       "      <td>1</td>\n",
       "      <td>1</td>\n",
       "      <td>1</td>\n",
       "      <td>101348.88</td>\n",
       "      <td>1</td>\n",
       "    </tr>\n",
       "    <tr>\n",
       "      <th>1</th>\n",
       "      <td>2</td>\n",
       "      <td>15647311</td>\n",
       "      <td>Hill</td>\n",
       "      <td>608</td>\n",
       "      <td>Spain</td>\n",
       "      <td>Female</td>\n",
       "      <td>41</td>\n",
       "      <td>1.0</td>\n",
       "      <td>83807.86</td>\n",
       "      <td>1</td>\n",
       "      <td>0</td>\n",
       "      <td>1</td>\n",
       "      <td>112542.58</td>\n",
       "      <td>0</td>\n",
       "    </tr>\n",
       "    <tr>\n",
       "      <th>2</th>\n",
       "      <td>3</td>\n",
       "      <td>15619304</td>\n",
       "      <td>Onio</td>\n",
       "      <td>502</td>\n",
       "      <td>France</td>\n",
       "      <td>Female</td>\n",
       "      <td>42</td>\n",
       "      <td>8.0</td>\n",
       "      <td>159660.80</td>\n",
       "      <td>3</td>\n",
       "      <td>1</td>\n",
       "      <td>0</td>\n",
       "      <td>113931.57</td>\n",
       "      <td>1</td>\n",
       "    </tr>\n",
       "    <tr>\n",
       "      <th>3</th>\n",
       "      <td>4</td>\n",
       "      <td>15701354</td>\n",
       "      <td>Boni</td>\n",
       "      <td>699</td>\n",
       "      <td>France</td>\n",
       "      <td>Female</td>\n",
       "      <td>39</td>\n",
       "      <td>1.0</td>\n",
       "      <td>0.00</td>\n",
       "      <td>2</td>\n",
       "      <td>0</td>\n",
       "      <td>0</td>\n",
       "      <td>93826.63</td>\n",
       "      <td>0</td>\n",
       "    </tr>\n",
       "    <tr>\n",
       "      <th>4</th>\n",
       "      <td>5</td>\n",
       "      <td>15737888</td>\n",
       "      <td>Mitchell</td>\n",
       "      <td>850</td>\n",
       "      <td>Spain</td>\n",
       "      <td>Female</td>\n",
       "      <td>43</td>\n",
       "      <td>2.0</td>\n",
       "      <td>125510.82</td>\n",
       "      <td>1</td>\n",
       "      <td>1</td>\n",
       "      <td>1</td>\n",
       "      <td>79084.10</td>\n",
       "      <td>0</td>\n",
       "    </tr>\n",
       "    <tr>\n",
       "      <th>5</th>\n",
       "      <td>6</td>\n",
       "      <td>15574012</td>\n",
       "      <td>Chu</td>\n",
       "      <td>645</td>\n",
       "      <td>Spain</td>\n",
       "      <td>Male</td>\n",
       "      <td>44</td>\n",
       "      <td>8.0</td>\n",
       "      <td>113755.78</td>\n",
       "      <td>2</td>\n",
       "      <td>1</td>\n",
       "      <td>0</td>\n",
       "      <td>149756.71</td>\n",
       "      <td>1</td>\n",
       "    </tr>\n",
       "    <tr>\n",
       "      <th>6</th>\n",
       "      <td>7</td>\n",
       "      <td>15592531</td>\n",
       "      <td>Bartlett</td>\n",
       "      <td>822</td>\n",
       "      <td>France</td>\n",
       "      <td>Male</td>\n",
       "      <td>50</td>\n",
       "      <td>7.0</td>\n",
       "      <td>0.00</td>\n",
       "      <td>2</td>\n",
       "      <td>1</td>\n",
       "      <td>1</td>\n",
       "      <td>10062.80</td>\n",
       "      <td>0</td>\n",
       "    </tr>\n",
       "    <tr>\n",
       "      <th>7</th>\n",
       "      <td>8</td>\n",
       "      <td>15656148</td>\n",
       "      <td>Obinna</td>\n",
       "      <td>376</td>\n",
       "      <td>Germany</td>\n",
       "      <td>Female</td>\n",
       "      <td>29</td>\n",
       "      <td>4.0</td>\n",
       "      <td>115046.74</td>\n",
       "      <td>4</td>\n",
       "      <td>1</td>\n",
       "      <td>0</td>\n",
       "      <td>119346.88</td>\n",
       "      <td>1</td>\n",
       "    </tr>\n",
       "    <tr>\n",
       "      <th>8</th>\n",
       "      <td>9</td>\n",
       "      <td>15792365</td>\n",
       "      <td>He</td>\n",
       "      <td>501</td>\n",
       "      <td>France</td>\n",
       "      <td>Male</td>\n",
       "      <td>44</td>\n",
       "      <td>4.0</td>\n",
       "      <td>142051.07</td>\n",
       "      <td>2</td>\n",
       "      <td>0</td>\n",
       "      <td>1</td>\n",
       "      <td>74940.50</td>\n",
       "      <td>0</td>\n",
       "    </tr>\n",
       "    <tr>\n",
       "      <th>9</th>\n",
       "      <td>10</td>\n",
       "      <td>15592389</td>\n",
       "      <td>H?</td>\n",
       "      <td>684</td>\n",
       "      <td>France</td>\n",
       "      <td>Male</td>\n",
       "      <td>27</td>\n",
       "      <td>2.0</td>\n",
       "      <td>134603.88</td>\n",
       "      <td>1</td>\n",
       "      <td>1</td>\n",
       "      <td>1</td>\n",
       "      <td>71725.73</td>\n",
       "      <td>0</td>\n",
       "    </tr>\n",
       "    <tr>\n",
       "      <th>10</th>\n",
       "      <td>11</td>\n",
       "      <td>15767821</td>\n",
       "      <td>Bearce</td>\n",
       "      <td>528</td>\n",
       "      <td>France</td>\n",
       "      <td>Male</td>\n",
       "      <td>31</td>\n",
       "      <td>6.0</td>\n",
       "      <td>102016.72</td>\n",
       "      <td>2</td>\n",
       "      <td>0</td>\n",
       "      <td>0</td>\n",
       "      <td>80181.12</td>\n",
       "      <td>0</td>\n",
       "    </tr>\n",
       "    <tr>\n",
       "      <th>11</th>\n",
       "      <td>12</td>\n",
       "      <td>15737173</td>\n",
       "      <td>Andrews</td>\n",
       "      <td>497</td>\n",
       "      <td>Spain</td>\n",
       "      <td>Male</td>\n",
       "      <td>24</td>\n",
       "      <td>3.0</td>\n",
       "      <td>0.00</td>\n",
       "      <td>2</td>\n",
       "      <td>1</td>\n",
       "      <td>0</td>\n",
       "      <td>76390.01</td>\n",
       "      <td>0</td>\n",
       "    </tr>\n",
       "    <tr>\n",
       "      <th>12</th>\n",
       "      <td>13</td>\n",
       "      <td>15632264</td>\n",
       "      <td>Kay</td>\n",
       "      <td>476</td>\n",
       "      <td>France</td>\n",
       "      <td>Female</td>\n",
       "      <td>34</td>\n",
       "      <td>10.0</td>\n",
       "      <td>0.00</td>\n",
       "      <td>2</td>\n",
       "      <td>1</td>\n",
       "      <td>0</td>\n",
       "      <td>26260.98</td>\n",
       "      <td>0</td>\n",
       "    </tr>\n",
       "    <tr>\n",
       "      <th>13</th>\n",
       "      <td>14</td>\n",
       "      <td>15691483</td>\n",
       "      <td>Chin</td>\n",
       "      <td>549</td>\n",
       "      <td>France</td>\n",
       "      <td>Female</td>\n",
       "      <td>25</td>\n",
       "      <td>5.0</td>\n",
       "      <td>0.00</td>\n",
       "      <td>2</td>\n",
       "      <td>0</td>\n",
       "      <td>0</td>\n",
       "      <td>190857.79</td>\n",
       "      <td>0</td>\n",
       "    </tr>\n",
       "    <tr>\n",
       "      <th>14</th>\n",
       "      <td>15</td>\n",
       "      <td>15600882</td>\n",
       "      <td>Scott</td>\n",
       "      <td>635</td>\n",
       "      <td>Spain</td>\n",
       "      <td>Female</td>\n",
       "      <td>35</td>\n",
       "      <td>7.0</td>\n",
       "      <td>0.00</td>\n",
       "      <td>2</td>\n",
       "      <td>1</td>\n",
       "      <td>1</td>\n",
       "      <td>65951.65</td>\n",
       "      <td>0</td>\n",
       "    </tr>\n",
       "    <tr>\n",
       "      <th>15</th>\n",
       "      <td>16</td>\n",
       "      <td>15643966</td>\n",
       "      <td>Goforth</td>\n",
       "      <td>616</td>\n",
       "      <td>Germany</td>\n",
       "      <td>Male</td>\n",
       "      <td>45</td>\n",
       "      <td>3.0</td>\n",
       "      <td>143129.41</td>\n",
       "      <td>2</td>\n",
       "      <td>0</td>\n",
       "      <td>1</td>\n",
       "      <td>64327.26</td>\n",
       "      <td>0</td>\n",
       "    </tr>\n",
       "    <tr>\n",
       "      <th>16</th>\n",
       "      <td>17</td>\n",
       "      <td>15737452</td>\n",
       "      <td>Romeo</td>\n",
       "      <td>653</td>\n",
       "      <td>Germany</td>\n",
       "      <td>Male</td>\n",
       "      <td>58</td>\n",
       "      <td>1.0</td>\n",
       "      <td>132602.88</td>\n",
       "      <td>1</td>\n",
       "      <td>1</td>\n",
       "      <td>0</td>\n",
       "      <td>5097.67</td>\n",
       "      <td>1</td>\n",
       "    </tr>\n",
       "    <tr>\n",
       "      <th>17</th>\n",
       "      <td>18</td>\n",
       "      <td>15788218</td>\n",
       "      <td>Henderson</td>\n",
       "      <td>549</td>\n",
       "      <td>Spain</td>\n",
       "      <td>Female</td>\n",
       "      <td>24</td>\n",
       "      <td>9.0</td>\n",
       "      <td>0.00</td>\n",
       "      <td>2</td>\n",
       "      <td>1</td>\n",
       "      <td>1</td>\n",
       "      <td>14406.41</td>\n",
       "      <td>0</td>\n",
       "    </tr>\n",
       "    <tr>\n",
       "      <th>18</th>\n",
       "      <td>19</td>\n",
       "      <td>15661507</td>\n",
       "      <td>Muldrow</td>\n",
       "      <td>587</td>\n",
       "      <td>Spain</td>\n",
       "      <td>Male</td>\n",
       "      <td>45</td>\n",
       "      <td>6.0</td>\n",
       "      <td>0.00</td>\n",
       "      <td>1</td>\n",
       "      <td>0</td>\n",
       "      <td>0</td>\n",
       "      <td>158684.81</td>\n",
       "      <td>0</td>\n",
       "    </tr>\n",
       "    <tr>\n",
       "      <th>19</th>\n",
       "      <td>20</td>\n",
       "      <td>15568982</td>\n",
       "      <td>Hao</td>\n",
       "      <td>726</td>\n",
       "      <td>France</td>\n",
       "      <td>Female</td>\n",
       "      <td>24</td>\n",
       "      <td>6.0</td>\n",
       "      <td>0.00</td>\n",
       "      <td>2</td>\n",
       "      <td>1</td>\n",
       "      <td>1</td>\n",
       "      <td>54724.03</td>\n",
       "      <td>0</td>\n",
       "    </tr>\n",
       "  </tbody>\n",
       "</table>\n",
       "</div>"
      ],
      "text/plain": [
       "    RowNumber  CustomerId    Surname  CreditScore Geography  Gender  Age  \\\n",
       "0           1    15634602   Hargrave          619    France  Female   42   \n",
       "1           2    15647311       Hill          608     Spain  Female   41   \n",
       "2           3    15619304       Onio          502    France  Female   42   \n",
       "3           4    15701354       Boni          699    France  Female   39   \n",
       "4           5    15737888   Mitchell          850     Spain  Female   43   \n",
       "5           6    15574012        Chu          645     Spain    Male   44   \n",
       "6           7    15592531   Bartlett          822    France    Male   50   \n",
       "7           8    15656148     Obinna          376   Germany  Female   29   \n",
       "8           9    15792365         He          501    France    Male   44   \n",
       "9          10    15592389         H?          684    France    Male   27   \n",
       "10         11    15767821     Bearce          528    France    Male   31   \n",
       "11         12    15737173    Andrews          497     Spain    Male   24   \n",
       "12         13    15632264        Kay          476    France  Female   34   \n",
       "13         14    15691483       Chin          549    France  Female   25   \n",
       "14         15    15600882      Scott          635     Spain  Female   35   \n",
       "15         16    15643966    Goforth          616   Germany    Male   45   \n",
       "16         17    15737452      Romeo          653   Germany    Male   58   \n",
       "17         18    15788218  Henderson          549     Spain  Female   24   \n",
       "18         19    15661507    Muldrow          587     Spain    Male   45   \n",
       "19         20    15568982        Hao          726    France  Female   24   \n",
       "\n",
       "    Tenure    Balance  NumOfProducts  HasCrCard  IsActiveMember  \\\n",
       "0      2.0       0.00              1          1               1   \n",
       "1      1.0   83807.86              1          0               1   \n",
       "2      8.0  159660.80              3          1               0   \n",
       "3      1.0       0.00              2          0               0   \n",
       "4      2.0  125510.82              1          1               1   \n",
       "5      8.0  113755.78              2          1               0   \n",
       "6      7.0       0.00              2          1               1   \n",
       "7      4.0  115046.74              4          1               0   \n",
       "8      4.0  142051.07              2          0               1   \n",
       "9      2.0  134603.88              1          1               1   \n",
       "10     6.0  102016.72              2          0               0   \n",
       "11     3.0       0.00              2          1               0   \n",
       "12    10.0       0.00              2          1               0   \n",
       "13     5.0       0.00              2          0               0   \n",
       "14     7.0       0.00              2          1               1   \n",
       "15     3.0  143129.41              2          0               1   \n",
       "16     1.0  132602.88              1          1               0   \n",
       "17     9.0       0.00              2          1               1   \n",
       "18     6.0       0.00              1          0               0   \n",
       "19     6.0       0.00              2          1               1   \n",
       "\n",
       "    EstimatedSalary  Exited  \n",
       "0         101348.88       1  \n",
       "1         112542.58       0  \n",
       "2         113931.57       1  \n",
       "3          93826.63       0  \n",
       "4          79084.10       0  \n",
       "5         149756.71       1  \n",
       "6          10062.80       0  \n",
       "7         119346.88       1  \n",
       "8          74940.50       0  \n",
       "9          71725.73       0  \n",
       "10         80181.12       0  \n",
       "11         76390.01       0  \n",
       "12         26260.98       0  \n",
       "13        190857.79       0  \n",
       "14         65951.65       0  \n",
       "15         64327.26       0  \n",
       "16          5097.67       1  \n",
       "17         14406.41       0  \n",
       "18        158684.81       0  \n",
       "19         54724.03       0  "
      ]
     },
     "metadata": {},
     "output_type": "display_data"
    },
    {
     "name": "stdout",
     "output_type": "stream",
     "text": [
      "<class 'pandas.core.frame.DataFrame'>\n",
      "RangeIndex: 10000 entries, 0 to 9999\n",
      "Data columns (total 14 columns):\n",
      " #   Column           Non-Null Count  Dtype  \n",
      "---  ------           --------------  -----  \n",
      " 0   RowNumber        10000 non-null  int64  \n",
      " 1   CustomerId       10000 non-null  int64  \n",
      " 2   Surname          10000 non-null  object \n",
      " 3   CreditScore      10000 non-null  int64  \n",
      " 4   Geography        10000 non-null  object \n",
      " 5   Gender           10000 non-null  object \n",
      " 6   Age              10000 non-null  int64  \n",
      " 7   Tenure           9091 non-null   float64\n",
      " 8   Balance          10000 non-null  float64\n",
      " 9   NumOfProducts    10000 non-null  int64  \n",
      " 10  HasCrCard        10000 non-null  int64  \n",
      " 11  IsActiveMember   10000 non-null  int64  \n",
      " 12  EstimatedSalary  10000 non-null  float64\n",
      " 13  Exited           10000 non-null  int64  \n",
      "dtypes: float64(3), int64(8), object(3)\n",
      "memory usage: 1.1+ MB\n"
     ]
    },
    {
     "data": {
      "text/html": [
       "<div>\n",
       "<style scoped>\n",
       "    .dataframe tbody tr th:only-of-type {\n",
       "        vertical-align: middle;\n",
       "    }\n",
       "\n",
       "    .dataframe tbody tr th {\n",
       "        vertical-align: top;\n",
       "    }\n",
       "\n",
       "    .dataframe thead th {\n",
       "        text-align: right;\n",
       "    }\n",
       "</style>\n",
       "<table border=\"1\" class=\"dataframe\">\n",
       "  <thead>\n",
       "    <tr style=\"text-align: right;\">\n",
       "      <th></th>\n",
       "      <th>RowNumber</th>\n",
       "      <th>CustomerId</th>\n",
       "      <th>CreditScore</th>\n",
       "      <th>Age</th>\n",
       "      <th>Tenure</th>\n",
       "      <th>Balance</th>\n",
       "      <th>NumOfProducts</th>\n",
       "      <th>HasCrCard</th>\n",
       "      <th>IsActiveMember</th>\n",
       "      <th>EstimatedSalary</th>\n",
       "      <th>Exited</th>\n",
       "    </tr>\n",
       "  </thead>\n",
       "  <tbody>\n",
       "    <tr>\n",
       "      <th>count</th>\n",
       "      <td>10000.00000</td>\n",
       "      <td>1.000000e+04</td>\n",
       "      <td>10000.000000</td>\n",
       "      <td>10000.000000</td>\n",
       "      <td>9091.000000</td>\n",
       "      <td>10000.000000</td>\n",
       "      <td>10000.000000</td>\n",
       "      <td>10000.00000</td>\n",
       "      <td>10000.000000</td>\n",
       "      <td>10000.000000</td>\n",
       "      <td>10000.000000</td>\n",
       "    </tr>\n",
       "    <tr>\n",
       "      <th>mean</th>\n",
       "      <td>5000.50000</td>\n",
       "      <td>1.569094e+07</td>\n",
       "      <td>650.528800</td>\n",
       "      <td>38.921800</td>\n",
       "      <td>4.997690</td>\n",
       "      <td>76485.889288</td>\n",
       "      <td>1.530200</td>\n",
       "      <td>0.70550</td>\n",
       "      <td>0.515100</td>\n",
       "      <td>100090.239881</td>\n",
       "      <td>0.203700</td>\n",
       "    </tr>\n",
       "    <tr>\n",
       "      <th>std</th>\n",
       "      <td>2886.89568</td>\n",
       "      <td>7.193619e+04</td>\n",
       "      <td>96.653299</td>\n",
       "      <td>10.487806</td>\n",
       "      <td>2.894723</td>\n",
       "      <td>62397.405202</td>\n",
       "      <td>0.581654</td>\n",
       "      <td>0.45584</td>\n",
       "      <td>0.499797</td>\n",
       "      <td>57510.492818</td>\n",
       "      <td>0.402769</td>\n",
       "    </tr>\n",
       "    <tr>\n",
       "      <th>min</th>\n",
       "      <td>1.00000</td>\n",
       "      <td>1.556570e+07</td>\n",
       "      <td>350.000000</td>\n",
       "      <td>18.000000</td>\n",
       "      <td>0.000000</td>\n",
       "      <td>0.000000</td>\n",
       "      <td>1.000000</td>\n",
       "      <td>0.00000</td>\n",
       "      <td>0.000000</td>\n",
       "      <td>11.580000</td>\n",
       "      <td>0.000000</td>\n",
       "    </tr>\n",
       "    <tr>\n",
       "      <th>25%</th>\n",
       "      <td>2500.75000</td>\n",
       "      <td>1.562853e+07</td>\n",
       "      <td>584.000000</td>\n",
       "      <td>32.000000</td>\n",
       "      <td>2.000000</td>\n",
       "      <td>0.000000</td>\n",
       "      <td>1.000000</td>\n",
       "      <td>0.00000</td>\n",
       "      <td>0.000000</td>\n",
       "      <td>51002.110000</td>\n",
       "      <td>0.000000</td>\n",
       "    </tr>\n",
       "    <tr>\n",
       "      <th>50%</th>\n",
       "      <td>5000.50000</td>\n",
       "      <td>1.569074e+07</td>\n",
       "      <td>652.000000</td>\n",
       "      <td>37.000000</td>\n",
       "      <td>5.000000</td>\n",
       "      <td>97198.540000</td>\n",
       "      <td>1.000000</td>\n",
       "      <td>1.00000</td>\n",
       "      <td>1.000000</td>\n",
       "      <td>100193.915000</td>\n",
       "      <td>0.000000</td>\n",
       "    </tr>\n",
       "    <tr>\n",
       "      <th>75%</th>\n",
       "      <td>7500.25000</td>\n",
       "      <td>1.575323e+07</td>\n",
       "      <td>718.000000</td>\n",
       "      <td>44.000000</td>\n",
       "      <td>7.000000</td>\n",
       "      <td>127644.240000</td>\n",
       "      <td>2.000000</td>\n",
       "      <td>1.00000</td>\n",
       "      <td>1.000000</td>\n",
       "      <td>149388.247500</td>\n",
       "      <td>0.000000</td>\n",
       "    </tr>\n",
       "    <tr>\n",
       "      <th>max</th>\n",
       "      <td>10000.00000</td>\n",
       "      <td>1.581569e+07</td>\n",
       "      <td>850.000000</td>\n",
       "      <td>92.000000</td>\n",
       "      <td>10.000000</td>\n",
       "      <td>250898.090000</td>\n",
       "      <td>4.000000</td>\n",
       "      <td>1.00000</td>\n",
       "      <td>1.000000</td>\n",
       "      <td>199992.480000</td>\n",
       "      <td>1.000000</td>\n",
       "    </tr>\n",
       "  </tbody>\n",
       "</table>\n",
       "</div>"
      ],
      "text/plain": [
       "         RowNumber    CustomerId   CreditScore           Age       Tenure  \\\n",
       "count  10000.00000  1.000000e+04  10000.000000  10000.000000  9091.000000   \n",
       "mean    5000.50000  1.569094e+07    650.528800     38.921800     4.997690   \n",
       "std     2886.89568  7.193619e+04     96.653299     10.487806     2.894723   \n",
       "min        1.00000  1.556570e+07    350.000000     18.000000     0.000000   \n",
       "25%     2500.75000  1.562853e+07    584.000000     32.000000     2.000000   \n",
       "50%     5000.50000  1.569074e+07    652.000000     37.000000     5.000000   \n",
       "75%     7500.25000  1.575323e+07    718.000000     44.000000     7.000000   \n",
       "max    10000.00000  1.581569e+07    850.000000     92.000000    10.000000   \n",
       "\n",
       "             Balance  NumOfProducts    HasCrCard  IsActiveMember  \\\n",
       "count   10000.000000   10000.000000  10000.00000    10000.000000   \n",
       "mean    76485.889288       1.530200      0.70550        0.515100   \n",
       "std     62397.405202       0.581654      0.45584        0.499797   \n",
       "min         0.000000       1.000000      0.00000        0.000000   \n",
       "25%         0.000000       1.000000      0.00000        0.000000   \n",
       "50%     97198.540000       1.000000      1.00000        1.000000   \n",
       "75%    127644.240000       2.000000      1.00000        1.000000   \n",
       "max    250898.090000       4.000000      1.00000        1.000000   \n",
       "\n",
       "       EstimatedSalary        Exited  \n",
       "count     10000.000000  10000.000000  \n",
       "mean     100090.239881      0.203700  \n",
       "std       57510.492818      0.402769  \n",
       "min          11.580000      0.000000  \n",
       "25%       51002.110000      0.000000  \n",
       "50%      100193.915000      0.000000  \n",
       "75%      149388.247500      0.000000  \n",
       "max      199992.480000      1.000000  "
      ]
     },
     "execution_count": 4,
     "metadata": {},
     "output_type": "execute_result"
    }
   ],
   "source": [
    "#выведем типы признаков данных в таблице\n",
    "print(df.dtypes)\n",
    "\n",
    "display(df.head(20))\n",
    "df.info()\n",
    "df.describe()"
   ]
  },
  {
   "cell_type": "code",
   "execution_count": 5,
   "id": "9ec5e587",
   "metadata": {},
   "outputs": [],
   "source": [
    "#проверим распределение признака\n",
    "#df['tenure'].hist(bins=10)"
   ]
  },
  {
   "cell_type": "markdown",
   "id": "4c9a2d37",
   "metadata": {},
   "source": [
    "### Предобработка данных"
   ]
  },
  {
   "cell_type": "code",
   "execution_count": 6,
   "id": "12495255",
   "metadata": {},
   "outputs": [
    {
     "name": "stdout",
     "output_type": "stream",
     "text": [
      "Index(['RowNumber', 'CustomerId', 'Surname', 'CreditScore', 'Geography',\n",
      "       'Gender', 'Age', 'Tenure', 'Balance', 'NumOfProducts', 'HasCrCard',\n",
      "       'IsActiveMember', 'EstimatedSalary', 'Exited'],\n",
      "      dtype='object')\n",
      "\n",
      "Index(['row_number', 'customer_id', 'surname', 'credit_score', 'geography',\n",
      "       'gender', 'age', 'tenure', 'balance', 'num_of_products', 'has_cr_card',\n",
      "       'is_active_member', 'estimated_salary', 'exited'],\n",
      "      dtype='object')\n"
     ]
    }
   ],
   "source": [
    "#переведем названия признаков в snake_case\n",
    "print(df.columns) \n",
    "\n",
    "df.columns = df.columns.str.lower() # сохраним здесь список в нижнем регистре\n",
    "df = df.rename(columns={'rownumber': 'row_number',\n",
    "                        'customerid': 'customer_id',\n",
    "                        'creditscore': 'credit_score',\n",
    "                        'numofproducts': 'num_of_products',\n",
    "                        'hascrcard': 'has_cr_card',\n",
    "                        'isactivemember': 'is_active_member',\n",
    "                        'estimatedsalary': 'estimated_salary'\n",
    "                       }) \n",
    "print() \n",
    "print(df.columns) "
   ]
  },
  {
   "cell_type": "code",
   "execution_count": 7,
   "id": "2e1283ed",
   "metadata": {},
   "outputs": [
    {
     "name": "stdout",
     "output_type": "stream",
     "text": [
      "<class 'pandas.core.frame.DataFrame'>\n",
      "RangeIndex: 9091 entries, 0 to 9090\n",
      "Data columns (total 14 columns):\n",
      " #   Column            Non-Null Count  Dtype  \n",
      "---  ------            --------------  -----  \n",
      " 0   row_number        9091 non-null   int64  \n",
      " 1   customer_id       9091 non-null   int64  \n",
      " 2   surname           9091 non-null   object \n",
      " 3   credit_score      9091 non-null   int64  \n",
      " 4   geography         9091 non-null   object \n",
      " 5   gender            9091 non-null   object \n",
      " 6   age               9091 non-null   int64  \n",
      " 7   tenure            9091 non-null   float64\n",
      " 8   balance           9091 non-null   float64\n",
      " 9   num_of_products   9091 non-null   int64  \n",
      " 10  has_cr_card       9091 non-null   int64  \n",
      " 11  is_active_member  9091 non-null   int64  \n",
      " 12  estimated_salary  9091 non-null   float64\n",
      " 13  exited            9091 non-null   int64  \n",
      "dtypes: float64(3), int64(8), object(3)\n",
      "memory usage: 994.5+ KB\n"
     ]
    }
   ],
   "source": [
    "#удалим строки с пропуском признака tenure\n",
    "df = df.dropna(subset=['tenure']).reset_index(drop=True)\n",
    "df.info()"
   ]
  },
  {
   "cell_type": "code",
   "execution_count": 8,
   "id": "cd7aa5cc",
   "metadata": {},
   "outputs": [
    {
     "name": "stdout",
     "output_type": "stream",
     "text": [
      "<class 'pandas.core.frame.DataFrame'>\n",
      "RangeIndex: 9091 entries, 0 to 9090\n",
      "Data columns (total 14 columns):\n",
      " #   Column            Non-Null Count  Dtype  \n",
      "---  ------            --------------  -----  \n",
      " 0   row_number        9091 non-null   int64  \n",
      " 1   customer_id       9091 non-null   int64  \n",
      " 2   surname           9091 non-null   object \n",
      " 3   credit_score      9091 non-null   int64  \n",
      " 4   geography         9091 non-null   object \n",
      " 5   gender            9091 non-null   object \n",
      " 6   age               9091 non-null   int64  \n",
      " 7   tenure            9091 non-null   float64\n",
      " 8   balance           9091 non-null   float64\n",
      " 9   num_of_products   9091 non-null   int64  \n",
      " 10  has_cr_card       9091 non-null   int64  \n",
      " 11  is_active_member  9091 non-null   int64  \n",
      " 12  estimated_salary  9091 non-null   float64\n",
      " 13  exited            9091 non-null   int64  \n",
      "dtypes: float64(3), int64(8), object(3)\n",
      "memory usage: 994.5+ KB\n",
      "<class 'pandas.core.frame.DataFrame'>\n",
      "RangeIndex: 9091 entries, 0 to 9090\n",
      "Data columns (total 11 columns):\n",
      " #   Column            Non-Null Count  Dtype  \n",
      "---  ------            --------------  -----  \n",
      " 0   credit_score      9091 non-null   int64  \n",
      " 1   geography         9091 non-null   object \n",
      " 2   gender            9091 non-null   object \n",
      " 3   age               9091 non-null   int64  \n",
      " 4   tenure            9091 non-null   float64\n",
      " 5   balance           9091 non-null   float64\n",
      " 6   num_of_products   9091 non-null   int64  \n",
      " 7   has_cr_card       9091 non-null   int64  \n",
      " 8   is_active_member  9091 non-null   int64  \n",
      " 9   estimated_salary  9091 non-null   float64\n",
      " 10  exited            9091 non-null   int64  \n",
      "dtypes: float64(3), int64(6), object(2)\n",
      "memory usage: 781.4+ KB\n"
     ]
    }
   ],
   "source": [
    "#удалим столбец чтобы ohe не создал столбец на каждую фамилию\n",
    "df.info()\n",
    "df = df.drop(columns=['surname', 'row_number', 'customer_id'], axis=1)\n",
    "df.info()"
   ]
  },
  {
   "cell_type": "markdown",
   "id": "1f0acac4",
   "metadata": {},
   "source": [
    "### Корреляция признаков"
   ]
  },
  {
   "cell_type": "code",
   "execution_count": 9,
   "id": "12ee326d",
   "metadata": {
    "scrolled": false
   },
   "outputs": [],
   "source": [
    "#оценим графически взаимосвязи в данных и влияние параметров на целевой признак\n",
    "#sns.pairplot(df, hue=\"exited\")"
   ]
  },
  {
   "cell_type": "code",
   "execution_count": 10,
   "id": "f45b803c",
   "metadata": {},
   "outputs": [
    {
     "data": {
      "text/html": [
       "<div>\n",
       "<style scoped>\n",
       "    .dataframe tbody tr th:only-of-type {\n",
       "        vertical-align: middle;\n",
       "    }\n",
       "\n",
       "    .dataframe tbody tr th {\n",
       "        vertical-align: top;\n",
       "    }\n",
       "\n",
       "    .dataframe thead th {\n",
       "        text-align: right;\n",
       "    }\n",
       "</style>\n",
       "<table border=\"1\" class=\"dataframe\">\n",
       "  <thead>\n",
       "    <tr style=\"text-align: right;\">\n",
       "      <th></th>\n",
       "      <th>credit_score</th>\n",
       "      <th>age</th>\n",
       "      <th>tenure</th>\n",
       "      <th>balance</th>\n",
       "      <th>num_of_products</th>\n",
       "      <th>has_cr_card</th>\n",
       "      <th>is_active_member</th>\n",
       "      <th>estimated_salary</th>\n",
       "      <th>exited</th>\n",
       "    </tr>\n",
       "  </thead>\n",
       "  <tbody>\n",
       "    <tr>\n",
       "      <th>credit_score</th>\n",
       "      <td>1.000000</td>\n",
       "      <td>-0.004504</td>\n",
       "      <td>-0.000062</td>\n",
       "      <td>0.002804</td>\n",
       "      <td>0.011090</td>\n",
       "      <td>-0.003937</td>\n",
       "      <td>0.030947</td>\n",
       "      <td>0.005182</td>\n",
       "      <td>-0.023950</td>\n",
       "    </tr>\n",
       "    <tr>\n",
       "      <th>age</th>\n",
       "      <td>-0.004504</td>\n",
       "      <td>1.000000</td>\n",
       "      <td>-0.013134</td>\n",
       "      <td>0.031481</td>\n",
       "      <td>-0.031877</td>\n",
       "      <td>-0.014129</td>\n",
       "      <td>0.082269</td>\n",
       "      <td>-0.007037</td>\n",
       "      <td>0.283017</td>\n",
       "    </tr>\n",
       "    <tr>\n",
       "      <th>tenure</th>\n",
       "      <td>-0.000062</td>\n",
       "      <td>-0.013134</td>\n",
       "      <td>1.000000</td>\n",
       "      <td>-0.007911</td>\n",
       "      <td>0.011979</td>\n",
       "      <td>0.027232</td>\n",
       "      <td>-0.032178</td>\n",
       "      <td>0.010520</td>\n",
       "      <td>-0.016761</td>\n",
       "    </tr>\n",
       "    <tr>\n",
       "      <th>balance</th>\n",
       "      <td>0.002804</td>\n",
       "      <td>0.031481</td>\n",
       "      <td>-0.007911</td>\n",
       "      <td>1.000000</td>\n",
       "      <td>-0.301858</td>\n",
       "      <td>-0.019055</td>\n",
       "      <td>-0.003285</td>\n",
       "      <td>0.014351</td>\n",
       "      <td>0.117218</td>\n",
       "    </tr>\n",
       "    <tr>\n",
       "      <th>num_of_products</th>\n",
       "      <td>0.011090</td>\n",
       "      <td>-0.031877</td>\n",
       "      <td>0.011979</td>\n",
       "      <td>-0.301858</td>\n",
       "      <td>1.000000</td>\n",
       "      <td>0.005805</td>\n",
       "      <td>0.009084</td>\n",
       "      <td>0.013990</td>\n",
       "      <td>-0.050271</td>\n",
       "    </tr>\n",
       "    <tr>\n",
       "      <th>has_cr_card</th>\n",
       "      <td>-0.003937</td>\n",
       "      <td>-0.014129</td>\n",
       "      <td>0.027232</td>\n",
       "      <td>-0.019055</td>\n",
       "      <td>0.005805</td>\n",
       "      <td>1.000000</td>\n",
       "      <td>-0.008810</td>\n",
       "      <td>-0.006136</td>\n",
       "      <td>-0.005411</td>\n",
       "    </tr>\n",
       "    <tr>\n",
       "      <th>is_active_member</th>\n",
       "      <td>0.030947</td>\n",
       "      <td>0.082269</td>\n",
       "      <td>-0.032178</td>\n",
       "      <td>-0.003285</td>\n",
       "      <td>0.009084</td>\n",
       "      <td>-0.008810</td>\n",
       "      <td>1.000000</td>\n",
       "      <td>-0.020049</td>\n",
       "      <td>-0.155062</td>\n",
       "    </tr>\n",
       "    <tr>\n",
       "      <th>estimated_salary</th>\n",
       "      <td>0.005182</td>\n",
       "      <td>-0.007037</td>\n",
       "      <td>0.010520</td>\n",
       "      <td>0.014351</td>\n",
       "      <td>0.013990</td>\n",
       "      <td>-0.006136</td>\n",
       "      <td>-0.020049</td>\n",
       "      <td>1.000000</td>\n",
       "      <td>0.016029</td>\n",
       "    </tr>\n",
       "    <tr>\n",
       "      <th>exited</th>\n",
       "      <td>-0.023950</td>\n",
       "      <td>0.283017</td>\n",
       "      <td>-0.016761</td>\n",
       "      <td>0.117218</td>\n",
       "      <td>-0.050271</td>\n",
       "      <td>-0.005411</td>\n",
       "      <td>-0.155062</td>\n",
       "      <td>0.016029</td>\n",
       "      <td>1.000000</td>\n",
       "    </tr>\n",
       "  </tbody>\n",
       "</table>\n",
       "</div>"
      ],
      "text/plain": [
       "                  credit_score       age    tenure   balance  num_of_products  \\\n",
       "credit_score          1.000000 -0.004504 -0.000062  0.002804         0.011090   \n",
       "age                  -0.004504  1.000000 -0.013134  0.031481        -0.031877   \n",
       "tenure               -0.000062 -0.013134  1.000000 -0.007911         0.011979   \n",
       "balance               0.002804  0.031481 -0.007911  1.000000        -0.301858   \n",
       "num_of_products       0.011090 -0.031877  0.011979 -0.301858         1.000000   \n",
       "has_cr_card          -0.003937 -0.014129  0.027232 -0.019055         0.005805   \n",
       "is_active_member      0.030947  0.082269 -0.032178 -0.003285         0.009084   \n",
       "estimated_salary      0.005182 -0.007037  0.010520  0.014351         0.013990   \n",
       "exited               -0.023950  0.283017 -0.016761  0.117218        -0.050271   \n",
       "\n",
       "                  has_cr_card  is_active_member  estimated_salary    exited  \n",
       "credit_score        -0.003937          0.030947          0.005182 -0.023950  \n",
       "age                 -0.014129          0.082269         -0.007037  0.283017  \n",
       "tenure               0.027232         -0.032178          0.010520 -0.016761  \n",
       "balance             -0.019055         -0.003285          0.014351  0.117218  \n",
       "num_of_products      0.005805          0.009084          0.013990 -0.050271  \n",
       "has_cr_card          1.000000         -0.008810         -0.006136 -0.005411  \n",
       "is_active_member    -0.008810          1.000000         -0.020049 -0.155062  \n",
       "estimated_salary    -0.006136         -0.020049          1.000000  0.016029  \n",
       "exited              -0.005411         -0.155062          0.016029  1.000000  "
      ]
     },
     "metadata": {},
     "output_type": "display_data"
    },
    {
     "data": {
      "text/plain": [
       "<AxesSubplot:>"
      ]
     },
     "execution_count": 10,
     "metadata": {},
     "output_type": "execute_result"
    },
    {
     "data": {
      "image/png": "[encoded data removed]",
      "text/plain": [
       "<Figure size 432x288 with 2 Axes>"
      ]
     },
     "metadata": {
      "needs_background": "light"
     },
     "output_type": "display_data"
    }
   ],
   "source": [
    "#рассчитаем корреляцию признаков\n",
    "\n",
    "# Numeric columns of the dataset\n",
    "numeric_col = ['credit_score','age','tenure','balance','num_of_products',\n",
    "               'has_cr_card','is_active_member','estimated_salary','exited']\n",
    "\n",
    "#Correlation Matrix formation\n",
    "corr_matrix = df.loc[:,numeric_col].corr()\n",
    "display(corr_matrix)\n",
    "\n",
    "#Using heatmap to visualize the correlation matrix\n",
    "sn.heatmap(corr_matrix, annot=True)"
   ]
  },
  {
   "cell_type": "markdown",
   "id": "b353f3fe",
   "metadata": {},
   "source": [
    "### Применим технику прямого кодирования One-Hot Encoding (OHE)"
   ]
  },
  {
   "cell_type": "markdown",
   "id": "2faa7a77",
   "metadata": {},
   "source": [
    "    Наши данные содержат категориальные признаки. \n",
    "    Принадлежность к категории к примеру логистическая регрессия вычисляет по формуле, состоящей из признаков. \n",
    "    Они могут быть только численные.\n",
    "    Поэтому применим технику прямого кодирования One-Hot Encoding, OHE. \n",
    "    Она подходит для решения нашей задачи: работает со всеми моделями."
   ]
  },
  {
   "cell_type": "code",
   "execution_count": 11,
   "id": "8b2225a8",
   "metadata": {},
   "outputs": [],
   "source": [
    "#чтобы не попасть в dummy trap , применим аргумент drop_first функции pd.get_dummies(). \n",
    "df_ohe = pd.get_dummies(df, drop_first=True)\n",
    "\n",
    "target = df_ohe['exited'] # извлечем целевой признак\n",
    "features = df_ohe.drop(['exited'], axis=1) # извлечем признаки "
   ]
  },
  {
   "cell_type": "markdown",
   "id": "e5fb2efa",
   "metadata": {},
   "source": [
    "### Разделим исходные данные на обучающую, валидационную и тестовую выборки."
   ]
  },
  {
   "cell_type": "code",
   "execution_count": 12,
   "id": "1bfc9532",
   "metadata": {},
   "outputs": [
    {
     "name": "stdout",
     "output_type": "stream",
     "text": [
      "features (9091, 11)\n",
      "features_train (5454, 11)\n",
      "features_valid_test (3637, 11)\n",
      "features_valid (1818, 11)\n",
      "features_test (1819, 11)\n"
     ]
    }
   ],
   "source": [
    "# отделим выборки, 60% обучающая-train, валидационная 20%, тестовая 20%\n",
    "# отделим 40% данных для валидационной и тестовой выборки\n",
    "features_train, features_valid_test, target_train, target_valid_test = train_test_split(\n",
    "    features, target, test_size=0.4, random_state=12345) \n",
    "# разделим выборку пополам, получим валидационная 20%, тестовая 20% от исходной\n",
    "features_valid, features_test, target_valid, target_test = train_test_split(\n",
    "    features_valid_test, target_valid_test, test_size=0.5, random_state=12345) \n",
    "\n",
    "print('features', features.shape)\n",
    "print('features_train', features_train.shape)\n",
    "print('features_valid_test', features_valid_test.shape)\n",
    "print('features_valid', features_valid.shape)\n",
    "print('features_test', features_test.shape)"
   ]
  },
  {
   "cell_type": "code",
   "execution_count": 13,
   "id": "4362edd8",
   "metadata": {},
   "outputs": [
    {
     "name": "stdout",
     "output_type": "stream",
     "text": [
      "features_train (5454, 11)\n",
      "features_valid (1818, 11)\n",
      "features_train_valid (7272, 11)\n"
     ]
    }
   ],
   "source": [
    "#объединим выборки для лучшего обучения перед проверкой на тестовой\n",
    "features_train_valid = pd.concat([features_train, features_valid], axis=0)\n",
    "target_train_valid   = pd.concat([target_train, target_valid], axis=0)\n",
    "\n",
    "print('features_train', features_train.shape)\n",
    "print('features_valid', features_valid.shape)\n",
    "print('features_train_valid', features_train_valid.shape)"
   ]
  },
  {
   "cell_type": "markdown",
   "id": "76ae1265",
   "metadata": {},
   "source": [
    "### Применим масштабирование признаков методом стандартизации данных"
   ]
  },
  {
   "cell_type": "code",
   "execution_count": 14,
   "id": "017912c4",
   "metadata": {
    "scrolled": false
   },
   "outputs": [
    {
     "name": "stdout",
     "output_type": "stream",
     "text": [
      "<class 'pandas.core.frame.DataFrame'>\n",
      "Int64Index: 5454 entries, 8483 to 4578\n",
      "Data columns (total 11 columns):\n",
      " #   Column             Non-Null Count  Dtype  \n",
      "---  ------             --------------  -----  \n",
      " 0   credit_score       5454 non-null   int64  \n",
      " 1   age                5454 non-null   int64  \n",
      " 2   tenure             5454 non-null   float64\n",
      " 3   balance            5454 non-null   float64\n",
      " 4   num_of_products    5454 non-null   int64  \n",
      " 5   has_cr_card        5454 non-null   int64  \n",
      " 6   is_active_member   5454 non-null   int64  \n",
      " 7   estimated_salary   5454 non-null   float64\n",
      " 8   geography_Germany  5454 non-null   uint8  \n",
      " 9   geography_Spain    5454 non-null   uint8  \n",
      " 10  gender_Male        5454 non-null   uint8  \n",
      "dtypes: float64(3), int64(5), uint8(3)\n",
      "memory usage: 399.5 KB\n"
     ]
    },
    {
     "data": {
      "text/html": [
       "<div>\n",
       "<style scoped>\n",
       "    .dataframe tbody tr th:only-of-type {\n",
       "        vertical-align: middle;\n",
       "    }\n",
       "\n",
       "    .dataframe tbody tr th {\n",
       "        vertical-align: top;\n",
       "    }\n",
       "\n",
       "    .dataframe thead th {\n",
       "        text-align: right;\n",
       "    }\n",
       "</style>\n",
       "<table border=\"1\" class=\"dataframe\">\n",
       "  <thead>\n",
       "    <tr style=\"text-align: right;\">\n",
       "      <th></th>\n",
       "      <th>credit_score</th>\n",
       "      <th>age</th>\n",
       "      <th>tenure</th>\n",
       "      <th>balance</th>\n",
       "      <th>num_of_products</th>\n",
       "      <th>has_cr_card</th>\n",
       "      <th>is_active_member</th>\n",
       "      <th>estimated_salary</th>\n",
       "      <th>geography_Germany</th>\n",
       "      <th>geography_Spain</th>\n",
       "      <th>gender_Male</th>\n",
       "    </tr>\n",
       "  </thead>\n",
       "  <tbody>\n",
       "    <tr>\n",
       "      <th>8483</th>\n",
       "      <td>727</td>\n",
       "      <td>28</td>\n",
       "      <td>2.0</td>\n",
       "      <td>110997.76</td>\n",
       "      <td>1</td>\n",
       "      <td>1</td>\n",
       "      <td>0</td>\n",
       "      <td>101433.76</td>\n",
       "      <td>0</td>\n",
       "      <td>0</td>\n",
       "      <td>0</td>\n",
       "    </tr>\n",
       "    <tr>\n",
       "      <th>3431</th>\n",
       "      <td>537</td>\n",
       "      <td>26</td>\n",
       "      <td>7.0</td>\n",
       "      <td>106397.75</td>\n",
       "      <td>1</td>\n",
       "      <td>0</td>\n",
       "      <td>0</td>\n",
       "      <td>103563.23</td>\n",
       "      <td>0</td>\n",
       "      <td>0</td>\n",
       "      <td>1</td>\n",
       "    </tr>\n",
       "    <tr>\n",
       "      <th>6770</th>\n",
       "      <td>610</td>\n",
       "      <td>40</td>\n",
       "      <td>9.0</td>\n",
       "      <td>0.00</td>\n",
       "      <td>1</td>\n",
       "      <td>1</td>\n",
       "      <td>1</td>\n",
       "      <td>149602.54</td>\n",
       "      <td>0</td>\n",
       "      <td>0</td>\n",
       "      <td>1</td>\n",
       "    </tr>\n",
       "    <tr>\n",
       "      <th>1350</th>\n",
       "      <td>576</td>\n",
       "      <td>36</td>\n",
       "      <td>6.0</td>\n",
       "      <td>0.00</td>\n",
       "      <td>2</td>\n",
       "      <td>1</td>\n",
       "      <td>1</td>\n",
       "      <td>48314.00</td>\n",
       "      <td>0</td>\n",
       "      <td>0</td>\n",
       "      <td>1</td>\n",
       "    </tr>\n",
       "    <tr>\n",
       "      <th>4047</th>\n",
       "      <td>549</td>\n",
       "      <td>31</td>\n",
       "      <td>4.0</td>\n",
       "      <td>0.00</td>\n",
       "      <td>2</td>\n",
       "      <td>0</td>\n",
       "      <td>1</td>\n",
       "      <td>25684.85</td>\n",
       "      <td>0</td>\n",
       "      <td>0</td>\n",
       "      <td>1</td>\n",
       "    </tr>\n",
       "  </tbody>\n",
       "</table>\n",
       "</div>"
      ],
      "text/plain": [
       "      credit_score  age  tenure    balance  num_of_products  has_cr_card  \\\n",
       "8483           727   28     2.0  110997.76                1            1   \n",
       "3431           537   26     7.0  106397.75                1            0   \n",
       "6770           610   40     9.0       0.00                1            1   \n",
       "1350           576   36     6.0       0.00                2            1   \n",
       "4047           549   31     4.0       0.00                2            0   \n",
       "\n",
       "      is_active_member  estimated_salary  geography_Germany  geography_Spain  \\\n",
       "8483                 0         101433.76                  0                0   \n",
       "3431                 0         103563.23                  0                0   \n",
       "6770                 1         149602.54                  0                0   \n",
       "1350                 1          48314.00                  0                0   \n",
       "4047                 1          25684.85                  0                0   \n",
       "\n",
       "      gender_Male  \n",
       "8483            0  \n",
       "3431            1  \n",
       "6770            1  \n",
       "1350            1  \n",
       "4047            1  "
      ]
     },
     "metadata": {},
     "output_type": "display_data"
    }
   ],
   "source": [
    "features_train.info()\n",
    "display(features_train.head())"
   ]
  },
  {
   "cell_type": "code",
   "execution_count": 15,
   "id": "36036a5b",
   "metadata": {},
   "outputs": [],
   "source": [
    "#внесем в список все численные признаки\n",
    "numeric = ['credit_score', \n",
    "           'age',\n",
    "           'tenure',\n",
    "           'balance',\n",
    "           'num_of_products', \n",
    "           'has_cr_card', \n",
    "           'is_active_member', \n",
    "           'estimated_salary',\n",
    "           'geography_Germany',\n",
    "           'geography_Spain',\n",
    "           'gender_Male'\n",
    "          ]\n",
    "\n",
    "#создадим объект структуры StandardScaler и настроим его на обучающих данных. Настройка — вычисление среднего и дисперсии\n",
    "scaler = StandardScaler()\n",
    "scaler.fit(features_train[numeric]) \n",
    "\n",
    "features_train[numeric] = scaler.transform(features_train[numeric])\n",
    "features_valid[numeric] = scaler.transform(features_valid[numeric])\n",
    "features_test[numeric] = scaler.transform(features_test[numeric])\n",
    "\n",
    "features_train_valid[numeric] = scaler.transform(features_train_valid[numeric])"
   ]
  },
  {
   "cell_type": "code",
   "execution_count": 16,
   "id": "3a1213bc",
   "metadata": {
    "scrolled": false
   },
   "outputs": [
    {
     "data": {
      "text/html": [
       "<div>\n",
       "<style scoped>\n",
       "    .dataframe tbody tr th:only-of-type {\n",
       "        vertical-align: middle;\n",
       "    }\n",
       "\n",
       "    .dataframe tbody tr th {\n",
       "        vertical-align: top;\n",
       "    }\n",
       "\n",
       "    .dataframe thead th {\n",
       "        text-align: right;\n",
       "    }\n",
       "</style>\n",
       "<table border=\"1\" class=\"dataframe\">\n",
       "  <thead>\n",
       "    <tr style=\"text-align: right;\">\n",
       "      <th></th>\n",
       "      <th>credit_score</th>\n",
       "      <th>age</th>\n",
       "      <th>tenure</th>\n",
       "      <th>balance</th>\n",
       "      <th>num_of_products</th>\n",
       "      <th>has_cr_card</th>\n",
       "      <th>is_active_member</th>\n",
       "      <th>estimated_salary</th>\n",
       "      <th>geography_Germany</th>\n",
       "      <th>geography_Spain</th>\n",
       "      <th>gender_Male</th>\n",
       "    </tr>\n",
       "  </thead>\n",
       "  <tbody>\n",
       "    <tr>\n",
       "      <th>8483</th>\n",
       "      <td>0.809075</td>\n",
       "      <td>-1.039327</td>\n",
       "      <td>-1.025995</td>\n",
       "      <td>0.554904</td>\n",
       "      <td>-0.908179</td>\n",
       "      <td>0.663468</td>\n",
       "      <td>-1.024127</td>\n",
       "      <td>0.019508</td>\n",
       "      <td>-0.58229</td>\n",
       "      <td>-0.572128</td>\n",
       "      <td>-1.107304</td>\n",
       "    </tr>\n",
       "    <tr>\n",
       "      <th>3431</th>\n",
       "      <td>-1.152518</td>\n",
       "      <td>-1.227561</td>\n",
       "      <td>0.696524</td>\n",
       "      <td>0.480609</td>\n",
       "      <td>-0.908179</td>\n",
       "      <td>-1.507231</td>\n",
       "      <td>-1.024127</td>\n",
       "      <td>0.056167</td>\n",
       "      <td>-0.58229</td>\n",
       "      <td>-0.572128</td>\n",
       "      <td>0.903094</td>\n",
       "    </tr>\n",
       "    <tr>\n",
       "      <th>6770</th>\n",
       "      <td>-0.398853</td>\n",
       "      <td>0.090079</td>\n",
       "      <td>1.385532</td>\n",
       "      <td>-1.237830</td>\n",
       "      <td>-0.908179</td>\n",
       "      <td>0.663468</td>\n",
       "      <td>0.976442</td>\n",
       "      <td>0.848738</td>\n",
       "      <td>-0.58229</td>\n",
       "      <td>-0.572128</td>\n",
       "      <td>0.903094</td>\n",
       "    </tr>\n",
       "    <tr>\n",
       "      <th>1350</th>\n",
       "      <td>-0.749875</td>\n",
       "      <td>-0.286389</td>\n",
       "      <td>0.352020</td>\n",
       "      <td>-1.237830</td>\n",
       "      <td>0.809300</td>\n",
       "      <td>0.663468</td>\n",
       "      <td>0.976442</td>\n",
       "      <td>-0.894953</td>\n",
       "      <td>-0.58229</td>\n",
       "      <td>-0.572128</td>\n",
       "      <td>0.903094</td>\n",
       "    </tr>\n",
       "    <tr>\n",
       "      <th>4047</th>\n",
       "      <td>-1.028628</td>\n",
       "      <td>-0.756975</td>\n",
       "      <td>-0.336987</td>\n",
       "      <td>-1.237830</td>\n",
       "      <td>0.809300</td>\n",
       "      <td>-1.507231</td>\n",
       "      <td>0.976442</td>\n",
       "      <td>-1.284516</td>\n",
       "      <td>-0.58229</td>\n",
       "      <td>-0.572128</td>\n",
       "      <td>0.903094</td>\n",
       "    </tr>\n",
       "  </tbody>\n",
       "</table>\n",
       "</div>"
      ],
      "text/plain": [
       "      credit_score       age    tenure   balance  num_of_products  \\\n",
       "8483      0.809075 -1.039327 -1.025995  0.554904        -0.908179   \n",
       "3431     -1.152518 -1.227561  0.696524  0.480609        -0.908179   \n",
       "6770     -0.398853  0.090079  1.385532 -1.237830        -0.908179   \n",
       "1350     -0.749875 -0.286389  0.352020 -1.237830         0.809300   \n",
       "4047     -1.028628 -0.756975 -0.336987 -1.237830         0.809300   \n",
       "\n",
       "      has_cr_card  is_active_member  estimated_salary  geography_Germany  \\\n",
       "8483     0.663468         -1.024127          0.019508           -0.58229   \n",
       "3431    -1.507231         -1.024127          0.056167           -0.58229   \n",
       "6770     0.663468          0.976442          0.848738           -0.58229   \n",
       "1350     0.663468          0.976442         -0.894953           -0.58229   \n",
       "4047    -1.507231          0.976442         -1.284516           -0.58229   \n",
       "\n",
       "      geography_Spain  gender_Male  \n",
       "8483        -0.572128    -1.107304  \n",
       "3431        -0.572128     0.903094  \n",
       "6770        -0.572128     0.903094  \n",
       "1350        -0.572128     0.903094  \n",
       "4047        -0.572128     0.903094  "
      ]
     },
     "metadata": {},
     "output_type": "display_data"
    },
    {
     "name": "stdout",
     "output_type": "stream",
     "text": [
      "<class 'pandas.core.frame.DataFrame'>\n",
      "Int64Index: 5454 entries, 8483 to 4578\n",
      "Data columns (total 11 columns):\n",
      " #   Column             Non-Null Count  Dtype  \n",
      "---  ------             --------------  -----  \n",
      " 0   credit_score       5454 non-null   float64\n",
      " 1   age                5454 non-null   float64\n",
      " 2   tenure             5454 non-null   float64\n",
      " 3   balance            5454 non-null   float64\n",
      " 4   num_of_products    5454 non-null   float64\n",
      " 5   has_cr_card        5454 non-null   float64\n",
      " 6   is_active_member   5454 non-null   float64\n",
      " 7   estimated_salary   5454 non-null   float64\n",
      " 8   geography_Germany  5454 non-null   float64\n",
      " 9   geography_Spain    5454 non-null   float64\n",
      " 10  gender_Male        5454 non-null   float64\n",
      "dtypes: float64(11)\n",
      "memory usage: 511.3 KB\n"
     ]
    }
   ],
   "source": [
    "#посмотрим на результат масштабирования\n",
    "display(features_train.head())\n",
    "features_train.info()"
   ]
  },
  {
   "cell_type": "markdown",
   "id": "938f4210",
   "metadata": {},
   "source": [
    "### Вывод\n",
    "    -пропуски в признаке Tenure, около 9%. Удалим объекты (строки) с пропусками по данному признаку, т.к заменять на ноль нельзя - это нарушит обучение модели, оставлять пропуски нельзя, с ними не работают модели, заменять средним и медианой также нельзя - на таких данных нельзя обучать.\n",
    "    -названия признаков переведем перевести в snake_case\n",
    "    -есть несколько категориальных признаков, например Geography, Gender, поэтому применим OHE\n",
    "    -целевой признак Exited, около 20% клиентов из данного датасета - расторгли договор обслуживания (mean 0.203700)\n",
    "    -сила связи набра признаков с целевым признаком по шкале Чеддока -очень слабая, наиболее высокая сила связи (из имеющихся ) с признаком возраст -0.283017"
   ]
  },
  {
   "cell_type": "markdown",
   "id": "2ce44460",
   "metadata": {},
   "source": [
    "## Исследуем баланс классов, обучим модель без учёта дисбаланса. Кратко опишем выводы."
   ]
  },
  {
   "cell_type": "markdown",
   "id": "ac75cdae",
   "metadata": {},
   "source": [
    "### Проверка адекватности модели"
   ]
  },
  {
   "cell_type": "code",
   "execution_count": 17,
   "id": "11015ce4",
   "metadata": {},
   "outputs": [
    {
     "name": "stdout",
     "output_type": "stream",
     "text": [
      "0    0.796062\n",
      "1    0.203938\n",
      "Name: exited, dtype: float64\n"
     ]
    },
    {
     "data": {
      "text/plain": [
       "<AxesSubplot:>"
      ]
     },
     "execution_count": 17,
     "metadata": {},
     "output_type": "execute_result"
    },
    {
     "data": {
      "image/png": "[encoded data removed]",
      "text/plain": [
       "<Figure size 432x288 with 1 Axes>"
      ]
     },
     "metadata": {
      "needs_background": "light"
     },
     "output_type": "display_data"
    }
   ],
   "source": [
    "#для подсчёта классов в целевом признаке применим метод value_counts(). Сделаем частоты относительными (от 0 до 1)\n",
    "class_frequency = df['exited'].value_counts(normalize=True)\n",
    "print(class_frequency)\n",
    "class_frequency.plot(kind='bar') #построим диаграмму"
   ]
  },
  {
   "cell_type": "code",
   "execution_count": 18,
   "id": "750cbc7e",
   "metadata": {},
   "outputs": [],
   "source": [
    "#уберем дубликат, ниже уже обучили DecisionTreeClassifier\n",
    "\n",
    "#model = DecisionTreeClassifier(random_state=12345)\n",
    "#model.fit(features_train, target_train)\n",
    "\n",
    "# чтобы работала функция value_counts(),\n",
    "# мы преобразовали результат к pd.Series \n",
    "#predicted_valid = pd.Series(model.predict(features_valid))\n",
    "\n",
    "#class_frequency = predicted_valid.value_counts(normalize=True)\n",
    "#print(class_frequency)\n",
    "#class_frequency.plot(kind='bar') #построим диаграмму"
   ]
  },
  {
   "cell_type": "markdown",
   "id": "66f59bc3",
   "metadata": {},
   "source": [
    " #### Комментарий студента\n",
    "     F1 ниже, выше код взят из теории, так учили проверять дисбаланс\n"
   ]
  },
  {
   "cell_type": "code",
   "execution_count": 19,
   "id": "6a3c80d6",
   "metadata": {},
   "outputs": [
    {
     "name": "stdout",
     "output_type": "stream",
     "text": [
      "accuracy_score:: 0.796 \n",
      "f1_score: 0.0\n"
     ]
    }
   ],
   "source": [
    "#Создадим константную модель: любому объекту она прогнозирует класс «0» и Сохраните её предсказания в target_pred_constant.\n",
    "target_pred_constant =  pd.Series(0, index=target.index) \n",
    "\n",
    "#Посчитаем accuracy и f1 константной модели\n",
    "print(\"accuracy_score:: {0:.3f} \".format(accuracy_score(target, target_pred_constant)))\n",
    "print('f1_score:', f1_score(target, target_pred_constant))"
   ]
  },
  {
   "cell_type": "markdown",
   "id": "b5a6fae5",
   "metadata": {},
   "source": [
    "### F1-мера + AUC-ROC LogisticRegression (обучение - train, проверка f1 и auc_roc - valid)"
   ]
  },
  {
   "cell_type": "code",
   "execution_count": 20,
   "id": "e590063b",
   "metadata": {},
   "outputs": [
    {
     "name": "stdout",
     "output_type": "stream",
     "text": [
      "f1_score:: 0.303 \n",
      "auc_roc: 0.774 \n"
     ]
    }
   ],
   "source": [
    "model = LogisticRegression(random_state=12345, solver='liblinear')\n",
    "model.fit(features_train, target_train) \n",
    "predicted_valid = model.predict(features_valid)\n",
    "print(\"f1_score:: {0:.3f} \".format(f1_score(target_valid, predicted_valid)))\n",
    "\n",
    "#AUC-ROC\n",
    "probabilities_valid = model.predict_proba(features_valid)\n",
    "probabilities_one_valid = probabilities_valid[:, 1]\n",
    "#рассчитаем AUC-ROC\n",
    "auc_roc = roc_auc_score(target_valid, probabilities_one_valid)\n",
    "print(\"auc_roc: {0:.3f} \".format(auc_roc))"
   ]
  },
  {
   "cell_type": "markdown",
   "id": "cfdb8f96",
   "metadata": {},
   "source": [
    "### F1-мера + AUC-ROC DecisionTreeClassifier (обучение - train, проверка f1 auc_roc - valid)\n",
    "Агрегирующая метрика, (англ. F1-score) - среднее гармоническое полноты и точности. Единица в F1 означает, что соотношение полноты и точности равно 1:1."
   ]
  },
  {
   "cell_type": "code",
   "execution_count": 21,
   "id": "8480ab1b",
   "metadata": {},
   "outputs": [
    {
     "name": "stdout",
     "output_type": "stream",
     "text": [
      "f1_score:: 0.493 \n",
      "auc_roc: 0.680 \n"
     ]
    }
   ],
   "source": [
    "model = DecisionTreeClassifier(random_state=12345)\n",
    "model.fit(features_train, target_train)\n",
    "predicted_valid = model.predict(features_valid)\n",
    "print(\"f1_score:: {0:.3f} \".format(f1_score(target_valid, predicted_valid)))\n",
    "\n",
    "#AUC-ROC\n",
    "probabilities_valid = model.predict_proba(features_valid)\n",
    "probabilities_one_valid = probabilities_valid[:, 1]\n",
    "#рассчитаем AUC-ROC\n",
    "auc_roc = roc_auc_score(target_valid, probabilities_one_valid)\n",
    "print(\"auc_roc: {0:.3f} \".format(auc_roc))"
   ]
  },
  {
   "cell_type": "markdown",
   "id": "9e6c1369",
   "metadata": {},
   "source": [
    "### F1-мера  + AUC-ROC RandomForestClassifier + GridSearchCV (обучение grid и model - train, проверка f1 и auc_roc - valid)"
   ]
  },
  {
   "cell_type": "code",
   "execution_count": null,
   "id": "c446b744",
   "metadata": {
    "scrolled": true
   },
   "outputs": [
    {
     "name": "stdout",
     "output_type": "stream",
     "text": [
      "Fitting 5 folds for each of 980 candidates, totalling 4900 fits\n"
     ]
    }
   ],
   "source": [
    "%%time\n",
    "\n",
    "#объявляем классификатор RandomForest, не внося в него никаких параметров\n",
    "model = RandomForestClassifier()\n",
    "\n",
    "#создаем словарь, в который вписываем параметры, которые будем прогонять GridSearch’ем\n",
    "#инструмент работает с диапазоном, а нам нужно фикс значение random_state, поэтому поставим диапазон (12345, 12346, 10)\n",
    "parametrs = { 'random_state': range (12345, 12346, 10), \n",
    "              'n_estimators': range (10, 51, 10),\n",
    "              'max_depth': range (1, 15, 2),\n",
    "              'min_samples_leaf': range (1, 8),\n",
    "              'min_samples_split': range (2, 10, 2),\n",
    "            }\n",
    "\n",
    "#запускаем обучение (n_jobs = -1, использовать все ЦП для обучения, по умолчанию 1 - использовать 1 ЦП)\n",
    "grid = GridSearchCV(model, parametrs, cv=5, n_jobs = -1, scoring='f1', verbose=True)\n",
    "grid.fit(features_train, target_train)\n",
    "\n",
    "#выводим лучшие параметры\n",
    "grid.best_params_"
   ]
  },
  {
   "cell_type": "markdown",
   "id": "3f01d284",
   "metadata": {},
   "source": [
    "#### grid.best_params_\n",
    "     \n",
    "     Wall time: 2min 20s\n",
    "    {'max_depth': 13,\n",
    "     'min_samples_leaf': 2,\n",
    "     'min_samples_split': 6,\n",
    "     'n_estimators': 40,\n",
    "     'random_state': 12345}\n",
    "     f1_score: 0.582 \n",
    "     auc_roc: 0.867 "
   ]
  },
  {
   "cell_type": "code",
   "execution_count": null,
   "id": "1e2b3f37",
   "metadata": {},
   "outputs": [],
   "source": [
    "# обучим модель на тренировочной выборке\n",
    "#model = grid.best_estimator_\n",
    "model = RandomForestClassifier(random_state=12345, n_estimators=40, min_samples_split=6, min_samples_leaf=2, max_depth=13) \n",
    "model.fit(features_train, target_train) \n",
    "# узнаем и сохраним предсказания на валидационной выборке\n",
    "predicted_valid = model.predict(features_valid)\n",
    "# узнаем и сохраним f1 на валидационной выборке\n",
    "result = f1_score(target_valid, predicted_valid)\n",
    "print(\"f1_score: {0:.3f} \".format(result))\n",
    "\n",
    "\n",
    "#AUC-ROC\n",
    "probabilities_valid = model.predict_proba(features_valid)\n",
    "probabilities_one_valid = probabilities_valid[:, 1]\n",
    "#рассчитаем AUC-ROC\n",
    "auc_roc = roc_auc_score(target_valid, probabilities_one_valid)\n",
    "print(\"auc_roc: {0:.3f} \".format(auc_roc))"
   ]
  },
  {
   "cell_type": "markdown",
   "id": "ef1d9844",
   "metadata": {},
   "source": [
    "### F1-мера + AUC-ROC RandomForestClassifier + RandomizedSearchCV (обучение grid и model - train, проверка f1 и auc_roc - valid)"
   ]
  },
  {
   "cell_type": "code",
   "execution_count": null,
   "id": "8e92617c",
   "metadata": {
    "scrolled": true
   },
   "outputs": [],
   "source": [
    "%%time\n",
    "\n",
    "#объявляем классификатор RandomForest, не внося в него никаких параметров\n",
    "model = RandomForestClassifier()\n",
    "\n",
    "#создаем словарь, в который вписываем параметры, которые будем прогонять \n",
    "#инструмент работает с диапазоном, а нам нужно фикс значение random_state, поэтому схитрим с диапазоном - (12345, 12346, 10)\n",
    "parametrs = { 'random_state': range (12345, 12346, 10), \n",
    "              'n_estimators': range (10, 110, 10),\n",
    "              'max_depth': range (1, 50, 2),\n",
    "              'min_samples_leaf': range (1, 8),\n",
    "              'min_samples_split': range (2, 15, 1) }\n",
    "\n",
    "#запускаем обучениеи\n",
    "#n_jobs = -1, использовать все ЦП для обучения, по умолчанию 1 - использовать 1 ЦП\n",
    "grid = RandomizedSearchCV(model, parametrs, cv=5, n_jobs = -1, scoring='f1', n_iter=1000, verbose=True)\n",
    "grid.fit(features_train, target_train)\n",
    "\n",
    "#выводим лучшие параметры\n",
    "grid.best_params_"
   ]
  },
  {
   "cell_type": "code",
   "execution_count": null,
   "id": "7d3d62ca",
   "metadata": {},
   "outputs": [],
   "source": [
    "%%time\n",
    "\n",
    "# обучим модель на тренировочной выборке\n",
    "#model = grid.best_estimator_\n",
    "model = RandomForestClassifier(random_state=12345, n_estimators=100, min_samples_split=12, min_samples_leaf=1, max_depth=47) \n",
    "model.fit(features_train, target_train) \n",
    "# узнаем и сохраним предсказания на валидационной выборке\n",
    "predicted_valid = model.predict(features_valid)\n",
    "# узнаем и сохраним f1 на валидационной выборке\n",
    "result = f1_score(target_valid, predicted_valid)\n",
    "print(\"f1_score: {0:.3f} \".format(result))\n",
    "\n",
    "\n",
    "#AUC-ROC\n",
    "probabilities_valid = model.predict_proba(features_valid)\n",
    "probabilities_one_valid = probabilities_valid[:, 1]\n",
    "#рассчитаем AUC-ROC\n",
    "auc_roc = roc_auc_score(target_valid, probabilities_one_valid)\n",
    "print(\"auc_roc: {0:.3f} \".format(auc_roc))"
   ]
  },
  {
   "cell_type": "markdown",
   "id": "cd0ec520",
   "metadata": {},
   "source": [
    "### F1-мера + AUC-ROC RandomForestClassifier + \"Полуавтомат\" (подбор и model - train, проверка f1 и auc_roc - valid)"
   ]
  },
  {
   "cell_type": "code",
   "execution_count": null,
   "id": "ede41a10",
   "metadata": {},
   "outputs": [],
   "source": [
    "#Подберем параметры модели \"полуавтоматическим\" методом\n",
    "\n",
    "best_model = None\n",
    "\n",
    "best_f1 =    0\n",
    "best_depth = 0\n",
    "best_est =   0\n",
    "best_split = 0\n",
    "best_leaf =  0\n",
    "\n",
    "#****************************************1 max_depth\n",
    "for depth in range(1, 30, 1):\n",
    "    model =  RandomForestClassifier(random_state=12345, \n",
    "                                    n_estimators=  20, \n",
    "                                    max_depth=     depth, \n",
    "                                \n",
    "                                    )# инициализируйте модель \n",
    "    \n",
    "    model.fit(features_train, target_train) # обучите модель  \n",
    "    predicted_valid = model.predict(features_valid) #рассчитаем и сохраним предсказания \n",
    "    f1 = f1_score(target_valid, predicted_valid) #рассчитаем и сохраним f1 \n",
    "    print('depth', depth, 'f1', f1)\n",
    "    if f1 > best_f1:\n",
    "        best_f1 = f1\n",
    "        best_depth = depth\n",
    "print(\"f1 наилучшей модели:\", best_f1, \n",
    "      \"Максимальная глубина:\", best_depth\n",
    "     )\n",
    "\n",
    "#****************************************2 n_estimators\n",
    "print() \n",
    "best_f1 =    0\n",
    "for est in range(10, 50, 1):\n",
    "    model = RandomForestClassifier(random_state=12345, \n",
    "                                   n_estimators=   est, \n",
    "                                   max_depth=      best_depth, \n",
    "                                   \n",
    "                                   )\n",
    "    \n",
    "    model.fit(features_train, target_train) # обучите модель  \n",
    "    predicted_valid = model.predict(features_valid) #рассчитаем и сохраним предсказания \n",
    "    f1 = f1_score(target_valid, predicted_valid) #рассчитаем и сохраним f1 \n",
    "    print('n_estimators', est, 'f1', f1)\n",
    "    if f1 > best_f1:\n",
    "        best_f1 = f1\n",
    "        best_est = est       \n",
    "print(\"f1 наилучшей модели:\", best_f1, \n",
    "      \"Количество деревьев:\", best_est\n",
    "     )\n",
    "\n",
    "#****************************************3 min_samples_split\n",
    "print() \n",
    "best_f1 =    0\n",
    "for split in range(2, 30, 1):\n",
    "    model = RandomForestClassifier(random_state=12345, \n",
    "                                   n_estimators=         best_est, \n",
    "                                   max_depth=            best_depth, \n",
    "                                   min_samples_split=    split,\n",
    "                                   \n",
    "                                   )\n",
    "    \n",
    "    model.fit(features_train, target_train) # обучите модель  \n",
    "    predicted_valid = model.predict(features_valid) #рассчитаем и сохраним предсказания \n",
    "    f1 = f1_score(target_valid, predicted_valid) #рассчитаем и сохраним f1 \n",
    "    print('split', split, 'f1', f1)\n",
    "    if f1 > best_f1:\n",
    "        best_f1 = f1\n",
    "        best_split = split       \n",
    "print(\"f1 наилучшей модели:\", best_f1, \n",
    "      \"Количество split:\", best_split\n",
    "     )\n",
    "\n",
    "#****************************************4 min_samples_leaf\n",
    "print() \n",
    "best_f1 =    0\n",
    "for leaf in range(1, 30):\n",
    "    model = RandomForestClassifier(random_state=12345, \n",
    "                                   n_estimators=        best_est, \n",
    "                                   max_depth=           best_depth,\n",
    "                                   min_samples_split=   best_split,\n",
    "                                   min_samples_leaf=    leaf,\n",
    "                                   \n",
    "                                   )\n",
    "    \n",
    "    model.fit(features_train, target_train) # обучите модель  \n",
    "    predicted_valid = model.predict(features_valid) #рассчитаем и сохраним предсказания \n",
    "    f1 = f1_score(target_valid, predicted_valid) #рассчитаем и сохраним f1 \n",
    "    print('leaf', leaf, 'f1', f1)\n",
    "    if f1 > best_f1:\n",
    "        best_f1 = f1\n",
    "        best_leaf = leaf       \n",
    "print(\"f1 наилучшей модели:\", best_f1, \n",
    "      \"Количество leaf:\", best_leaf\n",
    "     )\n",
    "\n",
    "print(\"f1 наилучшей модели:\", best_f1, \n",
    "      \"Максимальная глубина:\", best_depth, \n",
    "      \"Количество деревьев:\", best_est,\n",
    "      \"Количество split:\", best_split,\n",
    "      \"Количество leaf:\", best_leaf\n",
    "     )"
   ]
  },
  {
   "cell_type": "markdown",
   "id": "7fb3c2d4",
   "metadata": {},
   "source": [
    "    гиперпараметры подобранные полуавтоматом выше:\n",
    "    f1 наилучшей модели: 0.6012861736334405 \n",
    "    Максимальная глубина: 19 \n",
    "    Количество деревьев: 13 \n",
    "    Количество split: 9 \n",
    "    Количество leaf: 1"
   ]
  },
  {
   "cell_type": "code",
   "execution_count": null,
   "id": "aa5b13b4",
   "metadata": {},
   "outputs": [],
   "source": [
    "# обучим модель на тренировочной выборке\n",
    "model = RandomForestClassifier(random_state=12345, \n",
    "                               n_estimators=13, \n",
    "                               max_depth=19, \n",
    "                               min_samples_split=9, \n",
    "                               min_samples_leaf=1, \n",
    "                               ) \n",
    "\n",
    "model.fit(features_train, target_train) \n",
    "# узнаем и сохраним предсказания на валидационной выборке\n",
    "predicted_valid = model.predict(features_valid)\n",
    "# узнаем и сохраним f1 на валидационной выборке\n",
    "result = f1_score(target_valid, predicted_valid)\n",
    "print(\"f1_score на валидационной выборке: {0:.3f} \".format(result))\n",
    "\n",
    "\n",
    "#AUC-ROC\n",
    "probabilities_valid = model.predict_proba(features_valid)\n",
    "probabilities_one_valid = probabilities_valid[:, 1]\n",
    "#рассчитаем AUC-ROC\n",
    "auc_roc = roc_auc_score(target_valid, probabilities_one_valid)\n",
    "print(\"auc_roc: {0:.3f} \".format(auc_roc))"
   ]
  },
  {
   "cell_type": "markdown",
   "id": "32649f55",
   "metadata": {},
   "source": [
    "### Вывод\n",
    "    -присутствует дисбаланс классов по целевому признаку, 1 - 20%\n",
    "    -максимальное значение F1-мера удалось достичь используя модель RandomForestClassifier + поиск параметров методом  RandomizedSearchCV, обучение grid и model произвели на выборке train, проверка f1 проведена на выборке - valid\n",
    "    -целевое значение F1-мера 0,59 без учета дисбаланса достигнуто подбором параметров полуавтоматом\n",
    "    \n",
    "    ГП полученные в 2.5 не будем пока что сбрасывать со счетов\n",
    "    model = RandomForestClassifier(random_state=12345, n_estimators=100, min_samples_split=12, min_samples_leaf=1, max_depth=47) \n",
    "    Даже не смотря на то что получили значения \"ниже:\n",
    "    f1_score на валидационной выборке: 0.573 \n",
    "    auc_roc: 0.869 "
   ]
  },
  {
   "cell_type": "markdown",
   "id": "781deae3",
   "metadata": {},
   "source": [
    "## Улучшим качество модели, учитывая дисбаланс классов. Обучим разные модели и найдем лучшую. Кратко опишем выводы.\n",
    "Чтобы увеличить качество модели при дисбалансе классов, проверим техники: взвешивание классов и upsampling.\n"
   ]
  },
  {
   "cell_type": "markdown",
   "id": "d5bc9fd6",
   "metadata": {},
   "source": [
    "### Техника увеличения качества модели при дисбалансе классов: Взвешивание классов (class_weight='balanced')\n",
    "    Если указать class_weight='balanced' (англ. «сбалансированный»),  алгоритм посчитает, во сколько раз класс «0» встречается чаще класса «1». \n",
    "    Обозначим это число N (неизвестное количество раз). Новые веса классов выглядят так:\n",
    "        вес класса «0» = 1.0\n",
    "        вес класса «1» = N\n",
    "    Бóльший вес будет у редкого класса.\n",
    "    Аргумент class_weight есть у логистической регрессии, решающего дерева и случайного леса."
   ]
  },
  {
   "cell_type": "code",
   "execution_count": null,
   "id": "23c6240e",
   "metadata": {
    "scrolled": true
   },
   "outputs": [],
   "source": [
    "#Подберем параметры модели \"полуавтоматическим\" методом\n",
    "\n",
    "best_model = None\n",
    "\n",
    "best_f1 =    0\n",
    "best_depth = 0\n",
    "best_est =   0\n",
    "best_split = 0\n",
    "best_leaf =  0\n",
    "\n",
    "#****************************************1 max_depth\n",
    "for depth in range(1, 30, 1):\n",
    "    model =  RandomForestClassиifier(random_state=12345, \n",
    "                                    n_estimators=  20, \n",
    "                                    max_depth=     depth, \n",
    "                                    \n",
    "                                    class_weight='balanced')# инициализируйте модель \n",
    "    \n",
    "    model.fit(features_train, target_train) # обучите модель  \n",
    "    predicted_valid = model.predict(features_valid) #рассчитаем и сохраним предсказания \n",
    "    f1 = f1_score(target_valid, predicted_valid) #рассчитаем и сохраним f1 \n",
    "    print('depth', depth, 'f1', f1)\n",
    "    if f1 > best_f1:\n",
    "        best_f1 = f1\n",
    "        best_depth = depth\n",
    "print(\"f1 наилучшей модели:\", best_f1, \n",
    "      \"Максимальная глубина:\", best_depth\n",
    "     )\n",
    "\n",
    "#****************************************2 n_estimators\n",
    "print() \n",
    "best_f1 =    0\n",
    "for est in range(10, 50, 1):\n",
    "    model = RandomForestClassifier(random_state=12345, \n",
    "                                   n_estimators=   est, \n",
    "                                   max_depth=      best_depth, \n",
    "                                   \n",
    "                                   class_weight='balanced')\n",
    "    \n",
    "    model.fit(features_train, target_train) # обучите модель  \n",
    "    predicted_valid = model.predict(features_valid) #рассчитаем и сохраним предсказания \n",
    "    f1 = f1_score(target_valid, predicted_valid) #рассчитаем и сохраним f1 \n",
    "    print('n_estimators', est, 'f1', f1)\n",
    "    if f1 > best_f1:\n",
    "        best_f1 = f1\n",
    "        best_est = est       \n",
    "print(\"f1 наилучшей модели:\", best_f1, \n",
    "      \"Количество деревьев:\", best_est\n",
    "     )\n",
    "\n",
    "#****************************************3 min_samples_split\n",
    "print() \n",
    "best_f1 =    0\n",
    "for split in range(2, 30, 1):\n",
    "    model = RandomForestClassifier(random_state=12345, \n",
    "                                   n_estimators=         best_est, \n",
    "                                   max_depth=            best_depth, \n",
    "                                   min_samples_split=    split,\n",
    "                                   \n",
    "                                   class_weight='balanced')\n",
    "    \n",
    "    model.fit(features_train, target_train) # обучите модель  \n",
    "    predicted_valid = model.predict(features_valid) #рассчитаем и сохраним предсказания \n",
    "    f1 = f1_score(target_valid, predicted_valid) #рассчитаем и сохраним f1 \n",
    "    print('split', split, 'f1', f1)\n",
    "    if f1 > best_f1:\n",
    "        best_f1 = f1\n",
    "        best_split = split       \n",
    "print(\"f1 наилучшей модели:\", best_f1, \n",
    "      \"Количество split:\", best_split\n",
    "     )\n",
    "\n",
    "#****************************************4 min_samples_leaf\n",
    "print() \n",
    "best_f1 =    0\n",
    "for leaf in range(1, 30):\n",
    "    model = RandomForestClassifier(random_state=12345, \n",
    "                                   n_estimators=        best_est, \n",
    "                                   max_depth=           best_depth,\n",
    "                                   min_samples_split=   best_split,\n",
    "                                   min_samples_leaf=    leaf,\n",
    "                                   \n",
    "                                   class_weight='balanced')\n",
    "    \n",
    "    model.fit(features_train, target_train) # обучите модель  \n",
    "    predicted_valid = model.predict(features_valid) #рассчитаем и сохраним предсказания \n",
    "    f1 = f1_score(target_valid, predicted_valid) #рассчитаем и сохраним f1 \n",
    "    print('leaf', leaf, 'f1', f1)\n",
    "    if f1 > best_f1:\n",
    "        best_f1 = f1\n",
    "        best_leaf = leaf       \n",
    "print(\"f1 наилучшей модели:\", best_f1, \n",
    "      \"Количество leaf:\", best_leaf\n",
    "     )\n",
    "\n",
    "print(\"f1 наилучшей модели:\", best_f1, \n",
    "      \"Максимальная глубина:\", best_depth, \n",
    "      \"Количество деревьев:\", best_est,\n",
    "      \"Количество split:\", best_split,\n",
    "      \"Количество leaf:\", best_leaf\n",
    "     )"
   ]
  },
  {
   "cell_type": "markdown",
   "id": "93e33d11",
   "metadata": {},
   "source": [
    "    ГП полуавтомата выше:\n",
    "    f1 наилучшей модели: 0.654275092936803 \n",
    "    Максимальная глубина: 12 \n",
    "    Количество деревьев: 16 \n",
    "    Количество split: 19 \n",
    "    Количество leaf: 1"
   ]
  },
  {
   "cell_type": "markdown",
   "id": "3fa76335",
   "metadata": {},
   "source": [
    "#### F1-мера + AUC-ROC LogisticRegression + class_weight='balanced'"
   ]
  },
  {
   "cell_type": "code",
   "execution_count": null,
   "id": "41b46720",
   "metadata": {},
   "outputs": [],
   "source": [
    "model = LogisticRegression(random_state=12345, solver='liblinear', class_weight='balanced')\n",
    "model.fit(features_train, target_train)\n",
    "predicted_valid = model.predict(features_valid)\n",
    "print(\"f1_score:: {0:.3f} \".format(f1_score(target_valid, predicted_valid)))\n",
    "\n",
    "\n",
    "#AUC-ROC\n",
    "probabilities_valid = model.predict_proba(features_valid)\n",
    "probabilities_one_valid = probabilities_valid[:, 1]\n",
    "#рассчитаем AUC-ROC\n",
    "auc_roc = roc_auc_score(target_valid, probabilities_one_valid)\n",
    "print(\"auc_roc: {0:.3f} \".format(auc_roc))"
   ]
  },
  {
   "cell_type": "markdown",
   "id": "3bb1c238",
   "metadata": {},
   "source": [
    "#### F1-мера + AUC-ROC DecisionTreeClassifier + class_weight='balanced'"
   ]
  },
  {
   "cell_type": "code",
   "execution_count": null,
   "id": "6872a14f",
   "metadata": {},
   "outputs": [],
   "source": [
    "model = DecisionTreeClassifier(random_state=12345, class_weight='balanced')\n",
    "model.fit(features_train, target_train)\n",
    "predicted_valid = model.predict(features_valid)\n",
    "print(\"f1_score:: {0:.3f} \".format(f1_score(target_valid, predicted_valid)))\n",
    "\n",
    "\n",
    "#AUC-ROC\n",
    "probabilities_valid = model.predict_proba(features_valid)\n",
    "probabilities_one_valid = probabilities_valid[:, 1]\n",
    "#рассчитаем AUC-ROC\n",
    "auc_roc = roc_auc_score(target_valid, probabilities_one_valid)\n",
    "print(\"auc_roc: {0:.3f} \".format(auc_roc))"
   ]
  },
  {
   "cell_type": "markdown",
   "id": "7f2d907d",
   "metadata": {},
   "source": [
    "#### F1-мера + AUC-ROC RandomForestClassifier + RandomizedSearchCV + class_weight='balanced'"
   ]
  },
  {
   "cell_type": "code",
   "execution_count": null,
   "id": "116c8b7e",
   "metadata": {},
   "outputs": [],
   "source": [
    "# обучим модель на тренировочной выборке\n",
    "model = RandomForestClassifier(\n",
    "    random_state=12345, n_estimators=100, min_samples_split=12, min_samples_leaf=1, max_depth=47, class_weight='balanced') \n",
    "model.fit(features_train, target_train) \n",
    "predicted_valid = model.predict(features_valid) #рассчитаем и сохраним предсказания на валидационной выборке\n",
    "result = f1_score(target_valid, predicted_valid) #рассчитаем и сохраним f1 на валидационной выборке\n",
    "print(\"f1_score: {0:.3f} \".format(result))\n",
    "\n",
    "\n",
    "#AUC-ROC\n",
    "probabilities_valid = model.predict_proba(features_valid)\n",
    "probabilities_one_valid = probabilities_valid[:, 1]\n",
    "#рассчитаем AUC-ROC\n",
    "auc_roc = roc_auc_score(target_valid, probabilities_one_valid)\n",
    "print(\"auc_roc: {0:.3f} \".format(auc_roc))"
   ]
  },
  {
   "cell_type": "markdown",
   "id": "16698a73",
   "metadata": {},
   "source": [
    "### Техника увеличения качества модели при дисбалансе классов: upsampling\n",
    "Эта техника позволяет сделать объекты редкого класса не такими редкими и важные задачи повторяются по несколько раз, чтобы их легче запомнить модели."
   ]
  },
  {
   "cell_type": "code",
   "execution_count": null,
   "id": "aae6b428",
   "metadata": {},
   "outputs": [],
   "source": [
    "#функция для upsampling\n",
    "def upsample(features, target, repeat):\n",
    "    features_zeros = features[target == 0]\n",
    "    features_ones = features[target == 1]\n",
    "    target_zeros = target[target == 0]\n",
    "    target_ones = target[target == 1]\n",
    "\n",
    "    features_upsampled = pd.concat([features_zeros] + [features_ones] * repeat)\n",
    "    target_upsampled = pd.concat([target_zeros] + [target_ones] * repeat)\n",
    "    \n",
    "    features_upsampled, target_upsampled = shuffle(\n",
    "        features_upsampled, target_upsampled, random_state=12345)\n",
    "    \n",
    "    return features_upsampled, target_upsampled\n",
    "\n",
    "#сравняем количество 0 и 1, домножив 1 на 4\n",
    "features_upsampled, target_upsampled = upsample(features_train, target_train, 4)"
   ]
  },
  {
   "cell_type": "markdown",
   "id": "d647b2b2",
   "metadata": {},
   "source": [
    "<div class=\"alert alert-success\">\n",
    "<b>✔️ Комментарий ревьюера:</b>\n",
    "    \n",
    "Молодец, правильно используешь функции из тренажера.\n",
    "\n",
    "</div>"
   ]
  },
  {
   "cell_type": "markdown",
   "id": "df645cd9",
   "metadata": {},
   "source": [
    "#### F1-мера + AUC-ROC LogisticRegression + upsampling"
   ]
  },
  {
   "cell_type": "code",
   "execution_count": null,
   "id": "1fb88b22",
   "metadata": {},
   "outputs": [],
   "source": [
    "model = LogisticRegression(random_state=12345, solver='liblinear')\n",
    "#обучим на upsampled данных\n",
    "model.fit(features_upsampled, target_upsampled)\n",
    "predicted_valid = model.predict(features_valid)\n",
    "print(\"f1_score:: {0:.3f} \".format(f1_score(target_valid, predicted_valid)))\n",
    "\n",
    "\n",
    "#AUC-ROC\n",
    "probabilities_valid = model.predict_proba(features_valid)\n",
    "probabilities_one_valid = probabilities_valid[:, 1]\n",
    "#рассчитаем AUC-ROC\n",
    "auc_roc = roc_auc_score(target_valid, probabilities_one_valid)\n",
    "print(\"auc_roc: {0:.3f} \".format(auc_roc))"
   ]
  },
  {
   "cell_type": "markdown",
   "id": "2cc453db",
   "metadata": {},
   "source": [
    "#### F1-мера + AUC-ROC DecisionTreeClassifier + upsampling"
   ]
  },
  {
   "cell_type": "code",
   "execution_count": null,
   "id": "10fecad6",
   "metadata": {},
   "outputs": [],
   "source": [
    "model = DecisionTreeClassifier(random_state=12345)\n",
    "model.fit(features_upsampled, target_upsampled)\n",
    "predicted_valid = model.predict(features_valid)\n",
    "print(\"f1_score:: {0:.3f} \".format(f1_score(target_valid, predicted_valid)))\n",
    "\n",
    "\n",
    "#AUC-ROC\n",
    "probabilities_valid = model.predict_proba(features_valid)\n",
    "probabilities_one_valid = probabilities_valid[:, 1]\n",
    "#рассчитаем AUC-ROC\n",
    "auc_roc = roc_auc_score(target_valid, probabilities_one_valid)\n",
    "print(\"auc_roc: {0:.3f} \".format(auc_roc))"
   ]
  },
  {
   "cell_type": "markdown",
   "id": "11b11c5a",
   "metadata": {},
   "source": [
    "#### F1-мера + AUC-ROC RandomForestClassifier + RandomizedSearchCV + upsampling"
   ]
  },
  {
   "cell_type": "code",
   "execution_count": null,
   "id": "29064aed",
   "metadata": {},
   "outputs": [],
   "source": [
    "model = RandomForestClassifier(\n",
    "    random_state=12345, n_estimators=100, min_samples_split=12, min_samples_leaf=1, max_depth=47) \n",
    "model.fit(features_upsampled, target_upsampled)\n",
    "predicted_valid = model.predict(features_valid) #рассчитаем и сохраним предсказания на валидационной выборке\n",
    "result = f1_score(target_valid, predicted_valid) #рассчитаем и сохраним f1 на валидационной выборке\n",
    "print(\"f1_score: {0:.3f} \".format(result))\n",
    "\n",
    "\n",
    "#AUC-ROC\n",
    "probabilities_valid = model.predict_proba(features_valid)\n",
    "probabilities_one_valid = probabilities_valid[:, 1]\n",
    "#рассчитаем AUC-ROC\n",
    "auc_roc = roc_auc_score(target_valid, probabilities_one_valid)\n",
    "print(\"auc_roc: {0:.3f} \".format(auc_roc))"
   ]
  },
  {
   "cell_type": "markdown",
   "id": "7cc0416b",
   "metadata": {},
   "source": [
    "### Вывод\n",
    "    -применение параметра class_weight='balanced' и техники upsampling позволило увеличить значение F1-мера и auc_roc.\n",
    "    \n",
    "                            без учета д/б    balanced    balanced+полуавт      upsampling  \n",
    "    LogisticRegression      0.303*           0.510       -                     0.508 \n",
    "    DecisionTreeClassifier  0.493            0.473       -                     0.462     \n",
    "    RandomForestClassifier  0.587            0.645       0.654*                0.627                \n",
    "    \n",
    "    \n",
    "    -применение параметра  class_weight='balanced' техники upsampling позволило достичь целового значения метрики F1-мера \n",
    "    для модели RandomForestClassifier   \n",
    "    -также значение F1-мера выше чем у других моделей, достигнуто у RandomForestClassifier благодаря подбору параметров."
   ]
  },
  {
   "cell_type": "markdown",
   "id": "6f0315e8",
   "metadata": {},
   "source": [
    "## Проведем финальное тестирование\n",
    "   "
   ]
  },
  {
   "cell_type": "markdown",
   "id": "1d44ec12",
   "metadata": {},
   "source": [
    "### F1-мера + AUC-ROC RandomForestClassifier + GridSearchCV / RandomizedSearchCV + class_weight='balanced' \n",
    "(обучение на train_valid)"
   ]
  },
  {
   "cell_type": "code",
   "execution_count": null,
   "id": "d8dd527e",
   "metadata": {},
   "outputs": [],
   "source": [
    "# обучим модель на тренировочной и валидационной выборке\n",
    "model = RandomForestClassifier(\n",
    "    random_state=12345, n_estimators=100, min_samples_split=12, min_samples_leaf=1, max_depth=47, class_weight='balanced')  \n",
    "model.fit(features_train_valid, target_train_valid) \n",
    "predicted_test = model.predict(features_test) #рассчитаем и сохраним предсказания \n",
    "result = f1_score(target_test, predicted_test) #рассчитаем и сохраним f1 \n",
    "print(\"f1_score: {0:.3f} \".format(result))\n",
    "\n",
    "\n",
    "#AUC-ROC\n",
    "probabilities_valid = model.predict_proba(features_test)\n",
    "probabilities_one_test = probabilities_valid[:, 1]\n",
    "#рассчитаем AUC-ROC\n",
    "auc_roc = roc_auc_score(target_test, probabilities_one_test)\n",
    "print(\"auc_roc: {0:.3f} \".format(auc_roc))\n",
    "\n",
    "\n",
    "# Save to file in the current working directory \n",
    "dump(model, 'model_randomforestclassifier_balanced.joblib')"
   ]
  },
  {
   "cell_type": "markdown",
   "id": "d1fa946f",
   "metadata": {},
   "source": [
    "### Измерим AUC-ROC, сравним её значение с F1-мерой"
   ]
  },
  {
   "cell_type": "code",
   "execution_count": null,
   "id": "eefb5738",
   "metadata": {},
   "outputs": [],
   "source": [
    "# Load best model from file \n",
    "model = joblib.load('model_randomforestclassifier_balanced.joblib')\n",
    "\n",
    "probabilities_test = model.predict_proba(features_test)\n",
    "probabilities_one_test = probabilities_test[:, 1]\n",
    "\n",
    "fpr, tpr, thresholds = roc_curve(target_test, probabilities_one_test)\n",
    "plt.figure()\n",
    "\n",
    "#постороим график: ROC-кривая случайной модели (выглядит как прямая)\n",
    "plt.plot(fpr, tpr)\n",
    "plt.plot([0, 1], [0, 1], linestyle='--')\n",
    "#примените функции plt.xlim() и plt.ylim(), чтобы  установить границы осей от 0 до 1\n",
    "plt.ylim([0.0, 1.0])\n",
    "plt.xlim([0.0, 1.0])\n",
    "\n",
    "#применим функции plt.xlabel() и plt.ylabel(), чтобы подписать оси \"False Positive Rate\" и \"True Positive Rate\"\n",
    "plt.xlabel('False Positive Rate')\n",
    "plt.ylabel('True Positive Rate')\n",
    "#добавим к графику заголовок \"ROC-кривая\" функцией plt.title()\n",
    "plt.title('ROC-кривая')\n",
    "\n",
    "plt.show()"
   ]
  },
  {
   "cell_type": "code",
   "execution_count": null,
   "id": "3294baaf",
   "metadata": {},
   "outputs": [],
   "source": [
    "#посчитаем для RandomForestClassifier AUC-ROC\n",
    "auc_roc = roc_auc_score(target_test, probabilities_one_test)\n",
    "print(\"auc_roc:\", auc_roc)"
   ]
  },
  {
   "cell_type": "markdown",
   "id": "f03e0c76",
   "metadata": {},
   "source": [
    "### Вывод\n",
    "    -наибольшее значение метрики достигнуто на модели RandomForestClassifier f1_score: 0.632 \n",
    "    -модель сохранена для последующего вызова при подсчете auc_roc\n",
    "    -получено значение auc_roc: 0.863,\n",
    "    -auc_roc > F1-мера"
   ]
  },
  {
   "cell_type": "markdown",
   "id": "6bcd7228",
   "metadata": {},
   "source": [
    "## Общий вывод\n",
    "    -обучили модель прогнозирующую уход клиентов\n",
    "    -построили модель с предельно большим значением F1-меры\n",
    "    -довели метрику модели F1-меру до 0.59, получили значение выше на тесте - 0.632\n",
    "    -измерили auc_roc: 0.863, сравнили её значение с F1-мерой, auc_roc > F1-мера         "
   ]
  }
 ],
 "metadata": {
  "ExecuteTimeLog": [
   {
    "duration": 54,
    "start_time": "2022-04-10T15:03:46.729Z"
   },
   {
    "duration": 0,
    "start_time": "2022-04-10T15:03:46.786Z"
   },
   {
    "duration": 0,
    "start_time": "2022-04-10T15:03:46.787Z"
   },
   {
    "duration": 0,
    "start_time": "2022-04-10T15:03:46.788Z"
   },
   {
    "duration": 3,
    "start_time": "2022-04-10T15:03:46.791Z"
   },
   {
    "duration": 41,
    "start_time": "2022-04-10T15:03:46.796Z"
   },
   {
    "duration": 0,
    "start_time": "2022-04-10T15:03:46.840Z"
   },
   {
    "duration": 0,
    "start_time": "2022-04-10T15:03:46.842Z"
   },
   {
    "duration": 0,
    "start_time": "2022-04-10T15:03:46.843Z"
   },
   {
    "duration": 0,
    "start_time": "2022-04-10T15:03:46.845Z"
   },
   {
    "duration": 0,
    "start_time": "2022-04-10T15:03:46.846Z"
   },
   {
    "duration": 0,
    "start_time": "2022-04-10T15:03:46.848Z"
   },
   {
    "duration": 0,
    "start_time": "2022-04-10T15:03:46.850Z"
   },
   {
    "duration": 0,
    "start_time": "2022-04-10T15:03:46.851Z"
   },
   {
    "duration": 0,
    "start_time": "2022-04-10T15:03:46.852Z"
   },
   {
    "duration": 0,
    "start_time": "2022-04-10T15:03:46.854Z"
   },
   {
    "duration": 0,
    "start_time": "2022-04-10T15:03:46.856Z"
   },
   {
    "duration": 0,
    "start_time": "2022-04-10T15:03:46.857Z"
   },
   {
    "duration": 0,
    "start_time": "2022-04-10T15:03:46.859Z"
   },
   {
    "duration": 0,
    "start_time": "2022-04-10T15:03:46.861Z"
   },
   {
    "duration": 0,
    "start_time": "2022-04-10T15:03:46.862Z"
   },
   {
    "duration": 0,
    "start_time": "2022-04-10T15:03:46.863Z"
   },
   {
    "duration": 0,
    "start_time": "2022-04-10T15:03:46.865Z"
   },
   {
    "duration": 0,
    "start_time": "2022-04-10T15:03:46.866Z"
   },
   {
    "duration": 0,
    "start_time": "2022-04-10T15:03:46.867Z"
   },
   {
    "duration": 0,
    "start_time": "2022-04-10T15:03:46.868Z"
   },
   {
    "duration": 0,
    "start_time": "2022-04-10T15:03:46.869Z"
   },
   {
    "duration": 0,
    "start_time": "2022-04-10T15:03:46.870Z"
   },
   {
    "duration": 0,
    "start_time": "2022-04-10T15:03:46.871Z"
   },
   {
    "duration": 0,
    "start_time": "2022-04-10T15:03:46.872Z"
   },
   {
    "duration": 0,
    "start_time": "2022-04-10T15:03:46.932Z"
   },
   {
    "duration": 5356,
    "start_time": "2022-04-10T15:04:35.512Z"
   },
   {
    "duration": 0,
    "start_time": "2022-04-10T15:04:40.869Z"
   },
   {
    "duration": 196,
    "start_time": "2022-04-10T15:04:54.978Z"
   },
   {
    "duration": 256,
    "start_time": "2022-04-10T15:10:19.433Z"
   },
   {
    "duration": 4,
    "start_time": "2022-04-10T15:13:38.935Z"
   },
   {
    "duration": 51,
    "start_time": "2022-04-10T15:13:48.562Z"
   },
   {
    "duration": 18,
    "start_time": "2022-04-10T15:13:54.476Z"
   },
   {
    "duration": 81,
    "start_time": "2022-04-10T15:15:03.892Z"
   },
   {
    "duration": 2,
    "start_time": "2022-04-10T15:15:04.852Z"
   },
   {
    "duration": 7,
    "start_time": "2022-04-10T15:15:05.388Z"
   },
   {
    "duration": 19,
    "start_time": "2022-04-10T15:15:06.060Z"
   },
   {
    "duration": 5,
    "start_time": "2022-04-10T15:15:06.315Z"
   },
   {
    "duration": 62462,
    "start_time": "2022-04-10T15:15:06.699Z"
   },
   {
    "duration": 15,
    "start_time": "2022-04-10T15:16:09.164Z"
   },
   {
    "duration": 293,
    "start_time": "2022-04-10T15:16:09.185Z"
   },
   {
    "duration": 8,
    "start_time": "2022-04-10T15:16:09.482Z"
   },
   {
    "duration": 56,
    "start_time": "2022-04-10T15:16:09.492Z"
   },
   {
    "duration": 86,
    "start_time": "2022-04-10T15:16:09.550Z"
   },
   {
    "duration": 29,
    "start_time": "2022-04-10T15:16:09.638Z"
   },
   {
    "duration": 168,
    "start_time": "2022-04-10T15:16:09.671Z"
   },
   {
    "duration": 191,
    "start_time": "2022-04-10T15:16:09.841Z"
   },
   {
    "duration": 12,
    "start_time": "2022-04-10T15:16:10.034Z"
   },
   {
    "duration": 29,
    "start_time": "2022-04-10T15:16:10.052Z"
   },
   {
    "duration": 79,
    "start_time": "2022-04-10T15:16:10.083Z"
   },
   {
    "duration": 687086,
    "start_time": "2022-04-10T15:16:10.164Z"
   },
   {
    "duration": 324,
    "start_time": "2022-04-10T15:27:37.252Z"
   },
   {
    "duration": 714672,
    "start_time": "2022-04-10T15:27:37.579Z"
   },
   {
    "duration": 817,
    "start_time": "2022-04-10T15:39:32.253Z"
   },
   {
    "duration": 65,
    "start_time": "2022-04-10T15:39:33.071Z"
   },
   {
    "duration": 875,
    "start_time": "2022-04-10T15:39:33.139Z"
   },
   {
    "duration": 412061,
    "start_time": "2022-04-10T15:39:34.015Z"
   },
   {
    "duration": 1209,
    "start_time": "2022-04-10T15:46:26.077Z"
   },
   {
    "duration": 48497,
    "start_time": "2022-04-10T15:46:27.288Z"
   },
   {
    "duration": 343,
    "start_time": "2022-04-10T15:47:15.786Z"
   },
   {
    "duration": 8,
    "start_time": "2022-04-10T15:47:16.132Z"
   },
   {
    "duration": 1111,
    "start_time": "2022-04-10T15:48:08.575Z"
   },
   {
    "duration": 14068,
    "start_time": "2022-04-10T16:09:46.208Z"
   },
   {
    "duration": 47,
    "start_time": "2022-04-10T18:30:24.262Z"
   },
   {
    "duration": 6,
    "start_time": "2022-04-10T18:30:28.909Z"
   },
   {
    "duration": 0,
    "start_time": "2022-04-10T18:30:28.917Z"
   },
   {
    "duration": 0,
    "start_time": "2022-04-10T18:30:28.918Z"
   },
   {
    "duration": 0,
    "start_time": "2022-04-10T18:30:28.919Z"
   },
   {
    "duration": 3,
    "start_time": "2022-04-10T18:30:28.921Z"
   },
   {
    "duration": 9,
    "start_time": "2022-04-10T18:30:28.926Z"
   },
   {
    "duration": 0,
    "start_time": "2022-04-10T18:30:28.937Z"
   },
   {
    "duration": 1820,
    "start_time": "2022-04-10T18:32:20.802Z"
   },
   {
    "duration": 0,
    "start_time": "2022-04-10T18:32:22.624Z"
   },
   {
    "duration": 12,
    "start_time": "2022-04-10T18:35:31.194Z"
   },
   {
    "duration": 0,
    "start_time": "2022-04-10T18:35:31.207Z"
   },
   {
    "duration": 0,
    "start_time": "2022-04-10T18:35:31.208Z"
   },
   {
    "duration": 3,
    "start_time": "2022-04-10T18:35:39.173Z"
   },
   {
    "duration": 3,
    "start_time": "2022-04-10T18:35:52.813Z"
   },
   {
    "duration": 10,
    "start_time": "2022-04-10T18:35:57.388Z"
   },
   {
    "duration": 47,
    "start_time": "2022-04-10T18:36:21.420Z"
   },
   {
    "duration": 3,
    "start_time": "2022-04-10T18:36:23.581Z"
   },
   {
    "duration": 309,
    "start_time": "2022-04-10T18:36:26.678Z"
   },
   {
    "duration": 63,
    "start_time": "2022-04-10T18:36:33.174Z"
   },
   {
    "duration": 7,
    "start_time": "2022-04-10T18:36:52.974Z"
   },
   {
    "duration": 5,
    "start_time": "2022-04-10T18:37:15.782Z"
   },
   {
    "duration": 21,
    "start_time": "2022-04-10T18:37:28.121Z"
   },
   {
    "duration": 14,
    "start_time": "2022-04-10T18:39:10.283Z"
   },
   {
    "duration": 6,
    "start_time": "2022-04-10T18:39:23.998Z"
   },
   {
    "duration": 9,
    "start_time": "2022-04-10T18:39:24.006Z"
   },
   {
    "duration": 187,
    "start_time": "2022-04-10T18:39:24.016Z"
   },
   {
    "duration": 63,
    "start_time": "2022-04-10T18:39:24.205Z"
   },
   {
    "duration": 2,
    "start_time": "2022-04-10T18:39:24.270Z"
   },
   {
    "duration": 27,
    "start_time": "2022-04-10T18:39:24.274Z"
   },
   {
    "duration": 21,
    "start_time": "2022-04-10T18:39:24.302Z"
   },
   {
    "duration": 4,
    "start_time": "2022-04-10T18:39:24.325Z"
   },
   {
    "duration": 5,
    "start_time": "2022-04-10T18:40:13.754Z"
   },
   {
    "duration": 6,
    "start_time": "2022-04-10T18:40:13.761Z"
   },
   {
    "duration": 360,
    "start_time": "2022-04-10T18:40:13.769Z"
   },
   {
    "duration": 65,
    "start_time": "2022-04-10T18:40:14.131Z"
   },
   {
    "duration": 3,
    "start_time": "2022-04-10T18:40:14.201Z"
   },
   {
    "duration": 8,
    "start_time": "2022-04-10T18:40:14.206Z"
   },
   {
    "duration": 23,
    "start_time": "2022-04-10T18:40:14.216Z"
   },
   {
    "duration": 31,
    "start_time": "2022-04-10T18:40:14.241Z"
   },
   {
    "duration": 0,
    "start_time": "2022-04-10T18:42:26.438Z"
   },
   {
    "duration": 10,
    "start_time": "2022-04-10T18:42:41.382Z"
   },
   {
    "duration": 15,
    "start_time": "2022-04-10T18:42:59.614Z"
   },
   {
    "duration": 12,
    "start_time": "2022-04-10T18:45:41.835Z"
   },
   {
    "duration": 3,
    "start_time": "2022-04-10T18:49:36.169Z"
   },
   {
    "duration": 2,
    "start_time": "2022-04-10T18:49:38.913Z"
   },
   {
    "duration": 3,
    "start_time": "2022-04-10T18:49:41.667Z"
   },
   {
    "duration": 139,
    "start_time": "2022-04-10T18:53:22.651Z"
   },
   {
    "duration": 3,
    "start_time": "2022-04-10T18:53:22.801Z"
   },
   {
    "duration": 126,
    "start_time": "2022-04-10T18:53:22.806Z"
   },
   {
    "duration": 69,
    "start_time": "2022-04-10T18:53:22.934Z"
   },
   {
    "duration": 2,
    "start_time": "2022-04-10T18:53:23.005Z"
   },
   {
    "duration": 9,
    "start_time": "2022-04-10T18:53:23.009Z"
   },
   {
    "duration": 18,
    "start_time": "2022-04-10T18:53:23.019Z"
   },
   {
    "duration": 22,
    "start_time": "2022-04-10T18:53:23.039Z"
   },
   {
    "duration": 46,
    "start_time": "2022-04-10T18:53:23.063Z"
   },
   {
    "duration": 680,
    "start_time": "2022-04-10T18:55:33.059Z"
   },
   {
    "duration": 883,
    "start_time": "2022-04-10T18:56:01.333Z"
   },
   {
    "duration": 3,
    "start_time": "2022-04-10T18:56:25.627Z"
   },
   {
    "duration": 42477,
    "start_time": "2022-04-10T18:57:00.685Z"
   },
   {
    "duration": 2,
    "start_time": "2022-04-10T18:58:18.855Z"
   },
   {
    "duration": 733,
    "start_time": "2022-04-10T18:58:49.217Z"
   },
   {
    "duration": 675,
    "start_time": "2022-04-10T18:58:55.017Z"
   },
   {
    "duration": 11,
    "start_time": "2022-04-10T19:04:38.192Z"
   },
   {
    "duration": 7,
    "start_time": "2022-04-10T19:04:43.296Z"
   },
   {
    "duration": 7,
    "start_time": "2022-04-10T19:04:43.305Z"
   },
   {
    "duration": 198,
    "start_time": "2022-04-10T19:04:43.314Z"
   },
   {
    "duration": 88,
    "start_time": "2022-04-10T19:04:43.515Z"
   },
   {
    "duration": 3,
    "start_time": "2022-04-10T19:04:43.605Z"
   },
   {
    "duration": 8,
    "start_time": "2022-04-10T19:04:43.610Z"
   },
   {
    "duration": 15,
    "start_time": "2022-04-10T19:04:43.621Z"
   },
   {
    "duration": 23,
    "start_time": "2022-04-10T19:04:43.638Z"
   },
   {
    "duration": 38,
    "start_time": "2022-04-10T19:04:43.663Z"
   },
   {
    "duration": 809,
    "start_time": "2022-04-10T19:04:43.704Z"
   },
   {
    "duration": 12,
    "start_time": "2022-04-10T19:04:44.515Z"
   },
   {
    "duration": 12,
    "start_time": "2022-04-10T19:04:44.529Z"
   },
   {
    "duration": 9,
    "start_time": "2022-04-10T19:04:44.542Z"
   },
   {
    "duration": 50,
    "start_time": "2022-04-10T19:04:44.553Z"
   },
   {
    "duration": 18,
    "start_time": "2022-04-10T19:04:44.605Z"
   },
   {
    "duration": 0,
    "start_time": "2022-04-10T19:04:44.625Z"
   },
   {
    "duration": 0,
    "start_time": "2022-04-10T19:04:44.626Z"
   },
   {
    "duration": 2068,
    "start_time": "2022-04-10T19:05:54.081Z"
   },
   {
    "duration": 4,
    "start_time": "2022-04-10T19:05:56.151Z"
   },
   {
    "duration": 139,
    "start_time": "2022-04-10T19:05:56.157Z"
   },
   {
    "duration": 71,
    "start_time": "2022-04-10T19:05:56.299Z"
   },
   {
    "duration": 3,
    "start_time": "2022-04-10T19:05:56.372Z"
   },
   {
    "duration": 26,
    "start_time": "2022-04-10T19:05:56.377Z"
   },
   {
    "duration": 31,
    "start_time": "2022-04-10T19:05:56.405Z"
   },
   {
    "duration": 26,
    "start_time": "2022-04-10T19:05:56.439Z"
   },
   {
    "duration": 3,
    "start_time": "2022-04-10T19:05:56.467Z"
   },
   {
    "duration": 806,
    "start_time": "2022-04-10T19:05:56.472Z"
   },
   {
    "duration": 14,
    "start_time": "2022-04-10T19:05:57.279Z"
   },
   {
    "duration": 11,
    "start_time": "2022-04-10T19:05:57.296Z"
   },
   {
    "duration": 9,
    "start_time": "2022-04-10T19:05:57.309Z"
   },
   {
    "duration": 27,
    "start_time": "2022-04-10T19:05:57.320Z"
   },
   {
    "duration": 136,
    "start_time": "2022-04-10T19:05:57.349Z"
   },
   {
    "duration": 0,
    "start_time": "2022-04-10T19:05:57.487Z"
   },
   {
    "duration": 0,
    "start_time": "2022-04-10T19:05:57.489Z"
   },
   {
    "duration": 136,
    "start_time": "2022-04-10T19:05:59.925Z"
   },
   {
    "duration": 17,
    "start_time": "2022-04-10T19:24:40.723Z"
   },
   {
    "duration": 81,
    "start_time": "2022-04-10T19:24:58.843Z"
   },
   {
    "duration": 5,
    "start_time": "2022-04-10T19:25:25.054Z"
   },
   {
    "duration": 7,
    "start_time": "2022-04-10T19:25:25.062Z"
   },
   {
    "duration": 173,
    "start_time": "2022-04-10T19:25:25.071Z"
   },
   {
    "duration": 65,
    "start_time": "2022-04-10T19:25:25.246Z"
   },
   {
    "duration": 3,
    "start_time": "2022-04-10T19:25:25.313Z"
   },
   {
    "duration": 8,
    "start_time": "2022-04-10T19:25:25.317Z"
   },
   {
    "duration": 22,
    "start_time": "2022-04-10T19:25:25.326Z"
   },
   {
    "duration": 56,
    "start_time": "2022-04-10T19:25:25.350Z"
   },
   {
    "duration": 5,
    "start_time": "2022-04-10T19:25:25.408Z"
   },
   {
    "duration": 1119,
    "start_time": "2022-04-10T19:25:25.416Z"
   },
   {
    "duration": 17,
    "start_time": "2022-04-10T19:25:26.537Z"
   },
   {
    "duration": 12,
    "start_time": "2022-04-10T19:25:26.557Z"
   },
   {
    "duration": 37,
    "start_time": "2022-04-10T19:25:26.571Z"
   },
   {
    "duration": 20,
    "start_time": "2022-04-10T19:25:26.610Z"
   },
   {
    "duration": 112,
    "start_time": "2022-04-10T19:25:26.633Z"
   },
   {
    "duration": 23,
    "start_time": "2022-04-10T19:25:26.750Z"
   },
   {
    "duration": 199,
    "start_time": "2022-04-10T19:25:26.775Z"
   },
   {
    "duration": 157,
    "start_time": "2022-04-10T19:25:26.976Z"
   },
   {
    "duration": 9,
    "start_time": "2022-04-10T19:25:27.135Z"
   },
   {
    "duration": 17,
    "start_time": "2022-04-10T19:25:27.146Z"
   },
   {
    "duration": 69,
    "start_time": "2022-04-10T19:25:27.165Z"
   },
   {
    "duration": 237,
    "start_time": "2022-04-10T19:27:25.798Z"
   },
   {
    "duration": 1680,
    "start_time": "2022-04-10T19:27:33.580Z"
   },
   {
    "duration": 3,
    "start_time": "2022-04-10T19:27:35.262Z"
   },
   {
    "duration": 159,
    "start_time": "2022-04-10T19:27:35.267Z"
   },
   {
    "duration": 114,
    "start_time": "2022-04-10T19:27:35.429Z"
   },
   {
    "duration": 3,
    "start_time": "2022-04-10T19:27:35.546Z"
   },
   {
    "duration": 8,
    "start_time": "2022-04-10T19:27:35.551Z"
   },
   {
    "duration": 60,
    "start_time": "2022-04-10T19:27:35.560Z"
   },
   {
    "duration": 26,
    "start_time": "2022-04-10T19:27:35.622Z"
   },
   {
    "duration": 2,
    "start_time": "2022-04-10T19:27:35.650Z"
   },
   {
    "duration": 1024,
    "start_time": "2022-04-10T19:27:35.654Z"
   },
   {
    "duration": 14,
    "start_time": "2022-04-10T19:27:36.680Z"
   },
   {
    "duration": 12,
    "start_time": "2022-04-10T19:27:36.696Z"
   },
   {
    "duration": 8,
    "start_time": "2022-04-10T19:27:36.710Z"
   },
   {
    "duration": 20,
    "start_time": "2022-04-10T19:27:36.723Z"
   },
   {
    "duration": 125,
    "start_time": "2022-04-10T19:27:36.744Z"
   },
   {
    "duration": 21,
    "start_time": "2022-04-10T19:27:36.871Z"
   },
   {
    "duration": 161,
    "start_time": "2022-04-10T19:27:36.894Z"
   },
   {
    "duration": 222,
    "start_time": "2022-04-10T19:27:37.057Z"
   },
   {
    "duration": 20,
    "start_time": "2022-04-10T19:27:37.282Z"
   },
   {
    "duration": 14,
    "start_time": "2022-04-10T19:27:37.304Z"
   },
   {
    "duration": 37,
    "start_time": "2022-04-10T19:27:37.321Z"
   },
   {
    "duration": 3480,
    "start_time": "2022-04-10T19:42:55.372Z"
   },
   {
    "duration": 20,
    "start_time": "2022-04-10T19:48:37.014Z"
   },
   {
    "duration": 1631,
    "start_time": "2022-04-13T18:47:55.751Z"
   },
   {
    "duration": 0,
    "start_time": "2022-04-13T18:47:57.385Z"
   },
   {
    "duration": 0,
    "start_time": "2022-04-13T18:47:57.386Z"
   },
   {
    "duration": 0,
    "start_time": "2022-04-13T18:47:57.387Z"
   },
   {
    "duration": 0,
    "start_time": "2022-04-13T18:47:57.388Z"
   },
   {
    "duration": 0,
    "start_time": "2022-04-13T18:47:57.389Z"
   },
   {
    "duration": 0,
    "start_time": "2022-04-13T18:47:57.390Z"
   },
   {
    "duration": 0,
    "start_time": "2022-04-13T18:47:57.391Z"
   },
   {
    "duration": 0,
    "start_time": "2022-04-13T18:47:57.392Z"
   },
   {
    "duration": 0,
    "start_time": "2022-04-13T18:47:57.393Z"
   },
   {
    "duration": 0,
    "start_time": "2022-04-13T18:47:57.394Z"
   },
   {
    "duration": 0,
    "start_time": "2022-04-13T18:47:57.395Z"
   },
   {
    "duration": 0,
    "start_time": "2022-04-13T18:47:57.396Z"
   },
   {
    "duration": 0,
    "start_time": "2022-04-13T18:47:57.397Z"
   },
   {
    "duration": 0,
    "start_time": "2022-04-13T18:47:57.398Z"
   },
   {
    "duration": 0,
    "start_time": "2022-04-13T18:47:57.399Z"
   },
   {
    "duration": 0,
    "start_time": "2022-04-13T18:47:57.400Z"
   },
   {
    "duration": 0,
    "start_time": "2022-04-13T18:47:57.400Z"
   },
   {
    "duration": 0,
    "start_time": "2022-04-13T18:47:57.401Z"
   },
   {
    "duration": 0,
    "start_time": "2022-04-13T18:47:57.402Z"
   },
   {
    "duration": 0,
    "start_time": "2022-04-13T18:47:57.403Z"
   },
   {
    "duration": 0,
    "start_time": "2022-04-13T18:47:57.404Z"
   },
   {
    "duration": 0,
    "start_time": "2022-04-13T18:47:57.405Z"
   },
   {
    "duration": 0,
    "start_time": "2022-04-13T18:47:57.406Z"
   },
   {
    "duration": 0,
    "start_time": "2022-04-13T18:47:57.407Z"
   },
   {
    "duration": 0,
    "start_time": "2022-04-13T18:47:57.408Z"
   },
   {
    "duration": 0,
    "start_time": "2022-04-13T18:47:57.409Z"
   },
   {
    "duration": 0,
    "start_time": "2022-04-13T18:47:57.410Z"
   },
   {
    "duration": 0,
    "start_time": "2022-04-13T18:47:57.455Z"
   },
   {
    "duration": 0,
    "start_time": "2022-04-13T18:47:57.456Z"
   },
   {
    "duration": 0,
    "start_time": "2022-04-13T18:47:57.456Z"
   },
   {
    "duration": 0,
    "start_time": "2022-04-13T18:47:57.457Z"
   },
   {
    "duration": 0,
    "start_time": "2022-04-13T18:47:57.459Z"
   },
   {
    "duration": 0,
    "start_time": "2022-04-13T18:47:57.459Z"
   },
   {
    "duration": 0,
    "start_time": "2022-04-13T18:47:57.461Z"
   },
   {
    "duration": 0,
    "start_time": "2022-04-13T18:47:57.461Z"
   },
   {
    "duration": 0,
    "start_time": "2022-04-13T18:47:57.462Z"
   },
   {
    "duration": 45,
    "start_time": "2022-04-13T18:48:40.835Z"
   },
   {
    "duration": 1656,
    "start_time": "2022-04-13T18:48:46.974Z"
   },
   {
    "duration": 4,
    "start_time": "2022-04-13T18:48:48.632Z"
   },
   {
    "duration": 91,
    "start_time": "2022-04-13T18:48:48.637Z"
   },
   {
    "duration": 64,
    "start_time": "2022-04-13T18:48:48.730Z"
   },
   {
    "duration": 3,
    "start_time": "2022-04-13T18:48:48.795Z"
   },
   {
    "duration": 12,
    "start_time": "2022-04-13T18:48:48.799Z"
   },
   {
    "duration": 19,
    "start_time": "2022-04-13T18:48:48.813Z"
   },
   {
    "duration": 36,
    "start_time": "2022-04-13T18:48:48.834Z"
   },
   {
    "duration": 2,
    "start_time": "2022-04-13T18:48:48.872Z"
   },
   {
    "duration": 727,
    "start_time": "2022-04-13T18:48:48.876Z"
   },
   {
    "duration": 12,
    "start_time": "2022-04-13T18:48:49.605Z"
   },
   {
    "duration": 11,
    "start_time": "2022-04-13T18:48:49.619Z"
   },
   {
    "duration": 7,
    "start_time": "2022-04-13T18:48:49.632Z"
   },
   {
    "duration": 28,
    "start_time": "2022-04-13T18:48:49.640Z"
   },
   {
    "duration": 50,
    "start_time": "2022-04-13T18:48:49.669Z"
   },
   {
    "duration": 41,
    "start_time": "2022-04-13T18:48:49.721Z"
   },
   {
    "duration": 116,
    "start_time": "2022-04-13T18:48:49.763Z"
   },
   {
    "duration": 3,
    "start_time": "2022-04-13T18:48:49.881Z"
   },
   {
    "duration": 13,
    "start_time": "2022-04-13T18:48:49.886Z"
   },
   {
    "duration": 61,
    "start_time": "2022-04-13T18:48:49.901Z"
   },
   {
    "duration": 194,
    "start_time": "2022-04-13T18:48:49.965Z"
   },
   {
    "duration": 509611,
    "start_time": "2022-04-13T18:48:50.161Z"
   },
   {
    "duration": 253,
    "start_time": "2022-04-13T18:57:19.773Z"
   },
   {
    "duration": 5,
    "start_time": "2022-04-13T18:57:20.027Z"
   },
   {
    "duration": 618,
    "start_time": "2022-04-13T18:57:20.033Z"
   },
   {
    "duration": 14738,
    "start_time": "2022-04-13T18:57:20.654Z"
   },
   {
    "duration": 164,
    "start_time": "2022-04-13T18:57:35.393Z"
   },
   {
    "duration": 20,
    "start_time": "2022-04-13T18:57:35.561Z"
   },
   {
    "duration": 128,
    "start_time": "2022-04-13T18:57:35.656Z"
   },
   {
    "duration": 615,
    "start_time": "2022-04-13T18:57:35.786Z"
   },
   {
    "duration": 10,
    "start_time": "2022-04-13T18:57:36.402Z"
   },
   {
    "duration": 48,
    "start_time": "2022-04-13T18:57:36.414Z"
   },
   {
    "duration": 216,
    "start_time": "2022-04-13T18:57:36.464Z"
   },
   {
    "duration": 1174,
    "start_time": "2022-04-13T18:57:36.682Z"
   },
   {
    "duration": 1641,
    "start_time": "2022-04-13T18:57:37.858Z"
   },
   {
    "duration": 399,
    "start_time": "2022-04-13T18:57:39.501Z"
   },
   {
    "duration": 6,
    "start_time": "2022-04-13T18:57:39.902Z"
   },
   {
    "duration": 5,
    "start_time": "2022-04-13T19:58:37.617Z"
   },
   {
    "duration": 15506,
    "start_time": "2022-04-13T20:08:45.868Z"
   },
   {
    "duration": 173,
    "start_time": "2022-04-13T20:09:01.376Z"
   },
   {
    "duration": 195,
    "start_time": "2022-04-14T08:04:21.717Z"
   },
   {
    "duration": 222,
    "start_time": "2022-04-14T08:05:59.904Z"
   },
   {
    "duration": 201,
    "start_time": "2022-04-14T08:08:48.589Z"
   },
   {
    "duration": 48,
    "start_time": "2022-04-14T08:12:06.264Z"
   },
   {
    "duration": 12,
    "start_time": "2022-04-14T08:13:22.403Z"
   },
   {
    "duration": 1942,
    "start_time": "2022-04-14T08:13:31.530Z"
   },
   {
    "duration": 4,
    "start_time": "2022-04-14T08:13:34.922Z"
   },
   {
    "duration": 79,
    "start_time": "2022-04-14T08:15:17.351Z"
   },
   {
    "duration": 6,
    "start_time": "2022-04-14T08:15:25.317Z"
   },
   {
    "duration": 8,
    "start_time": "2022-04-14T08:15:25.325Z"
   },
   {
    "duration": 136,
    "start_time": "2022-04-14T08:15:25.334Z"
   },
   {
    "duration": 88,
    "start_time": "2022-04-14T08:15:25.472Z"
   },
   {
    "duration": 3,
    "start_time": "2022-04-14T08:15:25.562Z"
   },
   {
    "duration": 12,
    "start_time": "2022-04-14T08:15:25.567Z"
   },
   {
    "duration": 37,
    "start_time": "2022-04-14T08:15:25.580Z"
   },
   {
    "duration": 21,
    "start_time": "2022-04-14T08:15:25.618Z"
   },
   {
    "duration": 2,
    "start_time": "2022-04-14T08:15:25.643Z"
   },
   {
    "duration": 1166,
    "start_time": "2022-04-14T08:15:25.647Z"
   },
   {
    "duration": 19,
    "start_time": "2022-04-14T08:15:26.815Z"
   },
   {
    "duration": 12,
    "start_time": "2022-04-14T08:15:26.836Z"
   },
   {
    "duration": 16,
    "start_time": "2022-04-14T08:15:26.849Z"
   },
   {
    "duration": 20,
    "start_time": "2022-04-14T08:15:26.866Z"
   },
   {
    "duration": 74,
    "start_time": "2022-04-14T08:15:26.887Z"
   },
   {
    "duration": 38,
    "start_time": "2022-04-14T08:15:26.963Z"
   },
   {
    "duration": 114,
    "start_time": "2022-04-14T08:15:27.003Z"
   },
   {
    "duration": 3,
    "start_time": "2022-04-14T08:15:27.119Z"
   },
   {
    "duration": 13,
    "start_time": "2022-04-14T08:15:27.123Z"
   },
   {
    "duration": 70,
    "start_time": "2022-04-14T08:15:27.138Z"
   },
   {
    "duration": 114,
    "start_time": "2022-04-14T08:15:27.300Z"
   },
   {
    "duration": 87283,
    "start_time": "2022-04-14T08:15:27.416Z"
   },
   {
    "duration": 337,
    "start_time": "2022-04-14T08:16:54.700Z"
   },
   {
    "duration": 4,
    "start_time": "2022-04-14T08:16:55.040Z"
   },
   {
    "duration": 598,
    "start_time": "2022-04-14T08:16:55.045Z"
   },
   {
    "duration": 16171,
    "start_time": "2022-04-14T08:17:06.008Z"
   },
   {
    "duration": 1087,
    "start_time": "2022-04-14T08:18:22.291Z"
   },
   {
    "duration": 92,
    "start_time": "2022-04-14T08:19:29.756Z"
   },
   {
    "duration": 14569,
    "start_time": "2022-04-14T08:21:08.520Z"
   },
   {
    "duration": 1381,
    "start_time": "2022-04-14T08:29:03.138Z"
   },
   {
    "duration": 355,
    "start_time": "2022-04-14T08:29:47.813Z"
   },
   {
    "duration": 331,
    "start_time": "2022-04-14T08:31:28.677Z"
   },
   {
    "duration": 1197,
    "start_time": "2022-04-14T08:31:36.133Z"
   },
   {
    "duration": 199,
    "start_time": "2022-04-14T08:31:49.558Z"
   },
   {
    "duration": 321,
    "start_time": "2022-04-14T08:32:31.496Z"
   },
   {
    "duration": 4,
    "start_time": "2022-04-14T08:34:46.602Z"
   },
   {
    "duration": 323,
    "start_time": "2022-04-14T08:36:16.700Z"
   },
   {
    "duration": 6,
    "start_time": "2022-04-14T08:36:19.107Z"
   },
   {
    "duration": 296,
    "start_time": "2022-04-14T08:36:34.246Z"
   },
   {
    "duration": 1651,
    "start_time": "2022-04-14T08:36:39.420Z"
   },
   {
    "duration": 525,
    "start_time": "2022-04-14T08:36:45.901Z"
   },
   {
    "duration": 7,
    "start_time": "2022-04-14T08:36:49.151Z"
   },
   {
    "duration": 557,
    "start_time": "2022-04-14T08:43:43.543Z"
   },
   {
    "duration": 1441,
    "start_time": "2022-04-14T20:58:15.894Z"
   },
   {
    "duration": 4,
    "start_time": "2022-04-14T20:58:17.336Z"
   },
   {
    "duration": 96,
    "start_time": "2022-04-14T20:58:17.342Z"
   },
   {
    "duration": 66,
    "start_time": "2022-04-14T20:58:17.441Z"
   },
   {
    "duration": 2,
    "start_time": "2022-04-14T20:58:17.509Z"
   },
   {
    "duration": 8,
    "start_time": "2022-04-14T20:58:17.513Z"
   },
   {
    "duration": 39,
    "start_time": "2022-04-14T20:58:17.522Z"
   },
   {
    "duration": 19,
    "start_time": "2022-04-14T20:58:17.563Z"
   },
   {
    "duration": 3,
    "start_time": "2022-04-14T20:58:17.584Z"
   },
   {
    "duration": 757,
    "start_time": "2022-04-14T20:58:17.590Z"
   },
   {
    "duration": 11,
    "start_time": "2022-04-14T20:58:18.349Z"
   },
   {
    "duration": 9,
    "start_time": "2022-04-14T20:58:18.362Z"
   },
   {
    "duration": 7,
    "start_time": "2022-04-14T20:58:18.372Z"
   },
   {
    "duration": 15,
    "start_time": "2022-04-14T20:58:18.380Z"
   },
   {
    "duration": 65,
    "start_time": "2022-04-14T20:58:18.396Z"
   },
   {
    "duration": 20,
    "start_time": "2022-04-14T20:58:18.463Z"
   },
   {
    "duration": 114,
    "start_time": "2022-04-14T20:58:18.484Z"
   },
   {
    "duration": 2,
    "start_time": "2022-04-14T20:58:18.600Z"
   },
   {
    "duration": 10,
    "start_time": "2022-04-14T20:58:18.604Z"
   },
   {
    "duration": 45,
    "start_time": "2022-04-14T20:58:18.615Z"
   },
   {
    "duration": 212,
    "start_time": "2022-04-14T20:58:18.662Z"
   }
  ],
  "kernelspec": {
   "display_name": "Python 3 (ipykernel)",
   "language": "python",
   "name": "python3"
  },
  "language_info": {
   "codemirror_mode": {
    "name": "ipython",
    "version": 3
   },
   "file_extension": ".py",
   "mimetype": "text/x-python",
   "name": "python",
   "nbconvert_exporter": "python",
   "pygments_lexer": "ipython3",
   "version": "3.9.7"
  },
  "toc": {
   "base_numbering": "1",
   "nav_menu": {},
   "number_sections": true,
   "sideBar": true,
   "skip_h1_title": true,
   "title_cell": "Table of Contents",
   "title_sidebar": "Contents",
   "toc_cell": false,
   "toc_position": {
    "height": "calc(100% - 180px)",
    "left": "10px",
    "top": "150px",
    "width": "379.469px"
   },
   "toc_section_display": true,
   "toc_window_display": true
  }
 },
 "nbformat": 4,
 "nbformat_minor": 5
}
