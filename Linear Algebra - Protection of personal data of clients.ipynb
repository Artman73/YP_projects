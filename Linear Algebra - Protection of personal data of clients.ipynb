{
 "cells": [
  {
   "cell_type": "markdown",
   "metadata": {},
   "source": [
    "# Защита персональных данных клиентов"
   ]
  },
  {
   "cell_type": "markdown",
   "metadata": {},
   "source": [
    "Нам нужно защитить данные клиентов страховой компании «Хоть потоп». Разработаем такой метод преобразования данных, чтобы по ним было сложно восстановить персональную информацию. Обоснуем корректность его работы.\n",
    "\n",
    "Защитим данные, чтобы при преобразовании качество моделей машинного обучения не ухудшилось. Подбирать наилучшую модель не требуется."
   ]
  },
  {
   "cell_type": "markdown",
   "metadata": {},
   "source": [
    "## Загрузка данных"
   ]
  },
  {
   "cell_type": "code",
   "execution_count": 4,
   "metadata": {},
   "outputs": [],
   "source": [
    "#Импорт библиотек\n",
    "import pandas as pd\n",
    "import numpy as np\n",
    "from scipy import stats as st\n",
    "\n",
    "#хитмэп корреляции\n",
    "import os\n",
    "import seaborn as sns\n",
    "\n",
    "#операции с выборкой\n",
    "from sklearn.model_selection import train_test_split\n",
    "\n",
    "#сохранение модели\n",
    "import joblib \n",
    "from joblib import dump\n",
    "\n",
    "#классификация\n",
    "from sklearn.tree import DecisionTreeClassifier\n",
    "from sklearn.ensemble import RandomForestClassifier\n",
    "from sklearn.linear_model import LogisticRegression \n",
    "\n",
    "#регрессия\n",
    "from sklearn.tree import DecisionTreeRegressor\n",
    "from sklearn.ensemble import RandomForestRegressor\n",
    "from sklearn.linear_model import LinearRegression\n",
    "from sklearn.dummy import DummyRegressor #создание конст модели: среднее, медиана и др\n",
    "\n",
    "#преобразователь масштаба методом стандартизации\n",
    "from sklearn.preprocessing import StandardScaler\n",
    "\n",
    "#метрики\n",
    "from sklearn.metrics import f1_score\n",
    "from sklearn.metrics import accuracy_score\n",
    "from sklearn.metrics import mean_squared_error\n",
    "from sklearn.metrics import r2_score\n",
    "from sklearn.model_selection import cross_val_score #кросс-валидация\n",
    "from sklearn.metrics import make_scorer #для написания ручной оценки\n",
    "\n",
    "#подбор параметров\n",
    "from sklearn.model_selection import GridSearchCV\n",
    "from sklearn.model_selection import RandomizedSearchCV\n",
    "\n",
    "#построение ROC-кривой\n",
    "import matplotlib.pyplot as plt\n",
    "from sklearn.metrics import roc_curve \n",
    "from sklearn import metrics\n",
    "from sklearn.metrics import roc_auc_score\n",
    "#построение графиков\n",
    "import seaborn as sns\n",
    "\n",
    "#раздел upsampling\n",
    "from sklearn.utils import shuffle"
   ]
  },
  {
   "cell_type": "code",
   "execution_count": 5,
   "metadata": {},
   "outputs": [],
   "source": [
    "#Уберем предупреждения и ограничения:\n",
    "\n",
    "#D:\\installed\\anaconda3\\envs\\praktikum_env_win_new\\lib\\site-packages\\sklearn\\utils\\fixes.py:223: DeprecationWarning: distutils Version classes are deprecated. Use packaging.version instead.if _joblib.__version__ >= LooseVersion('0.12'):\n",
    "import warnings\n",
    "warnings.filterwarnings('ignore')\n",
    "\n",
    "#SettingWithCopy \n",
    "#при записи изменённых признаков в исходный датафрейм (особенности поведения sklearn и pandas)\n",
    "pd.options.mode.chained_assignment = None\n",
    "\n",
    "#отключим предупреждением библиотеки sklearn при обучении логистической регрессии, \n",
    "#укажем аргумент solver='liblinear' (англ. solver «алгоритм решения»; library linear, «библиотека линейных алгоритмов»)\n",
    "\n",
    "# Сброс ограничений на количество выводимых рядов\n",
    "pd.set_option('display.max_rows', None)\n",
    " \n",
    "# Сброс ограничений на число столбцов\n",
    "pd.set_option('display.max_columns', None)\n",
    " \n",
    "# Сброс ограничений на количество символов в записи\n",
    "pd.set_option('display.max_colwidth', None)"
   ]
  },
  {
   "cell_type": "code",
   "execution_count": 6,
   "metadata": {},
   "outputs": [
    {
     "data": {
      "text/html": [
       "<div>\n",
       "<style scoped>\n",
       "    .dataframe tbody tr th:only-of-type {\n",
       "        vertical-align: middle;\n",
       "    }\n",
       "\n",
       "    .dataframe tbody tr th {\n",
       "        vertical-align: top;\n",
       "    }\n",
       "\n",
       "    .dataframe thead th {\n",
       "        text-align: right;\n",
       "    }\n",
       "</style>\n",
       "<table border=\"1\" class=\"dataframe\">\n",
       "  <thead>\n",
       "    <tr style=\"text-align: right;\">\n",
       "      <th></th>\n",
       "      <th>Пол</th>\n",
       "      <th>Возраст</th>\n",
       "      <th>Зарплата</th>\n",
       "      <th>Члены семьи</th>\n",
       "      <th>Страховые выплаты</th>\n",
       "    </tr>\n",
       "  </thead>\n",
       "  <tbody>\n",
       "    <tr>\n",
       "      <th>0</th>\n",
       "      <td>1</td>\n",
       "      <td>41.0</td>\n",
       "      <td>49600.0</td>\n",
       "      <td>1</td>\n",
       "      <td>0</td>\n",
       "    </tr>\n",
       "    <tr>\n",
       "      <th>1</th>\n",
       "      <td>0</td>\n",
       "      <td>46.0</td>\n",
       "      <td>38000.0</td>\n",
       "      <td>1</td>\n",
       "      <td>1</td>\n",
       "    </tr>\n",
       "    <tr>\n",
       "      <th>2</th>\n",
       "      <td>0</td>\n",
       "      <td>29.0</td>\n",
       "      <td>21000.0</td>\n",
       "      <td>0</td>\n",
       "      <td>0</td>\n",
       "    </tr>\n",
       "    <tr>\n",
       "      <th>3</th>\n",
       "      <td>0</td>\n",
       "      <td>21.0</td>\n",
       "      <td>41700.0</td>\n",
       "      <td>2</td>\n",
       "      <td>0</td>\n",
       "    </tr>\n",
       "    <tr>\n",
       "      <th>4</th>\n",
       "      <td>1</td>\n",
       "      <td>28.0</td>\n",
       "      <td>26100.0</td>\n",
       "      <td>0</td>\n",
       "      <td>0</td>\n",
       "    </tr>\n",
       "  </tbody>\n",
       "</table>\n",
       "</div>"
      ],
      "text/plain": [
       "   Пол  Возраст  Зарплата  Члены семьи  Страховые выплаты\n",
       "0    1     41.0   49600.0            1                  0\n",
       "1    0     46.0   38000.0            1                  1\n",
       "2    0     29.0   21000.0            0                  0\n",
       "3    0     21.0   41700.0            2                  0\n",
       "4    1     28.0   26100.0            0                  0"
      ]
     },
     "execution_count": 6,
     "metadata": {},
     "output_type": "execute_result"
    }
   ],
   "source": [
    "#загрузим датасет\n",
    "try:\n",
    "    data = pd.read_csv('/datasets/insurance.csv')\n",
    "   \n",
    "except FileNotFoundError:\n",
    "    data = pd.read_csv('gold_recovery_full_new.csv')\n",
    "data.head()"
   ]
  },
  {
   "cell_type": "code",
   "execution_count": 7,
   "metadata": {
    "scrolled": true
   },
   "outputs": [
    {
     "data": {
      "image/png": "[encoded data removed]",
      "text/plain": [
       "<Figure size 432x288 with 2 Axes>"
      ]
     },
     "metadata": {
      "needs_background": "light"
     },
     "output_type": "display_data"
    }
   ],
   "source": [
    "#проверим корреляцию признаков\n",
    "for df in [data]:\n",
    "    #Numeric columns of the dataset\n",
    "    numeric_col = ['Пол','Возраст','Зарплата', 'Члены семьи', 'Страховые выплаты']\n",
    "    #Correlation Matrix formation\n",
    "    corr_matrix = df.loc[:,numeric_col].corr()\n",
    "    #Using heatmap to visualize the correlation matrix\n",
    "    plt.show()\n",
    "    sns.heatmap(df.corr(), annot=True, fmt='.2g', square=True, center= 0)"
   ]
  },
  {
   "cell_type": "markdown",
   "metadata": {},
   "source": [
    "### Вывод\n",
    "    Загрузили датасет\n",
    "    Выявили среднюю связь по шкале Чеддока между признаками: Страховые выплаты и Возраст \n",
    "    Все остальные связи относятся к очень слабым"
   ]
  },
  {
   "cell_type": "markdown",
   "metadata": {},
   "source": [
    "## Умножение матриц"
   ]
  },
  {
   "cell_type": "markdown",
   "metadata": {},
   "source": [
    "Формулы линейной регрессии"
   ]
  },
  {
   "cell_type": "markdown",
   "metadata": {},
   "source": [
    "Обозначения:\n",
    "\n",
    "- $X$ — матрица признаков (нулевой столбец состоит из единиц)\n",
    "\n",
    "- $y$ — вектор целевого признака\n",
    "\n",
    "- $P$ — матрица, на которую умножаются признаки\n",
    "\n",
    "- $w$ — вектор весов линейной регрессии (нулевой элемент равен сдвигу)"
   ]
  },
  {
   "cell_type": "markdown",
   "metadata": {},
   "source": [
    "Предсказания:\n",
    "\n",
    "$$\n",
    "a = Xw\n",
    "$$\n",
    "\n",
    "Задача обучения:\n",
    "\n",
    "$$\n",
    "w = \\arg\\min_w MSE(Xw, y)\n",
    "$$\n",
    "\n",
    "Формула обучения:\n",
    "\n",
    "$$\n",
    "w = (X^T X)^{-1} X^T y\n",
    "$$ "
   ]
  },
  {
   "cell_type": "markdown",
   "metadata": {},
   "source": [
    "$$\n",
    "w_1=({{(XP)}^TXP)}^{-1}{(XP)}^Ty=\\;\\\\\\\\={(P^TX^TXP)}^{-1}P^TX^Ty=\\;\\\\\\\\=P^{-1}{(X^TX)}^{-1}{(P^T)}^{-1}P^TX^Ty=>\\;\\;\\;\\\\\\;\\;\\;\\;\\;\\;\\;\\\\\\#{(P^T)}^{-1}P^T=E\\;(1)\\\\\\\\=>P^{-1}{(X^TX)}^{-1}X^Ty=>\\;\\;\\;\\\\\\;\\;\\;\\;\\;\\;\\;\\\\\\#{(X^TX)}^{-1}X^Ty=w\\;(2)\\\\\\\\=>P^{-1}w.\\\\\\\\a_1=X_1w_1=(XP)(P^{-1}w)=\\\\\\\\=XPP^{-1}w=Xw\\\\\\\\a_1=Xw=a\\\\\\\\a_1\\equiv a\n",
    "$$"
   ]
  },
  {
   "cell_type": "code",
   "execution_count": 5,
   "metadata": {},
   "outputs": [
    {
     "name": "stdout",
     "output_type": "stream",
     "text": [
      "(5000, 4)\n"
     ]
    }
   ],
   "source": [
    "#подготовим признаки\n",
    "features = data.drop('Страховые выплаты', axis=1)\n",
    "target = data['Страховые выплаты']\n",
    "\n",
    "features_orig = data.drop('Страховые выплаты', axis=1) # для 4 пункта проекта\n",
    "target_orig = data['Страховые выплаты']\n",
    "\n",
    "\n",
    "print(features.shape)"
   ]
  },
  {
   "cell_type": "code",
   "execution_count": 6,
   "metadata": {
    "scrolled": true
   },
   "outputs": [
    {
     "data": {
      "text/plain": [
       "array([[ 9.95473882,  9.44963673,  8.92906606,  8.90035789],\n",
       "       [11.02295881,  9.11662339,  7.97219795, 11.86367907],\n",
       "       [ 8.93971179, 10.59866041,  9.18976025, 10.63715118],\n",
       "       [10.38483232, 10.34997284,  9.01551126,  8.22119102]])"
      ]
     },
     "execution_count": 6,
     "metadata": {},
     "output_type": "execute_result"
    }
   ],
   "source": [
    "#сгенерируем рандомом матрицу и сохраним идин из вариантов ниже\n",
    "matrix = np.random.normal(10, size = (4, 4))\n",
    "matrix"
   ]
  },
  {
   "cell_type": "code",
   "execution_count": 6,
   "metadata": {},
   "outputs": [],
   "source": [
    "matrix = np.array([[2, 7, 0, 0],\n",
    "       [8, 2, 4, 5],\n",
    "       [8, 8, 9, 3],\n",
    "       [1, 9, 0, 1]])"
   ]
  },
  {
   "cell_type": "code",
   "execution_count": 7,
   "metadata": {},
   "outputs": [
    {
     "data": {
      "text/plain": [
       "array([[ 0.46348733,  0.09388972, -0.04172876, -0.3442623 ],\n",
       "       [ 0.01043219, -0.02682563,  0.0119225 ,  0.09836066],\n",
       "       [-0.23546945, -0.10879285,  0.15946349,  0.06557377],\n",
       "       [-0.55737705,  0.14754098, -0.06557377,  0.45901639]])"
      ]
     },
     "execution_count": 7,
     "metadata": {},
     "output_type": "execute_result"
    }
   ],
   "source": [
    "#создадим обратную матрицу и проверим\n",
    "matrix_inv = np.linalg.inv(matrix)\n",
    "matrix_inv"
   ]
  },
  {
   "cell_type": "code",
   "execution_count": 8,
   "metadata": {},
   "outputs": [
    {
     "name": "stdout",
     "output_type": "stream",
     "text": [
      "matrix @ matrix_inv:\n",
      "[[ 1.00000000e+00 -6.93889390e-17  3.64291930e-17  1.11022302e-16]\n",
      " [ 1.11022302e-16  1.00000000e+00  1.38777878e-17  6.10622664e-16]\n",
      " [ 7.77156117e-16 -2.77555756e-17  1.00000000e+00  4.99600361e-16]\n",
      " [ 0.00000000e+00  0.00000000e+00  0.00000000e+00  1.00000000e+00]]\n"
     ]
    },
    {
     "data": {
      "text/plain": [
       "array([[ 1., -0.,  0.,  0.],\n",
       "       [ 0.,  1.,  0.,  0.],\n",
       "       [ 0., -0.,  1.,  0.],\n",
       "       [ 0.,  0.,  0.,  1.]])"
      ]
     },
     "execution_count": 8,
     "metadata": {},
     "output_type": "execute_result"
    }
   ],
   "source": [
    "#проверим обратимость матрицы, получим Е (единичную матрицу)\n",
    "print('matrix @ matrix_inv:',)\n",
    "print(matrix @ matrix_inv)\n",
    "\n",
    "np.around((matrix @ matrix_inv), decimals = 2)"
   ]
  },
  {
   "cell_type": "code",
   "execution_count": 9,
   "metadata": {
    "scrolled": true
   },
   "outputs": [
    {
     "data": {
      "text/plain": [
       "array([[397131., 396898., 446564., 149006.],\n",
       "       [304369., 304101., 342184., 114231.],\n",
       "       [168232., 168058., 189116.,  63145.],\n",
       "       ...,\n",
       "       [271362., 271258., 305180., 101802.],\n",
       "       [261781., 261678., 294388.,  98213.],\n",
       "       [325027., 324872., 365512., 121941.]])"
      ]
     },
     "execution_count": 9,
     "metadata": {},
     "output_type": "execute_result"
    }
   ],
   "source": [
    "#умножим признаки на обратимую матрицу\n",
    "features_multiplied_matrixinv = np.array(features) @ matrix\n",
    "features_multiplied_matrixinv"
   ]
  },
  {
   "cell_type": "code",
   "execution_count": 10,
   "metadata": {},
   "outputs": [
    {
     "name": "stdout",
     "output_type": "stream",
     "text": [
      "w [-9.38235504e-01  7.92580543e-03  3.57083050e-02 -1.70080492e-07\n",
      " -1.35676623e-02]\n",
      "self.w [ 7.92580543e-03  3.57083050e-02 -1.70080492e-07 -1.35676623e-02]\n",
      "self.w0 -0.9382355041524771\n",
      "0.42494550286668\n"
     ]
    }
   ],
   "source": [
    "#измерим и сравним R2 при обучении:\n",
    "##features\n",
    "class LinearRegression:\n",
    "    def fit(self, train_features, train_target):\n",
    "        X = np.concatenate((np.ones((train_features.shape[0], 1)), train_features), axis=1)\n",
    "        y = train_target\n",
    "        w = (np.linalg.inv(X.T @ X)) @ X.T @ y\n",
    "        self.w = w[1:]\n",
    "        self.w0 = w[0]\n",
    "        print('w', w)\n",
    "        print('self.w', self.w)\n",
    "        print('self.w0', self.w0)\n",
    "\n",
    "    def predict(self, test_features):\n",
    "        return test_features.dot(self.w) + self.w0\n",
    "    \n",
    "model = LinearRegression()\n",
    "model.fit(features, target)\n",
    "predictions = model.predict(features)\n",
    "r2_features = r2_score(target, predictions)\n",
    "print(r2_features)"
   ]
  },
  {
   "cell_type": "code",
   "execution_count": 11,
   "metadata": {},
   "outputs": [
    {
     "name": "stdout",
     "output_type": "stream",
     "text": [
      "w [-0.93823884  0.01169705 -0.00220974 -0.00664083 -0.00537706]\n",
      "self.w [ 0.01169705 -0.00220974 -0.00664083 -0.00537706]\n",
      "self.w0 -0.938238836450605\n",
      "0.4249455028587986\n"
     ]
    }
   ],
   "source": [
    "##features_multiplied_matrixinv\n",
    "model = LinearRegression()\n",
    "model.fit(features_multiplied_matrixinv, target)\n",
    "predictions = model.predict(features_multiplied_matrixinv)\n",
    "r2_features_multiplied_matrixinv = r2_score(target, predictions)\n",
    "print(r2_features_multiplied_matrixinv)"
   ]
  },
  {
   "cell_type": "code",
   "execution_count": 12,
   "metadata": {},
   "outputs": [
    {
     "name": "stdout",
     "output_type": "stream",
     "text": [
      "разница: 7.881362229511524e-12\n"
     ]
    }
   ],
   "source": [
    "print('разница:', r2_features - r2_features_multiplied_matrixinv)"
   ]
  },
  {
   "cell_type": "markdown",
   "metadata": {},
   "source": [
    "**Ответ:** Не изменится\n",
    "Признаки умножили на обратимую матрицу. Качество линейной регресии практически не изменилось, уменьшилось на величину 7.881362229511524e-12\n",
    "\n",
    "**Обоснование:** \n",
    "Параметры линейной регрессии: w, self.w, self.w0 \n",
    "в исходной задаче и в преобразованной задаче\n",
    "связаны через y = train_target \n",
    "в формуле  w = (np.linalg.inv(X.T @ X)) @ X.T @ y\n",
    "также видно что параметр self.w0 величина сдвига предсказания (англ. bias) - практически одинаков."
   ]
  },
  {
   "cell_type": "markdown",
   "metadata": {},
   "source": [
    "## Алгоритм преобразования\n",
    "    Разработаем такой метод преобразования данных, чтобы по ним было сложно восстановить персональную информацию\n",
    "    \n",
    "    Предложим алгоритм преобразования данных для решения задачи. \n",
    "    Обоснуем, почему качество линейной регрессии не поменяется.    "
   ]
  },
  {
   "cell_type": "markdown",
   "metadata": {},
   "source": [
    "**Запишем Алгоритм преобразования и обратного преобразования**\n",
    "\n",
    "    features_encrypted = features @ matrix_B - number\n",
    "    features_original  = (features_encrypted + number) @ matrix_B_inv \n",
    "    \n",
    "    matrix_B - произвольная обратимая матрица нужной размерности (количество стообцов features = количеству и столбцов и строк matrix_B)\n",
    "    number   - произвольное число\n",
    "\n",
    "*после преобразований округлим features_original до нужного количества знаков после запятой как в исходной мтрице признаков\n",
    "np.around(features_original, decimals = 1)\n",
    "чтобы убрать погрешности связанные с ограниченной разрядностью вычислений\n",
    "\n",
    "*для генерации матрицы B можно применять np.random.randint(10, size=(features.shape[1], features.shape[1])), как пример"
   ]
  },
  {
   "cell_type": "markdown",
   "metadata": {},
   "source": [
    "**Обоснование\n",
    "При выполнении комбинации простейших действий с матрицей, не приводящих к превращению элементов матрицы в ноль, ее возможно восстановить, зная лишь комбинацию действий и чисел"
   ]
  },
  {
   "cell_type": "code",
   "execution_count": 13,
   "metadata": {},
   "outputs": [],
   "source": [
    "features = np.array([[1.3, 2.0, 3.0],\n",
    "                     [4.0, 5.0, 6.0],\n",
    "                     [7.0, 8.0, 9.0]])\n",
    "\n",
    "matrix_B = np.array([[1.0, 3.0, 5.0],\n",
    "                     [7.0, 9.0, 1.0],\n",
    "                     [3.0, 5.0, 9.0]])\n",
    "\n",
    "matrix_B_inv =  np.linalg.inv(matrix_B)\n",
    "\n",
    "number = 7"
   ]
  },
  {
   "cell_type": "code",
   "execution_count": 14,
   "metadata": {},
   "outputs": [
    {
     "data": {
      "text/plain": [
       "array([[ 17.3,  29.9,  28.5],\n",
       "       [ 50. ,  80. ,  72. ],\n",
       "       [ 83. , 131. , 117. ]])"
      ]
     },
     "execution_count": 14,
     "metadata": {},
     "output_type": "execute_result"
    }
   ],
   "source": [
    "features_encrypted = features @ matrix_B - number\n",
    "features_encrypted"
   ]
  },
  {
   "cell_type": "code",
   "execution_count": 15,
   "metadata": {
    "scrolled": true
   },
   "outputs": [
    {
     "data": {
      "text/plain": [
       "array([[1.3, 2. , 3. ],\n",
       "       [4. , 5. , 6. ],\n",
       "       [7. , 8. , 9. ]])"
      ]
     },
     "execution_count": 15,
     "metadata": {},
     "output_type": "execute_result"
    }
   ],
   "source": [
    "features_original  = (features_encrypted + number) @ matrix_B_inv \n",
    "np.around(features_original, decimals = 1)"
   ]
  },
  {
   "cell_type": "markdown",
   "metadata": {},
   "source": [
    "## Проверка алгоритма"
   ]
  },
  {
   "cell_type": "code",
   "execution_count": 16,
   "metadata": {},
   "outputs": [
    {
     "name": "stdout",
     "output_type": "stream",
     "text": [
      "w [-9.38235504e-01  7.92580543e-03  3.57083050e-02 -1.70080492e-07\n",
      " -1.35676623e-02]\n",
      "self.w [ 7.92580543e-03  3.57083050e-02 -1.70080492e-07 -1.35676623e-02]\n",
      "self.w0 -0.9382355041524771\n",
      "0.42494550286668\n"
     ]
    }
   ],
   "source": [
    "model = LinearRegression()\n",
    "\n",
    "model.fit(features_orig, target_orig)\n",
    "predictions = model.predict(features_orig)\n",
    "\n",
    "r2_features = r2_score(target_orig, predictions)\n",
    "print(r2_features)"
   ]
  },
  {
   "cell_type": "code",
   "execution_count": 17,
   "metadata": {
    "scrolled": true
   },
   "outputs": [
    {
     "name": "stdout",
     "output_type": "stream",
     "text": [
      "w [-9.37313904e-01  1.26317986e-04  4.36312870e-05 -1.08708068e-04\n",
      " -4.44718387e-05]\n",
      "self.w [ 1.26317986e-04  4.36312870e-05 -1.08708068e-04 -4.44718387e-05]\n",
      "self.w0 -0.9373139037889865\n",
      "0.42494550286637944\n"
     ]
    }
   ],
   "source": [
    "matrix_B = np.random.randint(777, size=(features_orig.shape[1], features_orig.shape[1]))\n",
    "number = 55\n",
    "features_encrypted = features_orig @ matrix_B - number\n",
    "\n",
    "\n",
    "\n",
    "model = LinearRegression()\n",
    "\n",
    "model.fit(features_encrypted, target_orig)\n",
    "predictions = model.predict(features_encrypted)\n",
    "\n",
    "r2_features_encrypted = r2_score(target_orig, predictions)\n",
    "print(r2_features_encrypted)"
   ]
  },
  {
   "cell_type": "code",
   "execution_count": 18,
   "metadata": {},
   "outputs": [
    {
     "name": "stdout",
     "output_type": "stream",
     "text": [
      "3.005373727660299e-13\n"
     ]
    }
   ],
   "source": [
    "print(r2_features-r2_features_encrypted)"
   ]
  },
  {
   "cell_type": "markdown",
   "metadata": {},
   "source": [
    "<div class=\"alert alert-success\">\n",
    "<b>✔️ Комментарий ревьювера:</b> Качество предскзазания действительно не изменяется, результат достигнут!\n",
    "    \n",
    "Еще могу порекомендовать вот такой материал:\n",
    "    \n",
    "https://habr.com/ru/post/479398/\n",
    "    \n",
    "</div>"
   ]
  },
  {
   "cell_type": "markdown",
   "metadata": {},
   "source": [
    "**Вывод:**\n",
    "\n",
    "    Получили простейший алгорит преобразования данных для защиты информации.\n",
    "    Возможно вернуть исходные данные при наличии информации о последовательности комбинаций и используемых чисел.\n",
    "    Разница между качеством r2 на исходной и зашифрованной матрице составляет 8.948397578478762e-14."
   ]
  },
  {
   "cell_type": "markdown",
   "metadata": {},
   "source": [
    "## Чек-лист проверки"
   ]
  },
  {
   "cell_type": "markdown",
   "metadata": {},
   "source": [
    "Поставьте 'x' в выполненных пунктах. Далее нажмите Shift+Enter."
   ]
  },
  {
   "cell_type": "markdown",
   "metadata": {},
   "source": [
    "- [x]  Jupyter Notebook открыт\n",
    "- [ ]  Весь код выполняется без ошибок\n",
    "- [ ]  Ячейки с кодом расположены в порядке исполнения\n",
    "- [ ]  Выполнен шаг 1: данные загружены\n",
    "- [ ]  Выполнен шаг 2: получен ответ на вопрос об умножении матриц\n",
    "    - [ ]  Указан правильный вариант ответа\n",
    "    - [ ]  Вариант обоснован\n",
    "- [ ]  Выполнен шаг 3: предложен алгоритм преобразования\n",
    "    - [ ]  Алгоритм описан\n",
    "    - [ ]  Алгоритм обоснован\n",
    "- [ ]  Выполнен шаг 4: алгоритм проверен\n",
    "    - [ ]  Алгоритм реализован\n",
    "    - [ ]  Проведено сравнение качества моделей до и после преобразования"
   ]
  }
 ],
 "metadata": {
  "ExecuteTimeLog": [
   {
    "duration": 636,
    "start_time": "2022-05-22T12:33:10.503Z"
   },
   {
    "duration": 61,
    "start_time": "2022-05-22T15:42:24.010Z"
   },
   {
    "duration": 1869,
    "start_time": "2022-05-22T15:42:28.305Z"
   },
   {
    "duration": 4,
    "start_time": "2022-05-22T15:42:30.176Z"
   },
   {
    "duration": 147,
    "start_time": "2022-05-22T15:42:30.182Z"
   },
   {
    "duration": 0,
    "start_time": "2022-05-22T15:42:30.331Z"
   },
   {
    "duration": 0,
    "start_time": "2022-05-22T15:42:30.332Z"
   },
   {
    "duration": 8,
    "start_time": "2022-05-22T15:42:48.615Z"
   },
   {
    "duration": 34,
    "start_time": "2022-05-22T15:42:59.000Z"
   },
   {
    "duration": 17,
    "start_time": "2022-05-22T15:43:05.645Z"
   },
   {
    "duration": 26,
    "start_time": "2022-05-22T15:43:42.605Z"
   },
   {
    "duration": 12,
    "start_time": "2022-05-22T15:43:54.775Z"
   },
   {
    "duration": 5,
    "start_time": "2022-05-22T15:44:04.181Z"
   },
   {
    "duration": 7,
    "start_time": "2022-05-22T15:57:37.499Z"
   },
   {
    "duration": 4,
    "start_time": "2022-05-22T16:02:11.538Z"
   },
   {
    "duration": 5,
    "start_time": "2022-05-22T16:02:17.209Z"
   },
   {
    "duration": 4,
    "start_time": "2022-05-22T16:02:25.194Z"
   },
   {
    "duration": 121,
    "start_time": "2022-05-22T16:33:13.505Z"
   },
   {
    "duration": 5,
    "start_time": "2022-05-22T16:33:21.025Z"
   },
   {
    "duration": 5,
    "start_time": "2022-05-22T16:56:30.894Z"
   },
   {
    "duration": 4,
    "start_time": "2022-05-22T16:56:31.649Z"
   },
   {
    "duration": 5,
    "start_time": "2022-05-22T16:56:32.220Z"
   },
   {
    "duration": 6,
    "start_time": "2022-05-22T16:56:32.679Z"
   },
   {
    "duration": 3,
    "start_time": "2022-05-22T16:57:34.294Z"
   },
   {
    "duration": 13,
    "start_time": "2022-05-22T16:58:21.444Z"
   },
   {
    "duration": 14,
    "start_time": "2022-05-22T16:58:37.044Z"
   },
   {
    "duration": 8,
    "start_time": "2022-05-22T16:58:49.186Z"
   },
   {
    "duration": 19,
    "start_time": "2022-05-22T16:58:49.197Z"
   },
   {
    "duration": 41,
    "start_time": "2022-05-22T16:58:49.218Z"
   },
   {
    "duration": 24,
    "start_time": "2022-05-22T16:58:49.261Z"
   },
   {
    "duration": 0,
    "start_time": "2022-05-22T16:58:49.288Z"
   },
   {
    "duration": 0,
    "start_time": "2022-05-22T16:58:49.289Z"
   },
   {
    "duration": 16,
    "start_time": "2022-05-22T16:58:55.535Z"
   },
   {
    "duration": 4,
    "start_time": "2022-05-22T16:59:31.684Z"
   },
   {
    "duration": 8,
    "start_time": "2022-05-22T16:59:39.314Z"
   },
   {
    "duration": 5,
    "start_time": "2022-05-22T17:02:47.614Z"
   },
   {
    "duration": 6,
    "start_time": "2022-05-22T17:03:07.965Z"
   },
   {
    "duration": 5,
    "start_time": "2022-05-22T17:03:09.765Z"
   },
   {
    "duration": 7,
    "start_time": "2022-05-22T17:03:26.655Z"
   },
   {
    "duration": 5,
    "start_time": "2022-05-22T17:03:38.035Z"
   },
   {
    "duration": 4,
    "start_time": "2022-05-22T17:03:55.634Z"
   },
   {
    "duration": 5,
    "start_time": "2022-05-22T17:13:19.745Z"
   },
   {
    "duration": 9,
    "start_time": "2022-05-22T17:17:02.660Z"
   },
   {
    "duration": 6,
    "start_time": "2022-05-22T17:17:07.559Z"
   },
   {
    "duration": 6,
    "start_time": "2022-05-22T17:17:43.846Z"
   },
   {
    "duration": 6,
    "start_time": "2022-05-22T17:17:53.105Z"
   },
   {
    "duration": 7,
    "start_time": "2022-05-22T17:20:56.744Z"
   },
   {
    "duration": 6,
    "start_time": "2022-05-22T17:21:05.895Z"
   },
   {
    "duration": 6,
    "start_time": "2022-05-22T17:23:35.879Z"
   },
   {
    "duration": 4,
    "start_time": "2022-05-22T17:23:45.364Z"
   },
   {
    "duration": 6,
    "start_time": "2022-05-22T17:23:48.644Z"
   },
   {
    "duration": 78,
    "start_time": "2022-05-22T19:18:48.887Z"
   },
   {
    "duration": 1695,
    "start_time": "2022-05-22T19:18:53.510Z"
   },
   {
    "duration": 9,
    "start_time": "2022-05-22T19:18:55.208Z"
   },
   {
    "duration": 189,
    "start_time": "2022-05-22T19:18:55.220Z"
   },
   {
    "duration": 7,
    "start_time": "2022-05-22T19:18:55.420Z"
   },
   {
    "duration": 42,
    "start_time": "2022-05-22T19:18:55.429Z"
   },
   {
    "duration": 6,
    "start_time": "2022-05-22T19:18:55.503Z"
   },
   {
    "duration": 91,
    "start_time": "2022-05-22T19:18:55.510Z"
   },
   {
    "duration": 14,
    "start_time": "2022-05-22T19:18:55.603Z"
   },
   {
    "duration": 76,
    "start_time": "2022-05-22T19:18:55.625Z"
   },
   {
    "duration": 3,
    "start_time": "2022-05-22T19:19:02.365Z"
   },
   {
    "duration": 5,
    "start_time": "2022-05-22T19:19:13.226Z"
   },
   {
    "duration": 4,
    "start_time": "2022-05-22T19:19:29.999Z"
   },
   {
    "duration": 6,
    "start_time": "2022-05-22T19:19:31.475Z"
   },
   {
    "duration": 3,
    "start_time": "2022-05-22T19:20:24.137Z"
   },
   {
    "duration": 175,
    "start_time": "2022-05-22T19:20:27.914Z"
   },
   {
    "duration": 4,
    "start_time": "2022-05-22T19:23:23.227Z"
   },
   {
    "duration": 17,
    "start_time": "2022-05-22T19:23:24.794Z"
   },
   {
    "duration": 4,
    "start_time": "2022-05-22T19:24:25.668Z"
   },
   {
    "duration": 5,
    "start_time": "2022-05-22T19:24:27.379Z"
   },
   {
    "duration": 5,
    "start_time": "2022-05-22T19:24:49.218Z"
   },
   {
    "duration": 2,
    "start_time": "2022-05-22T19:24:51.924Z"
   },
   {
    "duration": 3,
    "start_time": "2022-05-22T19:24:52.858Z"
   },
   {
    "duration": 5,
    "start_time": "2022-05-22T19:24:53.660Z"
   },
   {
    "duration": 4,
    "start_time": "2022-05-22T19:24:55.684Z"
   },
   {
    "duration": 3,
    "start_time": "2022-05-22T19:27:03.974Z"
   },
   {
    "duration": 5,
    "start_time": "2022-05-22T19:27:05.958Z"
   },
   {
    "duration": 5,
    "start_time": "2022-05-22T19:27:31.466Z"
   },
   {
    "duration": 5,
    "start_time": "2022-05-22T19:27:43.626Z"
   },
   {
    "duration": 5,
    "start_time": "2022-05-22T19:28:09.466Z"
   },
   {
    "duration": 7,
    "start_time": "2022-05-22T19:30:35.183Z"
   },
   {
    "duration": 7,
    "start_time": "2022-05-22T19:30:52.194Z"
   },
   {
    "duration": 3,
    "start_time": "2022-05-22T19:31:06.062Z"
   },
   {
    "duration": 4,
    "start_time": "2022-05-22T19:31:46.775Z"
   },
   {
    "duration": 9,
    "start_time": "2022-05-22T19:32:12.192Z"
   },
   {
    "duration": 3,
    "start_time": "2022-05-22T19:32:19.452Z"
   },
   {
    "duration": 6,
    "start_time": "2022-05-22T19:33:41.007Z"
   },
   {
    "duration": 3,
    "start_time": "2022-05-22T19:33:52.922Z"
   },
   {
    "duration": 8,
    "start_time": "2022-05-22T19:33:55.719Z"
   },
   {
    "duration": 5,
    "start_time": "2022-05-22T19:34:01.155Z"
   },
   {
    "duration": 10,
    "start_time": "2022-05-22T19:34:16.076Z"
   },
   {
    "duration": 5,
    "start_time": "2022-05-22T19:34:28.187Z"
   },
   {
    "duration": 5,
    "start_time": "2022-05-22T19:56:40.850Z"
   },
   {
    "duration": 5,
    "start_time": "2022-05-22T19:56:50.334Z"
   },
   {
    "duration": 4,
    "start_time": "2022-05-22T19:58:32.265Z"
   },
   {
    "duration": 10,
    "start_time": "2022-05-22T19:58:35.652Z"
   },
   {
    "duration": 6,
    "start_time": "2022-05-22T19:59:19.980Z"
   },
   {
    "duration": 6,
    "start_time": "2022-05-22T19:59:27.726Z"
   },
   {
    "duration": 6,
    "start_time": "2022-05-22T19:59:33.876Z"
   },
   {
    "duration": 6,
    "start_time": "2022-05-22T19:59:37.659Z"
   },
   {
    "duration": 5,
    "start_time": "2022-05-22T19:59:41.525Z"
   },
   {
    "duration": 6,
    "start_time": "2022-05-22T19:59:46.623Z"
   },
   {
    "duration": 5,
    "start_time": "2022-05-22T19:59:53.837Z"
   },
   {
    "duration": 77,
    "start_time": "2022-05-23T19:17:50.348Z"
   },
   {
    "duration": 1785,
    "start_time": "2022-05-23T19:17:56.642Z"
   },
   {
    "duration": 4,
    "start_time": "2022-05-23T19:17:58.429Z"
   },
   {
    "duration": 152,
    "start_time": "2022-05-23T19:17:58.434Z"
   },
   {
    "duration": 5,
    "start_time": "2022-05-23T19:17:58.587Z"
   },
   {
    "duration": 20,
    "start_time": "2022-05-23T19:17:58.595Z"
   },
   {
    "duration": 24,
    "start_time": "2022-05-23T19:17:58.617Z"
   },
   {
    "duration": 32,
    "start_time": "2022-05-23T19:17:58.643Z"
   },
   {
    "duration": 208,
    "start_time": "2022-05-23T19:17:58.677Z"
   },
   {
    "duration": 974,
    "start_time": "2022-05-23T19:17:58.886Z"
   },
   {
    "duration": 2,
    "start_time": "2022-05-23T19:17:59.863Z"
   },
   {
    "duration": 6,
    "start_time": "2022-05-23T19:23:35.357Z"
   },
   {
    "duration": 6,
    "start_time": "2022-05-23T19:28:36.920Z"
   },
   {
    "duration": 6,
    "start_time": "2022-05-23T19:29:13.768Z"
   },
   {
    "duration": 354,
    "start_time": "2022-05-23T19:34:11.284Z"
   },
   {
    "duration": 6,
    "start_time": "2022-05-23T19:34:52.358Z"
   },
   {
    "duration": 15,
    "start_time": "2022-05-23T19:35:01.009Z"
   },
   {
    "duration": 5,
    "start_time": "2022-05-23T19:37:01.496Z"
   },
   {
    "duration": 10,
    "start_time": "2022-05-23T19:38:11.810Z"
   },
   {
    "duration": 9,
    "start_time": "2022-05-23T19:38:20.477Z"
   },
   {
    "duration": 13,
    "start_time": "2022-05-23T19:40:03.873Z"
   },
   {
    "duration": 9,
    "start_time": "2022-05-23T19:40:53.957Z"
   },
   {
    "duration": 14,
    "start_time": "2022-05-23T19:41:00.291Z"
   },
   {
    "duration": 13,
    "start_time": "2022-05-23T19:41:01.472Z"
   },
   {
    "duration": 3,
    "start_time": "2022-05-23T19:41:02.395Z"
   },
   {
    "duration": 1662,
    "start_time": "2022-05-24T18:38:37.129Z"
   },
   {
    "duration": 4,
    "start_time": "2022-05-24T18:38:38.794Z"
   },
   {
    "duration": 159,
    "start_time": "2022-05-24T18:38:38.799Z"
   },
   {
    "duration": 5,
    "start_time": "2022-05-24T18:38:38.960Z"
   },
   {
    "duration": 20,
    "start_time": "2022-05-24T18:38:38.968Z"
   },
   {
    "duration": 7,
    "start_time": "2022-05-24T18:38:38.990Z"
   },
   {
    "duration": 16,
    "start_time": "2022-05-24T18:38:38.999Z"
   },
   {
    "duration": 87,
    "start_time": "2022-05-24T18:38:39.017Z"
   },
   {
    "duration": 16,
    "start_time": "2022-05-24T18:38:39.195Z"
   },
   {
    "duration": 82,
    "start_time": "2022-05-24T18:38:39.213Z"
   },
   {
    "duration": 99,
    "start_time": "2022-05-24T18:38:39.301Z"
   },
   {
    "duration": 95,
    "start_time": "2022-05-24T18:38:39.402Z"
   },
   {
    "duration": 9,
    "start_time": "2022-05-24T18:39:53.053Z"
   },
   {
    "duration": 7,
    "start_time": "2022-05-24T18:40:02.546Z"
   },
   {
    "duration": 17,
    "start_time": "2022-05-24T18:41:03.924Z"
   },
   {
    "duration": 13,
    "start_time": "2022-05-24T18:41:14.572Z"
   },
   {
    "duration": 5,
    "start_time": "2022-05-24T19:52:10.077Z"
   },
   {
    "duration": 121,
    "start_time": "2022-05-24T19:57:50.645Z"
   },
   {
    "duration": 2,
    "start_time": "2022-05-24T19:57:56.879Z"
   },
   {
    "duration": 4,
    "start_time": "2022-05-24T19:57:57.767Z"
   },
   {
    "duration": 9,
    "start_time": "2022-05-24T19:58:34.541Z"
   },
   {
    "duration": 3,
    "start_time": "2022-05-24T19:58:39.014Z"
   },
   {
    "duration": 4,
    "start_time": "2022-05-24T19:58:41.334Z"
   },
   {
    "duration": 4,
    "start_time": "2022-05-24T19:59:11.167Z"
   },
   {
    "duration": 4,
    "start_time": "2022-05-24T20:01:18.179Z"
   },
   {
    "duration": 9,
    "start_time": "2022-05-24T20:01:33.460Z"
   },
   {
    "duration": 4,
    "start_time": "2022-05-24T20:02:41.086Z"
   },
   {
    "duration": 3,
    "start_time": "2022-05-24T20:17:32.269Z"
   },
   {
    "duration": 4,
    "start_time": "2022-05-24T20:17:33.158Z"
   },
   {
    "duration": 5,
    "start_time": "2022-05-24T20:17:33.914Z"
   },
   {
    "duration": 5,
    "start_time": "2022-05-24T20:17:35.940Z"
   },
   {
    "duration": 4,
    "start_time": "2022-05-24T20:17:36.724Z"
   },
   {
    "duration": 6,
    "start_time": "2022-05-24T20:17:48.778Z"
   },
   {
    "duration": 4,
    "start_time": "2022-05-24T20:17:50.466Z"
   },
   {
    "duration": 6,
    "start_time": "2022-05-24T20:20:29.946Z"
   },
   {
    "duration": 4,
    "start_time": "2022-05-24T20:30:14.651Z"
   },
   {
    "duration": 9,
    "start_time": "2022-05-24T20:37:12.544Z"
   },
   {
    "duration": 4,
    "start_time": "2022-05-24T20:37:47.708Z"
   },
   {
    "duration": 10,
    "start_time": "2022-05-24T20:37:48.634Z"
   },
   {
    "duration": 4,
    "start_time": "2022-05-24T20:37:55.090Z"
   },
   {
    "duration": 4,
    "start_time": "2022-05-24T20:37:56.593Z"
   },
   {
    "duration": 4,
    "start_time": "2022-05-24T20:38:46.355Z"
   },
   {
    "duration": 5,
    "start_time": "2022-05-24T20:39:17.254Z"
   },
   {
    "duration": 4,
    "start_time": "2022-05-24T20:39:42.325Z"
   },
   {
    "duration": 4,
    "start_time": "2022-05-24T20:39:44.381Z"
   },
   {
    "duration": 4,
    "start_time": "2022-05-24T20:39:45.843Z"
   },
   {
    "duration": 4,
    "start_time": "2022-05-24T20:39:47.524Z"
   },
   {
    "duration": 4,
    "start_time": "2022-05-24T20:39:48.867Z"
   },
   {
    "duration": 4,
    "start_time": "2022-05-24T20:39:50.053Z"
   },
   {
    "duration": 4,
    "start_time": "2022-05-24T20:40:24.166Z"
   },
   {
    "duration": 5,
    "start_time": "2022-05-24T20:40:35.372Z"
   },
   {
    "duration": 4,
    "start_time": "2022-05-24T20:40:51.750Z"
   },
   {
    "duration": 4,
    "start_time": "2022-05-24T20:41:47.630Z"
   },
   {
    "duration": 4,
    "start_time": "2022-05-24T20:41:49.990Z"
   },
   {
    "duration": 4,
    "start_time": "2022-05-24T20:41:53.071Z"
   },
   {
    "duration": 10,
    "start_time": "2022-05-24T20:42:26.192Z"
   },
   {
    "duration": 65,
    "start_time": "2022-05-24T20:57:56.247Z"
   },
   {
    "duration": 5,
    "start_time": "2022-05-24T20:58:16.879Z"
   },
   {
    "duration": 17,
    "start_time": "2022-05-24T20:58:16.886Z"
   },
   {
    "duration": 45,
    "start_time": "2022-05-24T20:58:16.905Z"
   },
   {
    "duration": 5,
    "start_time": "2022-05-24T20:58:16.952Z"
   },
   {
    "duration": 6,
    "start_time": "2022-05-24T20:58:16.959Z"
   },
   {
    "duration": 5,
    "start_time": "2022-05-24T20:58:16.966Z"
   },
   {
    "duration": 7,
    "start_time": "2022-05-24T20:58:16.972Z"
   },
   {
    "duration": 34,
    "start_time": "2022-05-24T20:58:16.982Z"
   },
   {
    "duration": 82,
    "start_time": "2022-05-24T20:58:17.017Z"
   },
   {
    "duration": 28,
    "start_time": "2022-05-24T20:58:17.101Z"
   },
   {
    "duration": 11,
    "start_time": "2022-05-24T20:58:17.196Z"
   },
   {
    "duration": 207,
    "start_time": "2022-05-24T20:58:17.209Z"
   },
   {
    "duration": 5,
    "start_time": "2022-05-24T20:58:17.418Z"
   },
   {
    "duration": 25,
    "start_time": "2022-05-24T20:58:17.425Z"
   },
   {
    "duration": 62,
    "start_time": "2022-05-24T20:58:17.452Z"
   },
   {
    "duration": 113,
    "start_time": "2022-05-24T20:58:17.515Z"
   },
   {
    "duration": 0,
    "start_time": "2022-05-24T20:58:17.630Z"
   },
   {
    "duration": 9,
    "start_time": "2022-05-24T21:04:06.316Z"
   },
   {
    "duration": 5,
    "start_time": "2022-05-24T21:04:17.017Z"
   },
   {
    "duration": 9,
    "start_time": "2022-05-24T21:04:22.230Z"
   },
   {
    "duration": 6,
    "start_time": "2022-05-24T21:05:37.548Z"
   },
   {
    "duration": 10,
    "start_time": "2022-05-24T21:05:57.635Z"
   },
   {
    "duration": 6,
    "start_time": "2022-05-24T21:17:59.654Z"
   },
   {
    "duration": 4,
    "start_time": "2022-05-24T21:18:13.772Z"
   },
   {
    "duration": 4,
    "start_time": "2022-05-24T21:18:35.653Z"
   },
   {
    "duration": 5,
    "start_time": "2022-05-24T21:18:39.932Z"
   },
   {
    "duration": 3,
    "start_time": "2022-05-24T21:19:33.225Z"
   },
   {
    "duration": 3,
    "start_time": "2022-05-24T21:19:36.371Z"
   },
   {
    "duration": 6,
    "start_time": "2022-05-24T21:19:43.095Z"
   },
   {
    "duration": 9,
    "start_time": "2022-05-24T21:19:50.967Z"
   },
   {
    "duration": 4,
    "start_time": "2022-05-24T21:19:54.870Z"
   },
   {
    "duration": 13,
    "start_time": "2022-05-24T21:22:44.844Z"
   },
   {
    "duration": 15,
    "start_time": "2022-05-24T21:23:21.318Z"
   },
   {
    "duration": 26,
    "start_time": "2022-05-24T21:23:54.893Z"
   },
   {
    "duration": 4,
    "start_time": "2022-05-24T21:27:35.795Z"
   },
   {
    "duration": 33,
    "start_time": "2022-05-24T21:27:44.330Z"
   },
   {
    "duration": 5,
    "start_time": "2022-05-24T21:31:25.270Z"
   },
   {
    "duration": 7,
    "start_time": "2022-05-24T21:31:25.277Z"
   },
   {
    "duration": 63,
    "start_time": "2022-05-24T21:31:25.285Z"
   },
   {
    "duration": 6,
    "start_time": "2022-05-24T21:31:25.350Z"
   },
   {
    "duration": 8,
    "start_time": "2022-05-24T21:31:25.357Z"
   },
   {
    "duration": 8,
    "start_time": "2022-05-24T21:31:25.366Z"
   },
   {
    "duration": 25,
    "start_time": "2022-05-24T21:31:25.375Z"
   },
   {
    "duration": 26,
    "start_time": "2022-05-24T21:31:25.402Z"
   },
   {
    "duration": 10,
    "start_time": "2022-05-24T21:31:25.500Z"
   },
   {
    "duration": 185,
    "start_time": "2022-05-24T21:31:25.512Z"
   },
   {
    "duration": 118,
    "start_time": "2022-05-24T21:31:25.699Z"
   },
   {
    "duration": 189,
    "start_time": "2022-05-24T21:31:25.820Z"
   },
   {
    "duration": 10,
    "start_time": "2022-05-24T21:31:26.013Z"
   },
   {
    "duration": 13,
    "start_time": "2022-05-24T21:31:26.025Z"
   },
   {
    "duration": 58,
    "start_time": "2022-05-24T21:31:26.040Z"
   },
   {
    "duration": 15,
    "start_time": "2022-05-24T21:31:26.106Z"
   },
   {
    "duration": 119,
    "start_time": "2022-05-24T21:31:26.197Z"
   },
   {
    "duration": 79,
    "start_time": "2022-05-24T21:31:26.319Z"
   },
   {
    "duration": 1483,
    "start_time": "2022-05-25T03:44:25.659Z"
   },
   {
    "duration": 5,
    "start_time": "2022-05-25T03:44:27.145Z"
   },
   {
    "duration": 90,
    "start_time": "2022-05-25T03:44:27.151Z"
   },
   {
    "duration": 6,
    "start_time": "2022-05-25T03:44:27.244Z"
   },
   {
    "duration": 10,
    "start_time": "2022-05-25T03:44:27.251Z"
   },
   {
    "duration": 6,
    "start_time": "2022-05-25T03:44:27.262Z"
   },
   {
    "duration": 11,
    "start_time": "2022-05-25T03:44:27.269Z"
   },
   {
    "duration": 163,
    "start_time": "2022-05-25T03:44:27.282Z"
   },
   {
    "duration": 10,
    "start_time": "2022-05-25T03:44:27.447Z"
   },
   {
    "duration": 25,
    "start_time": "2022-05-25T03:44:27.460Z"
   },
   {
    "duration": 167,
    "start_time": "2022-05-25T03:44:27.486Z"
   },
   {
    "duration": 70,
    "start_time": "2022-05-25T03:44:27.655Z"
   },
   {
    "duration": 122,
    "start_time": "2022-05-25T03:44:27.729Z"
   },
   {
    "duration": 21,
    "start_time": "2022-05-25T03:44:27.854Z"
   },
   {
    "duration": 71,
    "start_time": "2022-05-25T03:44:27.878Z"
   },
   {
    "duration": 174,
    "start_time": "2022-05-25T03:44:27.955Z"
   },
   {
    "duration": 117,
    "start_time": "2022-05-25T03:44:28.131Z"
   },
   {
    "duration": 200,
    "start_time": "2022-05-25T03:44:28.250Z"
   },
   {
    "duration": 64,
    "start_time": "2022-05-25T06:34:30.537Z"
   },
   {
    "duration": 1815,
    "start_time": "2022-05-25T06:34:36.211Z"
   },
   {
    "duration": 5,
    "start_time": "2022-05-25T06:34:38.028Z"
   },
   {
    "duration": 102,
    "start_time": "2022-05-25T06:34:38.034Z"
   },
   {
    "duration": 5,
    "start_time": "2022-05-25T06:34:38.138Z"
   },
   {
    "duration": 8,
    "start_time": "2022-05-25T06:34:42.167Z"
   },
   {
    "duration": 59,
    "start_time": "2022-05-26T19:21:36.951Z"
   },
   {
    "duration": 89,
    "start_time": "2022-05-27T16:59:16.255Z"
   },
   {
    "duration": 85,
    "start_time": "2022-05-27T18:01:02.810Z"
   },
   {
    "duration": 15,
    "start_time": "2022-05-27T18:01:07.997Z"
   },
   {
    "duration": 2203,
    "start_time": "2022-05-27T18:01:15.260Z"
   },
   {
    "duration": 3,
    "start_time": "2022-05-27T18:01:17.465Z"
   },
   {
    "duration": 241,
    "start_time": "2022-05-27T18:01:17.469Z"
   },
   {
    "duration": 449,
    "start_time": "2022-05-27T18:01:18.407Z"
   },
   {
    "duration": 10,
    "start_time": "2022-05-27T18:02:36.295Z"
   },
   {
    "duration": 2,
    "start_time": "2022-05-27T18:02:38.598Z"
   },
   {
    "duration": 3,
    "start_time": "2022-05-27T18:02:41.413Z"
   }
  ],
  "kernelspec": {
   "display_name": "Python 3 (ipykernel)",
   "language": "python",
   "name": "python3"
  },
  "language_info": {
   "codemirror_mode": {
    "name": "ipython",
    "version": 3
   },
   "file_extension": ".py",
   "mimetype": "text/x-python",
   "name": "python",
   "nbconvert_exporter": "python",
   "pygments_lexer": "ipython3",
   "version": "3.9.7"
  },
  "toc": {
   "base_numbering": 1,
   "nav_menu": {},
   "number_sections": true,
   "sideBar": true,
   "skip_h1_title": true,
   "title_cell": "Содержание",
   "title_sidebar": "Contents",
   "toc_cell": false,
   "toc_position": {
    "height": "calc(100% - 180px)",
    "left": "10px",
    "top": "150px",
    "width": "165px"
   },
   "toc_section_display": true,
   "toc_window_display": true
  }
 },
 "nbformat": 4,
 "nbformat_minor": 2
}
